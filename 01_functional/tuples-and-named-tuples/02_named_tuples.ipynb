{
 "cells": [
  {
   "cell_type": "markdown",
   "id": "c9e71e1c-ec1c-4318-9bf3-7fb87fbb9663",
   "metadata": {},
   "source": [
    "### Named Tuples\n",
    "\n",
    "They subclass tuple, and add a layer to assign property names to the positional elements\n",
    "Located in the <label style=\"color: #f37626;\">collections</label> standard library module\n",
    "\n",
    "```python\n",
    "from collections import namedtuple\n",
    "```\n",
    "\n",
    "<label style=\"color: #84e;\">namedtuple</label> is a function which generates a new class <label style=\"color: #f37626;\">( Class Factory )</label>\n",
    "\n",
    "* That new class inherits from tuple\n",
    "* Also provides named properties to access elements of the tuple\n",
    "* The instance of that class is still a tuple\n",
    "\n",
    "<label style=\"color: #84e;\">namedtuple</label> needs a few things to generate a class:\n",
    "\n",
    "* The class name we want to use\n",
    "* A sequence of field names (strings) we want to assign, in the order of the elements in the tuple\n",
    "    * field names can be any valid variable name\n",
    "    * except that they cannot start with an underscore\n",
    "The return value of the call to namedtuple will be a class.\n",
    "\n",
    "We need to assign that class to a variable in our code so we can use it to construct instances\n",
    "\n",
    "In general, we use the same name as the name of the class that was generated."
   ]
  },
  {
   "cell_type": "code",
   "execution_count": 17,
   "id": "9bb9b00f-2f83-4b4a-8519-0a9bc599d530",
   "metadata": {},
   "outputs": [],
   "source": [
    "from collections import namedtuple"
   ]
  },
  {
   "cell_type": "code",
   "execution_count": 2,
   "id": "a84f3cdb-5dd8-4463-8208-3df131486386",
   "metadata": {},
   "outputs": [],
   "source": [
    "Point2D = namedtuple('Point2D', ['x', 'y'])"
   ]
  },
  {
   "cell_type": "code",
   "execution_count": 7,
   "id": "ec03217b-11ed-4437-bf0d-2d4e160eea96",
   "metadata": {},
   "outputs": [],
   "source": [
    "pt = Point2D(10, 20)"
   ]
  },
  {
   "cell_type": "code",
   "execution_count": 8,
   "id": "c2b4ea4b-107d-4d27-8787-118e7b97fbb5",
   "metadata": {},
   "outputs": [
    {
     "name": "stdout",
     "output_type": "stream",
     "text": [
      "Point2D(x=10, y=20)\n"
     ]
    }
   ],
   "source": [
    "print(pt)"
   ]
  },
  {
   "cell_type": "code",
   "execution_count": 10,
   "id": "cdb9efbe-92bc-4f3e-bd71-04c20392f90a",
   "metadata": {},
   "outputs": [
    {
     "name": "stdout",
     "output_type": "stream",
     "text": [
      "10\n"
     ]
    }
   ],
   "source": [
    "print(pt.x)"
   ]
  },
  {
   "cell_type": "code",
   "execution_count": 11,
   "id": "b23cfcdb-9047-450b-9b5b-e2025c727f02",
   "metadata": {},
   "outputs": [
    {
     "name": "stdout",
     "output_type": "stream",
     "text": [
      "20\n"
     ]
    }
   ],
   "source": [
    "print(pt.y)"
   ]
  },
  {
   "cell_type": "code",
   "execution_count": 12,
   "id": "a266d8bb-4748-498c-8ad1-e3c8f0a3717b",
   "metadata": {},
   "outputs": [
    {
     "name": "stdout",
     "output_type": "stream",
     "text": [
      "Help on Point2D in module __main__ object:\n",
      "\n",
      "class Point2D(builtins.tuple)\n",
      " |  Point2D(x, y)\n",
      " |\n",
      " |  Point2D(x, y)\n",
      " |\n",
      " |  Method resolution order:\n",
      " |      Point2D\n",
      " |      builtins.tuple\n",
      " |      builtins.object\n",
      " |\n",
      " |  Methods defined here:\n",
      " |\n",
      " |  __getnewargs__(self)\n",
      " |      Return self as a plain tuple.  Used by copy and pickle.\n",
      " |\n",
      " |  __repr__(self)\n",
      " |      Return a nicely formatted representation string\n",
      " |\n",
      " |  _asdict(self)\n",
      " |      Return a new dict which maps field names to their values.\n",
      " |\n",
      " |  _replace(self, /, **kwds)\n",
      " |      Return a new Point2D object replacing specified fields with new values\n",
      " |\n",
      " |  ----------------------------------------------------------------------\n",
      " |  Class methods defined here:\n",
      " |\n",
      " |  _make(iterable) from builtins.type\n",
      " |      Make a new Point2D object from a sequence or iterable\n",
      " |\n",
      " |  ----------------------------------------------------------------------\n",
      " |  Static methods defined here:\n",
      " |\n",
      " |  __new__(_cls, x, y)\n",
      " |      Create new instance of Point2D(x, y)\n",
      " |\n",
      " |  ----------------------------------------------------------------------\n",
      " |  Data descriptors defined here:\n",
      " |\n",
      " |  x\n",
      " |      Alias for field number 0\n",
      " |\n",
      " |  y\n",
      " |      Alias for field number 1\n",
      " |\n",
      " |  ----------------------------------------------------------------------\n",
      " |  Data and other attributes defined here:\n",
      " |\n",
      " |  __match_args__ = ('x', 'y')\n",
      " |\n",
      " |  _field_defaults = {}\n",
      " |\n",
      " |  _fields = ('x', 'y')\n",
      " |\n",
      " |  ----------------------------------------------------------------------\n",
      " |  Methods inherited from builtins.tuple:\n",
      " |\n",
      " |  __add__(self, value, /)\n",
      " |      Return self+value.\n",
      " |\n",
      " |  __contains__(self, key, /)\n",
      " |      Return bool(key in self).\n",
      " |\n",
      " |  __eq__(self, value, /)\n",
      " |      Return self==value.\n",
      " |\n",
      " |  __ge__(self, value, /)\n",
      " |      Return self>=value.\n",
      " |\n",
      " |  __getattribute__(self, name, /)\n",
      " |      Return getattr(self, name).\n",
      " |\n",
      " |  __getitem__(self, key, /)\n",
      " |      Return self[key].\n",
      " |\n",
      " |  __gt__(self, value, /)\n",
      " |      Return self>value.\n",
      " |\n",
      " |  __hash__(self, /)\n",
      " |      Return hash(self).\n",
      " |\n",
      " |  __iter__(self, /)\n",
      " |      Implement iter(self).\n",
      " |\n",
      " |  __le__(self, value, /)\n",
      " |      Return self<=value.\n",
      " |\n",
      " |  __len__(self, /)\n",
      " |      Return len(self).\n",
      " |\n",
      " |  __lt__(self, value, /)\n",
      " |      Return self<value.\n",
      " |\n",
      " |  __mul__(self, value, /)\n",
      " |      Return self*value.\n",
      " |\n",
      " |  __ne__(self, value, /)\n",
      " |      Return self!=value.\n",
      " |\n",
      " |  __rmul__(self, value, /)\n",
      " |      Return value*self.\n",
      " |\n",
      " |  count(self, value, /)\n",
      " |      Return number of occurrences of value.\n",
      " |\n",
      " |  index(self, value, start=0, stop=9223372036854775807, /)\n",
      " |      Return first index of value.\n",
      " |\n",
      " |      Raises ValueError if the value is not present.\n",
      " |\n",
      " |  ----------------------------------------------------------------------\n",
      " |  Class methods inherited from builtins.tuple:\n",
      " |\n",
      " |  __class_getitem__(...) from builtins.type\n",
      " |      See PEP 585\n",
      "\n"
     ]
    }
   ],
   "source": [
    "help(pt)"
   ]
  },
  {
   "cell_type": "code",
   "execution_count": 14,
   "id": "888012e9-0352-4f82-88c0-d8cef49b8570",
   "metadata": {},
   "outputs": [
    {
     "data": {
      "text/plain": [
       "'Point2D(x, y)'"
      ]
     },
     "execution_count": 14,
     "metadata": {},
     "output_type": "execute_result"
    }
   ],
   "source": [
    "pt.__doc__"
   ]
  },
  {
   "cell_type": "code",
   "execution_count": 18,
   "id": "73d98ab8-8386-4c3b-941f-2354f624f84f",
   "metadata": {},
   "outputs": [
    {
     "data": {
      "text/plain": [
       "{'x': 10, 'y': 20}"
      ]
     },
     "execution_count": 18,
     "metadata": {},
     "output_type": "execute_result"
    }
   ],
   "source": [
    "pt._asdict()"
   ]
  },
  {
   "cell_type": "code",
   "execution_count": null,
   "id": "e470c9c0-9174-4169-b899-114f83131824",
   "metadata": {},
   "outputs": [],
   "source": []
  }
 ],
 "metadata": {
  "kernelspec": {
   "display_name": "Python 3 (ipykernel)",
   "language": "python",
   "name": "python3"
  },
  "language_info": {
   "codemirror_mode": {
    "name": "ipython",
    "version": 3
   },
   "file_extension": ".py",
   "mimetype": "text/x-python",
   "name": "python",
   "nbconvert_exporter": "python",
   "pygments_lexer": "ipython3",
   "version": "3.12.2"
  }
 },
 "nbformat": 4,
 "nbformat_minor": 5
}
