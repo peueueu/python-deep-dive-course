{
 "cells": [
  {
   "cell_type": "markdown",
   "id": "980810a3-77cd-48fd-b5be-eb7abaf2d848",
   "metadata": {},
   "source": [
    "### Some languages are statically typed like: Java, C++, Swift\n",
    "\n",
    "Example:\n",
    "\n",
    "```java\n",
    "    String myVar = \"Hello\";\n",
    "```\n",
    "\n",
    "In this case the String literal hello is created at some address in memory, let's say like 0x1000 and has a data type of String, and myVar is variable with an associated data type of string and makes reference to the memory location where the String literal is located (0x1000).\n",
    "\n",
    "### Talking about the dynamically typed languages like: Python\n",
    "\n",
    "Example:\n",
    "\n",
    "```python\n",
    "    my_var = \"hello\"\n",
    "```\n",
    "\n",
    "In python the my_var holds only a reference to the object stored at it, at this time this object is of type string, but as my_var doesn't have a data type it can be change to a integer for example or for a lambda expression (function), That works because dynamically typed languages doesn't hold the data type of the variable, instead they reference only to the location of the value object in memory and that object has an type."
   ]
  },
  {
   "cell_type": "code",
   "execution_count": 3,
   "id": "21c9eec9-4739-4ab5-aa0a-8cc3c5a533b1",
   "metadata": {},
   "outputs": [],
   "source": [
    "a = \"hello\""
   ]
  },
  {
   "cell_type": "code",
   "execution_count": 4,
   "id": "977f6ce1-270d-4b8e-874b-d02456f477ef",
   "metadata": {},
   "outputs": [
    {
     "data": {
      "text/plain": [
       "str"
      ]
     },
     "execution_count": 4,
     "metadata": {},
     "output_type": "execute_result"
    }
   ],
   "source": [
    "type(a)"
   ]
  },
  {
   "cell_type": "code",
   "execution_count": 5,
   "id": "de856950-427b-4590-b642-351bd573c912",
   "metadata": {},
   "outputs": [],
   "source": [
    "a = 10"
   ]
  },
  {
   "cell_type": "code",
   "execution_count": 6,
   "id": "a25a3a85-0bc7-43cb-b72a-b30480daf73d",
   "metadata": {},
   "outputs": [
    {
     "data": {
      "text/plain": [
       "int"
      ]
     },
     "execution_count": 6,
     "metadata": {},
     "output_type": "execute_result"
    }
   ],
   "source": [
    "type(a)"
   ]
  },
  {
   "cell_type": "code",
   "execution_count": 7,
   "id": "094ac08c-d026-4b96-828f-d602a5df8130",
   "metadata": {},
   "outputs": [
    {
     "data": {
      "text/plain": [
       "4"
      ]
     },
     "execution_count": 7,
     "metadata": {},
     "output_type": "execute_result"
    }
   ],
   "source": [
    "a = lambda x: x**2\n",
    "a(2)"
   ]
  },
  {
   "cell_type": "code",
   "execution_count": 8,
   "id": "40ffff44-4149-4f78-9a28-6464d132d107",
   "metadata": {},
   "outputs": [
    {
     "data": {
      "text/plain": [
       "function"
      ]
     },
     "execution_count": 8,
     "metadata": {},
     "output_type": "execute_result"
    }
   ],
   "source": [
    "type(a)"
   ]
  },
  {
   "cell_type": "code",
   "execution_count": 9,
   "id": "90ad852d-952b-40da-8cf8-b8baf57934ef",
   "metadata": {},
   "outputs": [],
   "source": [
    "a = 3 + 4j"
   ]
  },
  {
   "cell_type": "code",
   "execution_count": 10,
   "id": "ee24e5e0-926b-454b-9c4c-b18e316f2d70",
   "metadata": {},
   "outputs": [
    {
     "data": {
      "text/plain": [
       "complex"
      ]
     },
     "execution_count": 10,
     "metadata": {},
     "output_type": "execute_result"
    }
   ],
   "source": [
    "type(a)"
   ]
  },
  {
   "cell_type": "code",
   "execution_count": null,
   "id": "4f332dbb-22d3-43a9-986b-31e0625a9e13",
   "metadata": {
    "editable": true,
    "slideshow": {
     "slide_type": ""
    },
    "tags": []
   },
   "outputs": [],
   "source": []
  }
 ],
 "metadata": {
  "kernelspec": {
   "display_name": "Python 3 (ipykernel)",
   "language": "python",
   "name": "python3"
  },
  "language_info": {
   "codemirror_mode": {
    "name": "ipython",
    "version": 3
   },
   "file_extension": ".py",
   "mimetype": "text/x-python",
   "name": "python",
   "nbconvert_exporter": "python",
   "pygments_lexer": "ipython3",
   "version": "3.12.2"
  }
 },
 "nbformat": 4,
 "nbformat_minor": 5
}
