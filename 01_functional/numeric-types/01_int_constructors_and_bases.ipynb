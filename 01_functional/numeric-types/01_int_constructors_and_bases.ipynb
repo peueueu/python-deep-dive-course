{
 "cells": [
  {
   "cell_type": "code",
   "execution_count": 61,
   "id": "8b08c5dc-a65b-47e9-9d01-684870c16caa",
   "metadata": {},
   "outputs": [],
   "source": [
    "def from_base10(number, base):\n",
    "    if base < 2:\n",
    "        raise ValueError(\"The base arg must be >= 2\")\n",
    "    if number < 0:\n",
    "        raise ValueError(\"The number arg must be >= 0\")\n",
    "    if number == 0:\n",
    "        return [0]\n",
    "    digits = []\n",
    "    while number > 0:\n",
    "        number, mod = divmod(number, base)\n",
    "        digits.insert(0, mod)\n",
    "    return digits"
   ]
  },
  {
   "cell_type": "code",
   "execution_count": 62,
   "id": "32ee1529-9264-48e3-bf94-ce786df0cef3",
   "metadata": {},
   "outputs": [
    {
     "name": "stdout",
     "output_type": "stream",
     "text": [
      "Help on built-in function divmod in module builtins:\n",
      "\n",
      "divmod(x, y, /)\n",
      "    Return the tuple (x//y, x%y).  Invariant: div*y + mod == x.\n",
      "\n"
     ]
    }
   ],
   "source": [
    "help(divmod)"
   ]
  },
  {
   "cell_type": "code",
   "execution_count": 63,
   "id": "bff92dca-60f3-4783-aea8-2ee7a60bf784",
   "metadata": {},
   "outputs": [],
   "source": [
    "def encode(digits, digits_map):\n",
    "    if max(digits) >= len(digits_map):\n",
    "        raise ValueError(\"digit_map is not long enough to encode the digits\")\n",
    "    return ''.join([digits_map[digit] for digit in digits])"
   ]
  },
  {
   "cell_type": "code",
   "execution_count": 74,
   "id": "5c000698-f086-460c-9af1-12fd02f4afae",
   "metadata": {},
   "outputs": [],
   "source": [
    "def rebase_from10(number: int, base: int) -> str:\n",
    "    \"\"\"\n",
    "        number: The integer value that you which to change the representation\n",
    "        base: The representation base in which you want to display the number\n",
    "\n",
    "        returns an string of that representation.\n",
    "    \"\"\"\n",
    "    digit_map = '0123456789ABCDEFGHIJKLMNOPQRSTUVWXYZ'\n",
    "    if base < 2 or base > 36:\n",
    "        raise ValueError('Invalid base: 2 <= base <= 36')\n",
    "    sign = -1 if number < 0 else 1\n",
    "    number *= sign\n",
    "\n",
    "    digits = from_base10(number, base)\n",
    "    encoding = encode(digits, digit_map)\n",
    "    if sign == -1:\n",
    "        encoding = '-' + encoding\n",
    "    return encoding"
   ]
  },
  {
   "cell_type": "code",
   "execution_count": 75,
   "id": "b3fb9830-d050-443e-86e7-ccfb43bbe375",
   "metadata": {},
   "outputs": [
    {
     "data": {
      "text/plain": [
       "'10100000101011100101011001'"
      ]
     },
     "execution_count": 75,
     "metadata": {},
     "output_type": "execute_result"
    }
   ],
   "source": [
    "rebase_from10(42121561, 2)"
   ]
  },
  {
   "cell_type": "code",
   "execution_count": 3,
   "id": "6ed72f0a-f256-44d4-8666-9cf04341da93",
   "metadata": {},
   "outputs": [
    {
     "data": {
      "text/plain": [
       "False"
      ]
     },
     "execution_count": 3,
     "metadata": {},
     "output_type": "execute_result"
    }
   ],
   "source": [
    "0.1 + 0.1 + 0.1 == 0.3"
   ]
  },
  {
   "cell_type": "code",
   "execution_count": 4,
   "id": "0413d110-2f33-4d83-9e09-a9b558bd86d6",
   "metadata": {},
   "outputs": [
    {
     "data": {
      "text/plain": [
       "True"
      ]
     },
     "execution_count": 4,
     "metadata": {},
     "output_type": "execute_result"
    }
   ],
   "source": [
    "round(0.1 + 0.1 + 0.1, 5) == round(0.3, 5)"
   ]
  },
  {
   "cell_type": "code",
   "execution_count": null,
   "id": "1335b8db-78df-44ac-a603-4ede463d8fb2",
   "metadata": {},
   "outputs": [],
   "source": []
  }
 ],
 "metadata": {
  "kernelspec": {
   "display_name": "Python 3 (ipykernel)",
   "language": "python",
   "name": "python3"
  },
  "language_info": {
   "codemirror_mode": {
    "name": "ipython",
    "version": 3
   },
   "file_extension": ".py",
   "mimetype": "text/x-python",
   "name": "python",
   "nbconvert_exporter": "python",
   "pygments_lexer": "ipython3",
   "version": "3.12.2"
  }
 },
 "nbformat": 4,
 "nbformat_minor": 5
}
