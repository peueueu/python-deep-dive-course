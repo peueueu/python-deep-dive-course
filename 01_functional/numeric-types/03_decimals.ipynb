{
 "cells": [
  {
   "cell_type": "code",
   "execution_count": 19,
   "id": "d9684741-5e27-4c6e-a2f8-c9ee918be9f2",
   "metadata": {},
   "outputs": [],
   "source": [
    "import decimal\n",
    "from decimal import Decimal"
   ]
  },
  {
   "cell_type": "code",
   "execution_count": 20,
   "id": "94e594d8-168d-42e1-a55e-90caae836743",
   "metadata": {},
   "outputs": [],
   "source": [
    "x = Decimal('1.25')\n",
    "y = Decimal('1.35')"
   ]
  },
  {
   "cell_type": "code",
   "execution_count": 24,
   "id": "d6dc3eab-c7db-4c01-97dd-683f87a53955",
   "metadata": {},
   "outputs": [
    {
     "name": "stdout",
     "output_type": "stream",
     "text": [
      "1.3\n",
      "1.4\n",
      "\n",
      "At module level\n",
      "\n",
      "1.2\n",
      "1.4\n"
     ]
    }
   ],
   "source": [
    "with decimal.localcontext() as ctx:\n",
    "    ctx.prec = 6\n",
    "    ctx.rounding = decimal.ROUND_HALF_UP\n",
    "    print(round(x, 1))\n",
    "    print(round(y, 1))\n",
    "print(f'\\nAt module level\\n')\n",
    "print(round(x, 1))\n",
    "print(round(y, 1))"
   ]
  },
  {
   "cell_type": "markdown",
   "id": "3a086c57-ddcd-4977-b29f-ab0262429ff7",
   "metadata": {},
   "source": [
    "### Decimal Tuple Contructor\n",
    "\n",
    "The `Decimal` class receiving a tuple works in the following way:\n",
    "\n",
    "```python\n",
    "    \"\"\"\n",
    "        First Arg [sign]: parameter receives an integer 0 or 1, where 0 represents numbers >= 0 and 1 numbers < 0\n",
    "        Second Arg [tuple of digits]: tuple(digits)\n",
    "        Third Arg [exponential]: parameter represent the exponential of the number. \n",
    "    \"\"\"\n",
    "    #Example -3.1415\n",
    "\n",
    "    a = Decimal((1, (3, 1, 4, 1, 5), -4))\n",
    "```"
   ]
  },
  {
   "cell_type": "code",
   "execution_count": null,
   "id": "df5e82af-3572-45da-a9ce-e4b8bceb0e64",
   "metadata": {},
   "outputs": [],
   "source": []
  }
 ],
 "metadata": {
  "kernelspec": {
   "display_name": "Python 3 (ipykernel)",
   "language": "python",
   "name": "python3"
  },
  "language_info": {
   "codemirror_mode": {
    "name": "ipython",
    "version": 3
   },
   "file_extension": ".py",
   "mimetype": "text/x-python",
   "name": "python",
   "nbconvert_exporter": "python",
   "pygments_lexer": "ipython3",
   "version": "3.12.2"
  }
 },
 "nbformat": 4,
 "nbformat_minor": 5
}
