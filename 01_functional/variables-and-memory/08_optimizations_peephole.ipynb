{
 "cells": [
  {
   "cell_type": "markdown",
   "id": "8ebca8fa-6481-469e-b859-f26b5de5ae92",
   "metadata": {},
   "source": [
    "# Peepholes\n",
    "\n",
    "This is another variety of optimizationsthat can occur at compile time.\n",
    "\n",
    "**Constant expressions**\n",
    "\n",
    " * Numeric Calculations:\n",
    "     * `24 * 60`  Python will actually pre-calc 24 * 60 -> 1440\n",
    " * Short sequences (len < 20):\n",
    "     * `(1, 2) * 5`\n",
    "     * `abc` * 3\n",
    "     * `'hello' + 'world'`\n",
    "\n",
    "**Membership Tests: Mutables are replaced by immutables**\n",
    "\n",
    "When membership tests such as:\n",
    "    `if element in [1, 2, 3]: ` are encountered, the `[1, 2, 3]` constant, is replaced by it's immutable counterpart (*tuple*).\n",
    "    \n",
    "*<small>this only applies if the values inside the list are constants, if it stored variable names this would mean that the values could \n",
    "change.</small>*\n",
    "\n",
    "According to this behavior, we would have the following replacements:\n",
    "* list -> tuples\n",
    "* sets -> frozensets `Set membership is much faster than list or tuple membership (sets are basically like dicts)`\n",
    "    * So instead of writing:\n",
    "      ```python\n",
    "          if element in [1, 2, 3]:\n",
    "              ...\n",
    "          # or\n",
    "          if element in (1, 2, 3):\n",
    "              ...\n",
    "          # we could write\n",
    "          if element in {1, 2, 3}:\n",
    "              ...\n",
    "      ```"
   ]
  },
  {
   "cell_type": "code",
   "execution_count": 1,
   "id": "8bde485b-50b7-435e-be8f-e8ad1dcf70cb",
   "metadata": {},
   "outputs": [],
   "source": [
    "def my_func():\n",
    "    a = 24 * 60\n",
    "    b = (1, 2) * 5\n",
    "    c = 'abc' * 3\n",
    "    d = 'ab' * 11\n",
    "    e = 'the quick brown fox' * 5\n",
    "    f = ['a', 'b'] * 3"
   ]
  },
  {
   "cell_type": "code",
   "execution_count": 2,
   "id": "b4ec8972-4e32-4013-a3db-f84157ce544e",
   "metadata": {},
   "outputs": [
    {
     "data": {
      "text/plain": [
       "(None,\n",
       " 1440,\n",
       " (1, 2, 1, 2, 1, 2, 1, 2, 1, 2),\n",
       " 'abcabcabc',\n",
       " 'ababababababababababab',\n",
       " 'the quick brown foxthe quick brown foxthe quick brown foxthe quick brown foxthe quick brown fox',\n",
       " 'a',\n",
       " 'b',\n",
       " 3)"
      ]
     },
     "execution_count": 2,
     "metadata": {},
     "output_type": "execute_result"
    }
   ],
   "source": [
    "my_func.__code__.co_consts"
   ]
  },
  {
   "cell_type": "code",
   "execution_count": 3,
   "id": "5c7f2c04-1979-458f-b49f-dea209b73cd2",
   "metadata": {},
   "outputs": [],
   "source": [
    "def my_func(e):\n",
    "    if e in [1, 2, 3]:\n",
    "        pass"
   ]
  },
  {
   "cell_type": "code",
   "execution_count": 4,
   "id": "3db4957a-314c-4cd5-88e2-cae349ee77cb",
   "metadata": {},
   "outputs": [
    {
     "data": {
      "text/plain": [
       "(None, (1, 2, 3))"
      ]
     },
     "execution_count": 4,
     "metadata": {},
     "output_type": "execute_result"
    }
   ],
   "source": [
    "my_func.__code__.co_consts"
   ]
  },
  {
   "cell_type": "code",
   "execution_count": 5,
   "id": "55caef51-beb2-4989-a5ba-27fa66905894",
   "metadata": {},
   "outputs": [],
   "source": [
    "def my_func(e):\n",
    "    if e in {1, 2, 3}:\n",
    "        pass"
   ]
  },
  {
   "cell_type": "code",
   "execution_count": 6,
   "id": "41709714-b941-4775-995a-47923d90f42b",
   "metadata": {},
   "outputs": [
    {
     "data": {
      "text/plain": [
       "(None, frozenset({1, 2, 3}))"
      ]
     },
     "execution_count": 6,
     "metadata": {},
     "output_type": "execute_result"
    }
   ],
   "source": [
    "my_func.__code__.co_consts"
   ]
  },
  {
   "cell_type": "markdown",
   "id": "f176321e-dc1f-4014-899a-b15b02cac0b9",
   "metadata": {},
   "source": [
    "### Benchmark List Membership vs Set Membership"
   ]
  },
  {
   "cell_type": "code",
   "execution_count": 7,
   "id": "61fecddc-5366-4f39-91fa-1f5ebfc50b9f",
   "metadata": {},
   "outputs": [],
   "source": [
    "import string\n",
    "import time"
   ]
  },
  {
   "cell_type": "code",
   "execution_count": 9,
   "id": "39f3fb21-d150-4fd3-a2a6-878187b6a168",
   "metadata": {},
   "outputs": [],
   "source": [
    "char_list = list(string.ascii_letters)\n",
    "char_tuple = tuple(string.ascii_letters)\n",
    "char_set = set(string.ascii_letters)"
   ]
  },
  {
   "cell_type": "code",
   "execution_count": 11,
   "id": "1fa55462-7bb0-4780-b26d-808f97f29677",
   "metadata": {},
   "outputs": [],
   "source": [
    "def membership_test(n, container):\n",
    "    for i in range(n):\n",
    "        if 'z' in container:\n",
    "            pass"
   ]
  },
  {
   "cell_type": "code",
   "execution_count": 25,
   "id": "6e413020-8721-4ca9-b735-383825d14ad0",
   "metadata": {},
   "outputs": [
    {
     "name": "stdout",
     "output_type": "stream",
     "text": [
      "List membership_test took: 4.174302569997963MS\n"
     ]
    }
   ],
   "source": [
    "# List Membership Benchmarking\n",
    "start = time.perf_counter()\n",
    "membership_test(10000000, char_list)\n",
    "end = time.perf_counter()\n",
    "time_spent = end - start\n",
    "print('List membership_test took: {time_spent}MS'.format(time_spent=time_spent))"
   ]
  },
  {
   "cell_type": "code",
   "execution_count": 26,
   "id": "87995e1a-c419-4aab-8e37-5762a4907680",
   "metadata": {},
   "outputs": [
    {
     "name": "stdout",
     "output_type": "stream",
     "text": [
      "Tuple membership_test took: 3.7404848340083845MS\n"
     ]
    }
   ],
   "source": [
    "# Tuple Membership Benchmarking\n",
    "start = time.perf_counter()\n",
    "membership_test(10000000, char_tuple)\n",
    "end = time.perf_counter()\n",
    "time_spent = end - start\n",
    "print('Tuple membership_test took: {time_spent}MS'.format(time_spent=time_spent))"
   ]
  },
  {
   "cell_type": "code",
   "execution_count": 27,
   "id": "0865463f-fe76-42d2-ab41-ae32e3c184d9",
   "metadata": {},
   "outputs": [
    {
     "name": "stdout",
     "output_type": "stream",
     "text": [
      "Set membership_test took: 0.41692683595465496MS\n"
     ]
    }
   ],
   "source": [
    "# Set Membership Benchmarking\n",
    "start = time.perf_counter()\n",
    "membership_test(10000000, char_set)\n",
    "end = time.perf_counter()\n",
    "time_spent = end - start\n",
    "print('Set membership_test took: {time_spent}MS'.format(time_spent=time_spent))"
   ]
  }
 ],
 "metadata": {
  "kernelspec": {
   "display_name": "Python 3 (ipykernel)",
   "language": "python",
   "name": "python3"
  },
  "language_info": {
   "codemirror_mode": {
    "name": "ipython",
    "version": 3
   },
   "file_extension": ".py",
   "mimetype": "text/x-python",
   "name": "python",
   "nbconvert_exporter": "python",
   "pygments_lexer": "ipython3",
   "version": "3.12.2"
  }
 },
 "nbformat": 4,
 "nbformat_minor": 5
}
