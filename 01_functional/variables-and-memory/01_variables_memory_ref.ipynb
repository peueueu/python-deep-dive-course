{
 "cells": [
  {
   "cell_type": "code",
   "execution_count": 69,
   "id": "a318ad96-127e-4451-906b-c0f21fe67146",
   "metadata": {},
   "outputs": [],
   "source": [
    "my_var = 10"
   ]
  },
  {
   "cell_type": "code",
   "execution_count": 70,
   "id": "2ce75286-f1ed-45ec-8ded-2b0f75431d7f",
   "metadata": {},
   "outputs": [
    {
     "name": "stdout",
     "output_type": "stream",
     "text": [
      "10\n"
     ]
    }
   ],
   "source": [
    "print(my_var)"
   ]
  },
  {
   "cell_type": "code",
   "execution_count": 71,
   "id": "7db903b9-af77-489d-b0f3-2d5e9ca08f23",
   "metadata": {},
   "outputs": [],
   "source": [
    "### memory location of the variable"
   ]
  },
  {
   "cell_type": "code",
   "execution_count": 72,
   "id": "9e60342f-4df5-478e-9abe-88177b7abd6f",
   "metadata": {},
   "outputs": [
    {
     "name": "stdout",
     "output_type": "stream",
     "text": [
      "0x10c69a0c8\n"
     ]
    }
   ],
   "source": [
    "print(hex(id(my_var)))"
   ]
  },
  {
   "cell_type": "code",
   "execution_count": 73,
   "id": "6f53ebde-195f-4088-946e-e36dd1333c66",
   "metadata": {},
   "outputs": [],
   "source": [
    "greeting = 'hello'"
   ]
  },
  {
   "cell_type": "code",
   "execution_count": 74,
   "id": "5c864655-bbe4-476d-ab36-3e2e461542a9",
   "metadata": {},
   "outputs": [
    {
     "name": "stdout",
     "output_type": "stream",
     "text": [
      "hello\n"
     ]
    }
   ],
   "source": [
    "print(greeting)"
   ]
  },
  {
   "cell_type": "code",
   "execution_count": 75,
   "id": "6d828c86-d4e0-4e22-bd8f-938b156313db",
   "metadata": {},
   "outputs": [],
   "source": [
    "### memory location of the variable"
   ]
  },
  {
   "cell_type": "code",
   "execution_count": 76,
   "id": "ed2d5d5e-e6f3-4adc-b625-bc39b12d11fb",
   "metadata": {},
   "outputs": [
    {
     "name": "stdout",
     "output_type": "stream",
     "text": [
      "0x10e422730\n"
     ]
    }
   ],
   "source": [
    "print(hex(id(greeting)))"
   ]
  },
  {
   "cell_type": "code",
   "execution_count": 77,
   "id": "17c0ad41-b3b5-417d-9467-b7a7b54aeaa4",
   "metadata": {},
   "outputs": [],
   "source": [
    "y = greeting"
   ]
  },
  {
   "cell_type": "code",
   "execution_count": 78,
   "id": "5b3a0c75-5151-4ecc-a06a-945ac47c4935",
   "metadata": {},
   "outputs": [
    {
     "name": "stdout",
     "output_type": "stream",
     "text": [
      "0x10e422730\n"
     ]
    }
   ],
   "source": [
    "print(hex(id(y)))"
   ]
  },
  {
   "cell_type": "code",
   "execution_count": 79,
   "id": "cd2f73e4-b7a2-4d32-bac1-50ef28f4f2f3",
   "metadata": {},
   "outputs": [],
   "source": [
    "del y"
   ]
  },
  {
   "cell_type": "code",
   "execution_count": 80,
   "id": "714e5a35-defe-4fbb-b115-86e942ced4cf",
   "metadata": {},
   "outputs": [
    {
     "ename": "NameError",
     "evalue": "name 'y' is not defined",
     "output_type": "error",
     "traceback": [
      "\u001b[0;31m---------------------------------------------------------------------------\u001b[0m",
      "\u001b[0;31mNameError\u001b[0m                                 Traceback (most recent call last)",
      "Cell \u001b[0;32mIn[80], line 1\u001b[0m\n\u001b[0;32m----> 1\u001b[0m \u001b[38;5;28mprint\u001b[39m(\u001b[43my\u001b[49m)\n",
      "\u001b[0;31mNameError\u001b[0m: name 'y' is not defined"
     ]
    }
   ],
   "source": [
    "print(y)"
   ]
  },
  {
   "cell_type": "code",
   "execution_count": 123,
   "id": "5dec2386-a6c7-494c-b12d-7b525c121b43",
   "metadata": {},
   "outputs": [],
   "source": [
    "import sys"
   ]
  },
  {
   "cell_type": "code",
   "execution_count": 124,
   "id": "e6bde047-745e-43ea-b55c-36a4deaee1b5",
   "metadata": {},
   "outputs": [
    {
     "data": {
      "text/plain": [
       "4294967295"
      ]
     },
     "execution_count": 124,
     "metadata": {},
     "output_type": "execute_result"
    }
   ],
   "source": [
    "sys.getrefcount(greeting)"
   ]
  },
  {
   "cell_type": "code",
   "execution_count": 125,
   "id": "eb1fb9fc-3aa8-4134-95f1-f5d47c5a9154",
   "metadata": {},
   "outputs": [
    {
     "data": {
      "text/plain": [
       "4294967295"
      ]
     },
     "execution_count": 125,
     "metadata": {},
     "output_type": "execute_result"
    }
   ],
   "source": [
    "import ctypes\n",
    "\n",
    "ctypes.c_long.from_address(id(greeting)).value"
   ]
  },
  {
   "cell_type": "code",
   "execution_count": 126,
   "id": "c388a086-61c6-4f7a-9c30-b0e08b679a0c",
   "metadata": {},
   "outputs": [
    {
     "data": {
      "text/plain": [
       "4538207040"
      ]
     },
     "execution_count": 126,
     "metadata": {},
     "output_type": "execute_result"
    }
   ],
   "source": [
    "a = [1, 2, 3]\n",
    "id(a)"
   ]
  },
  {
   "cell_type": "code",
   "execution_count": 127,
   "id": "942295c6-5688-4c2d-a1aa-252edd24b3ca",
   "metadata": {},
   "outputs": [
    {
     "data": {
      "text/plain": [
       "1"
      ]
     },
     "execution_count": 127,
     "metadata": {},
     "output_type": "execute_result"
    }
   ],
   "source": [
    "def ref_count(address: int):\n",
    "    return ctypes.c_long.from_address(address).value\n",
    "\n",
    "ref_count(address=id(a))"
   ]
  },
  {
   "cell_type": "code",
   "execution_count": 128,
   "id": "911d68f6-f6b9-41a4-933a-f0e8494d19ac",
   "metadata": {},
   "outputs": [
    {
     "data": {
      "text/plain": [
       "2"
      ]
     },
     "execution_count": 128,
     "metadata": {},
     "output_type": "execute_result"
    }
   ],
   "source": [
    "sys.getrefcount(a)"
   ]
  },
  {
   "cell_type": "code",
   "execution_count": 129,
   "id": "a6b96700-2e34-4a4b-b24d-709cf70ad71c",
   "metadata": {},
   "outputs": [],
   "source": [
    "b = a"
   ]
  },
  {
   "cell_type": "code",
   "execution_count": 130,
   "id": "2ebacdcf-13b8-4493-94a7-6ec336ba945a",
   "metadata": {},
   "outputs": [
    {
     "data": {
      "text/plain": [
       "2"
      ]
     },
     "execution_count": 130,
     "metadata": {},
     "output_type": "execute_result"
    }
   ],
   "source": [
    "ref_count(address=id(a))"
   ]
  },
  {
   "cell_type": "code",
   "execution_count": 131,
   "id": "d7c50936-0a1a-48a4-b5cc-5047591bd61c",
   "metadata": {},
   "outputs": [],
   "source": [
    "c = a"
   ]
  },
  {
   "cell_type": "code",
   "execution_count": 132,
   "id": "e253553e-9320-4864-8ee7-1c107b2b709a",
   "metadata": {},
   "outputs": [
    {
     "data": {
      "text/plain": [
       "3"
      ]
     },
     "execution_count": 132,
     "metadata": {},
     "output_type": "execute_result"
    }
   ],
   "source": [
    "ref_count(address=id(a))"
   ]
  },
  {
   "cell_type": "code",
   "execution_count": 133,
   "id": "6bd065de-7787-412b-86e1-c682de25fccc",
   "metadata": {},
   "outputs": [],
   "source": [
    "c = 10"
   ]
  },
  {
   "cell_type": "code",
   "execution_count": 134,
   "id": "29d30ab7-3d03-45b1-b526-c5292da728f5",
   "metadata": {},
   "outputs": [
    {
     "data": {
      "text/plain": [
       "2"
      ]
     },
     "execution_count": 134,
     "metadata": {},
     "output_type": "execute_result"
    }
   ],
   "source": [
    "ref_count(address=id(a))"
   ]
  },
  {
   "cell_type": "code",
   "execution_count": 135,
   "id": "0f9a2479-3831-469b-bd4a-deb1b077ceb2",
   "metadata": {},
   "outputs": [],
   "source": [
    "b = None"
   ]
  },
  {
   "cell_type": "code",
   "execution_count": 136,
   "id": "a4ecd89a-05ba-4eb9-8544-768771547244",
   "metadata": {},
   "outputs": [
    {
     "data": {
      "text/plain": [
       "1"
      ]
     },
     "execution_count": 136,
     "metadata": {},
     "output_type": "execute_result"
    }
   ],
   "source": [
    "ref_count(address=id(a))"
   ]
  },
  {
   "cell_type": "code",
   "execution_count": 137,
   "id": "ab133cd8-e7ab-4d1e-aeb8-7eff54a45cd7",
   "metadata": {
    "editable": true,
    "slideshow": {
     "slide_type": ""
    },
    "tags": []
   },
   "outputs": [
    {
     "data": {
      "text/plain": [
       "1"
      ]
     },
     "execution_count": 137,
     "metadata": {},
     "output_type": "execute_result"
    }
   ],
   "source": [
    "a_id = id(a)\n",
    "a = None\n",
    "ref_count(address=a_id)"
   ]
  },
  {
   "cell_type": "code",
   "execution_count": 138,
   "id": "0cbca9f1-2e3f-4243-9fb4-fc931a3fdb4f",
   "metadata": {},
   "outputs": [
    {
     "data": {
      "text/plain": [
       "1"
      ]
     },
     "execution_count": 138,
     "metadata": {},
     "output_type": "execute_result"
    }
   ],
   "source": [
    "ref_count(address=a_id)"
   ]
  },
  {
   "cell_type": "code",
   "execution_count": 139,
   "id": "73d3be1c-1ee9-4efa-b13b-45a54a11ad99",
   "metadata": {},
   "outputs": [
    {
     "data": {
      "text/plain": [
       "1"
      ]
     },
     "execution_count": 139,
     "metadata": {},
     "output_type": "execute_result"
    }
   ],
   "source": [
    "ref_count(address=a_id)"
   ]
  },
  {
   "cell_type": "code",
   "execution_count": null,
   "id": "1fabce36-ee17-426c-8c68-7748a705ad74",
   "metadata": {},
   "outputs": [],
   "source": []
  }
 ],
 "metadata": {
  "kernelspec": {
   "display_name": "Python 3 (ipykernel)",
   "language": "python",
   "name": "python3"
  },
  "language_info": {
   "codemirror_mode": {
    "name": "ipython",
    "version": 3
   },
   "file_extension": ".py",
   "mimetype": "text/x-python",
   "name": "python",
   "nbconvert_exporter": "python",
   "pygments_lexer": "ipython3",
   "version": "3.12.2"
  }
 },
 "nbformat": 4,
 "nbformat_minor": 5
}
