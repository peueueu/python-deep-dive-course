{
 "cells": [
  {
   "cell_type": "code",
   "execution_count": 306,
   "id": "041f6834-d24e-48c3-aa1b-e302c35d2b85",
   "metadata": {},
   "outputs": [],
   "source": [
    "import ctypes\n",
    "import gc"
   ]
  },
  {
   "cell_type": "code",
   "execution_count": 307,
   "id": "f3103072-7e9d-43e3-8d8b-007f3fb321ec",
   "metadata": {},
   "outputs": [],
   "source": [
    "def ref_count(address: int):\n",
    "    return ctypes.c_long.from_address(address).value"
   ]
  },
  {
   "cell_type": "code",
   "execution_count": 308,
   "id": "a3eb91e0-06d1-40b4-99aa-dccc5b3b808d",
   "metadata": {},
   "outputs": [],
   "source": [
    "def object_by_id(object_id):\n",
    "    for obj in gc.get_objects():\n",
    "        if id(obj) == object_id:\n",
    "            return \"Object Exists!\"\n",
    "        return \"Not Found!\""
   ]
  },
  {
   "cell_type": "code",
   "execution_count": 309,
   "id": "de50c749-eb77-4bf2-9fe9-1006dd8ffc8a",
   "metadata": {},
   "outputs": [],
   "source": [
    "class A:\n",
    "    def __init__(self):\n",
    "        self.b = B(self)\n",
    "        print('A: self: {0}, b: {1}'.format(hex(id(self)), hex(id(self.b))))"
   ]
  },
  {
   "cell_type": "code",
   "execution_count": 310,
   "id": "77753ca6-c689-432d-a9b9-88918c58d7c1",
   "metadata": {},
   "outputs": [],
   "source": [
    "class B:\n",
    "    def __init__(self, a):\n",
    "        self.a = a\n",
    "        print('B: self: {0}, a: {1}'.format(hex(id(self)), hex(id(self.a))))"
   ]
  },
  {
   "cell_type": "code",
   "execution_count": 311,
   "id": "ead6fc02-9f02-4f84-b592-294e8280d853",
   "metadata": {},
   "outputs": [],
   "source": [
    "gc.disable()"
   ]
  },
  {
   "cell_type": "code",
   "execution_count": 312,
   "id": "243473f4-1608-4521-8cf4-fa301b2ec159",
   "metadata": {},
   "outputs": [
    {
     "name": "stdout",
     "output_type": "stream",
     "text": [
      "B: self: 0x10551fc80, a: 0x10551f590\n",
      "A: self: 0x10551f590, b: 0x10551fc80\n"
     ]
    }
   ],
   "source": [
    "my_var = A()"
   ]
  },
  {
   "cell_type": "code",
   "execution_count": 313,
   "id": "3ec390b2-94ab-4393-b2ac-5935d66d6673",
   "metadata": {},
   "outputs": [
    {
     "name": "stdout",
     "output_type": "stream",
     "text": [
      "<__main__.B object at 0x10551fc80>\n"
     ]
    }
   ],
   "source": [
    "print(my_var.b)"
   ]
  },
  {
   "cell_type": "code",
   "execution_count": 314,
   "id": "a1c5c3aa-6842-4f54-b74e-35305f7b1d23",
   "metadata": {},
   "outputs": [
    {
     "name": "stdout",
     "output_type": "stream",
     "text": [
      "<__main__.A object at 0x10551f590>\n"
     ]
    }
   ],
   "source": [
    "print(my_var.b.a)"
   ]
  },
  {
   "cell_type": "code",
   "execution_count": 315,
   "id": "936cbb99-eaf6-407a-8627-1d6470d89318",
   "metadata": {},
   "outputs": [],
   "source": [
    "a_id = id(my_var)\n",
    "b_id = id(my_var.b)"
   ]
  },
  {
   "cell_type": "code",
   "execution_count": 316,
   "id": "78726eb7-cd22-4fc5-8a33-fc460e845e92",
   "metadata": {},
   "outputs": [
    {
     "data": {
      "text/plain": [
       "'Not Found!'"
      ]
     },
     "execution_count": 316,
     "metadata": {},
     "output_type": "execute_result"
    }
   ],
   "source": [
    "object_by_id(a_id)"
   ]
  },
  {
   "cell_type": "code",
   "execution_count": 317,
   "id": "491be2a7-2f78-44e8-b44f-386a72722549",
   "metadata": {},
   "outputs": [
    {
     "data": {
      "text/plain": [
       "'Not Found!'"
      ]
     },
     "execution_count": 317,
     "metadata": {},
     "output_type": "execute_result"
    }
   ],
   "source": [
    "object_by_id(b_id)"
   ]
  },
  {
   "cell_type": "code",
   "execution_count": 318,
   "id": "b05e2120-2b6a-4c72-9355-6abc0103ba63",
   "metadata": {},
   "outputs": [],
   "source": [
    "my_var = None"
   ]
  },
  {
   "cell_type": "code",
   "execution_count": 319,
   "id": "572a4b3b-9e60-4279-bb3a-be973361da56",
   "metadata": {},
   "outputs": [
    {
     "data": {
      "text/plain": [
       "1"
      ]
     },
     "execution_count": 319,
     "metadata": {},
     "output_type": "execute_result"
    }
   ],
   "source": [
    "ref_count(a_id)"
   ]
  },
  {
   "cell_type": "code",
   "execution_count": 320,
   "id": "098e4a80-4e1c-4567-9f0b-80cbe9deb11d",
   "metadata": {},
   "outputs": [
    {
     "data": {
      "text/plain": [
       "1"
      ]
     },
     "execution_count": 320,
     "metadata": {},
     "output_type": "execute_result"
    }
   ],
   "source": [
    "ref_count(b_id)"
   ]
  },
  {
   "cell_type": "code",
   "execution_count": 321,
   "id": "97a653ef-2199-47f0-b037-b244a1a941f4",
   "metadata": {},
   "outputs": [
    {
     "data": {
      "text/plain": [
       "'Not Found!'"
      ]
     },
     "execution_count": 321,
     "metadata": {},
     "output_type": "execute_result"
    }
   ],
   "source": [
    "object_by_id(a_id)"
   ]
  },
  {
   "cell_type": "code",
   "execution_count": 322,
   "id": "6d21b52c-cb73-45de-9d6f-eab9ebc5255d",
   "metadata": {},
   "outputs": [
    {
     "data": {
      "text/plain": [
       "'Not Found!'"
      ]
     },
     "execution_count": 322,
     "metadata": {},
     "output_type": "execute_result"
    }
   ],
   "source": [
    "object_by_id(b_id)"
   ]
  },
  {
   "cell_type": "code",
   "execution_count": 324,
   "id": "85971626-b843-4d50-997f-6af47d60a977",
   "metadata": {},
   "outputs": [
    {
     "data": {
      "text/plain": [
       "6828"
      ]
     },
     "execution_count": 324,
     "metadata": {},
     "output_type": "execute_result"
    }
   ],
   "source": [
    "gc.collect()"
   ]
  },
  {
   "cell_type": "code",
   "execution_count": 325,
   "id": "cdfe142b-1ab7-4187-9102-61fbf8cb64a7",
   "metadata": {},
   "outputs": [
    {
     "data": {
      "text/plain": [
       "'Not Found!'"
      ]
     },
     "execution_count": 325,
     "metadata": {},
     "output_type": "execute_result"
    }
   ],
   "source": [
    "object_by_id(a_id)"
   ]
  },
  {
   "cell_type": "code",
   "execution_count": 326,
   "id": "76e35303-7fa6-49c2-aafb-395f55ad30e5",
   "metadata": {},
   "outputs": [
    {
     "data": {
      "text/plain": [
       "'Not Found!'"
      ]
     },
     "execution_count": 326,
     "metadata": {},
     "output_type": "execute_result"
    }
   ],
   "source": [
    "object_by_id(b_id)"
   ]
  },
  {
   "cell_type": "code",
   "execution_count": 327,
   "id": "363205b5-fc43-4a70-888d-03c2cba03a29",
   "metadata": {},
   "outputs": [
    {
     "data": {
      "text/plain": [
       "0"
      ]
     },
     "execution_count": 327,
     "metadata": {},
     "output_type": "execute_result"
    }
   ],
   "source": [
    "ref_count(a_id)"
   ]
  },
  {
   "cell_type": "code",
   "execution_count": 328,
   "id": "74ab7f02-67df-4028-896f-99500419bec1",
   "metadata": {},
   "outputs": [
    {
     "data": {
      "text/plain": [
       "0"
      ]
     },
     "execution_count": 328,
     "metadata": {},
     "output_type": "execute_result"
    }
   ],
   "source": [
    "ref_count(b_id)"
   ]
  },
  {
   "cell_type": "code",
   "execution_count": null,
   "id": "02614bc3-83c2-4c92-a013-0f270bd18f9a",
   "metadata": {},
   "outputs": [],
   "source": []
  }
 ],
 "metadata": {
  "kernelspec": {
   "display_name": "Python 3 (ipykernel)",
   "language": "python",
   "name": "python3"
  },
  "language_info": {
   "codemirror_mode": {
    "name": "ipython",
    "version": 3
   },
   "file_extension": ".py",
   "mimetype": "text/x-python",
   "name": "python",
   "nbconvert_exporter": "python",
   "pygments_lexer": "ipython3",
   "version": "3.12.2"
  }
 },
 "nbformat": 4,
 "nbformat_minor": 5
}
