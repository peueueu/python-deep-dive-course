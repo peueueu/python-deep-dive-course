{
 "cells": [
  {
   "cell_type": "markdown",
   "id": "2ef51a84-3c87-4992-8172-33781bd0516f",
   "metadata": {},
   "source": [
    "### Shared references\n",
    "\n",
    "The term shared reference is the concept of two variables referencing the same\n",
    "object in memory (i.e. having the same memory address)"
   ]
  },
  {
   "cell_type": "code",
   "execution_count": 5,
   "id": "6f4ee772-b706-42eb-b328-ea20a29aaacc",
   "metadata": {},
   "outputs": [
    {
     "data": {
      "text/plain": [
       "'0x1046d38a0'"
      ]
     },
     "execution_count": 5,
     "metadata": {},
     "output_type": "execute_result"
    }
   ],
   "source": [
    "a = \"Hello\"\n",
    "b = a\n",
    "hex(id(a))"
   ]
  },
  {
   "cell_type": "code",
   "execution_count": 6,
   "id": "b0991f1c-29de-48b7-9ff1-6da89c5e2d4e",
   "metadata": {},
   "outputs": [
    {
     "data": {
      "text/plain": [
       "'0x1046d38a0'"
      ]
     },
     "execution_count": 6,
     "metadata": {},
     "output_type": "execute_result"
    }
   ],
   "source": [
    "hex(id(b))"
   ]
  },
  {
   "cell_type": "code",
   "execution_count": 7,
   "id": "61cc672e-aa61-4492-80ea-89a276d1ad8d",
   "metadata": {},
   "outputs": [],
   "source": [
    "a = \"hello\""
   ]
  },
  {
   "cell_type": "code",
   "execution_count": 8,
   "id": "5404d122-cd8f-475e-b4bc-2c215c6e5a91",
   "metadata": {},
   "outputs": [],
   "source": [
    "b = \"hello\""
   ]
  },
  {
   "cell_type": "code",
   "execution_count": 9,
   "id": "84dd9664-15ac-460d-bfdd-fb054834b680",
   "metadata": {},
   "outputs": [
    {
     "data": {
      "text/plain": [
       "'0x10431e6a0'"
      ]
     },
     "execution_count": 9,
     "metadata": {},
     "output_type": "execute_result"
    }
   ],
   "source": [
    "hex(id(b))"
   ]
  },
  {
   "cell_type": "code",
   "execution_count": 10,
   "id": "ea9aa5b2-de35-4472-a8e7-2547a27c34d4",
   "metadata": {},
   "outputs": [
    {
     "data": {
      "text/plain": [
       "'0x10431e6a0'"
      ]
     },
     "execution_count": 10,
     "metadata": {},
     "output_type": "execute_result"
    }
   ],
   "source": [
    "hex(id(a))"
   ]
  },
  {
   "cell_type": "code",
   "execution_count": 11,
   "id": "c9e698a0-91f6-4f5f-90c6-3fbcd4a61c66",
   "metadata": {},
   "outputs": [],
   "source": [
    "b = \"hello world\""
   ]
  },
  {
   "cell_type": "code",
   "execution_count": 12,
   "id": "936b5e3a-ca8b-4078-9d70-ef9b1f55c4b5",
   "metadata": {},
   "outputs": [
    {
     "data": {
      "text/plain": [
       "'0x1046fdb70'"
      ]
     },
     "execution_count": 12,
     "metadata": {},
     "output_type": "execute_result"
    }
   ],
   "source": [
    "hex(id(b))"
   ]
  },
  {
   "cell_type": "code",
   "execution_count": 13,
   "id": "1d745e65-6e6c-4f7a-b3f0-9b54668058e4",
   "metadata": {},
   "outputs": [
    {
     "data": {
      "text/plain": [
       "'0x10431e6a0'"
      ]
     },
     "execution_count": 13,
     "metadata": {},
     "output_type": "execute_result"
    }
   ],
   "source": [
    "hex(id(a))"
   ]
  },
  {
   "cell_type": "code",
   "execution_count": 44,
   "id": "7d83b1b2-9063-438d-9719-db86e9673d24",
   "metadata": {},
   "outputs": [],
   "source": [
    "a = [1, 2, 3]"
   ]
  },
  {
   "cell_type": "code",
   "execution_count": 45,
   "id": "95852325-adb3-47f8-9177-aa2e7ff3de4e",
   "metadata": {},
   "outputs": [],
   "source": [
    "b = a"
   ]
  },
  {
   "cell_type": "code",
   "execution_count": 46,
   "id": "7f121055-268c-4ee5-a7d2-19e3a6561695",
   "metadata": {},
   "outputs": [
    {
     "data": {
      "text/plain": [
       "'0x1046cde80'"
      ]
     },
     "execution_count": 46,
     "metadata": {},
     "output_type": "execute_result"
    }
   ],
   "source": [
    "hex(id(a))"
   ]
  },
  {
   "cell_type": "code",
   "execution_count": 47,
   "id": "86a7c3d5-740e-4326-8629-96b77cc86b2d",
   "metadata": {},
   "outputs": [
    {
     "data": {
      "text/plain": [
       "'0x1046cde80'"
      ]
     },
     "execution_count": 47,
     "metadata": {},
     "output_type": "execute_result"
    }
   ],
   "source": [
    "hex(id(b))"
   ]
  },
  {
   "cell_type": "code",
   "execution_count": 48,
   "id": "77d2f9b7-a8a7-40b5-88c0-9776b4f0b943",
   "metadata": {},
   "outputs": [],
   "source": [
    "b.append(100)"
   ]
  },
  {
   "cell_type": "code",
   "execution_count": 49,
   "id": "becc4348-a927-4c33-86e8-c90399758949",
   "metadata": {},
   "outputs": [
    {
     "data": {
      "text/plain": [
       "True"
      ]
     },
     "execution_count": 49,
     "metadata": {},
     "output_type": "execute_result"
    }
   ],
   "source": [
    "hex(id(a))\n",
    "hex(id(b))\n",
    "hex(id(a)) == hex(id(b))"
   ]
  },
  {
   "cell_type": "code",
   "execution_count": 50,
   "id": "cc2e9002-e573-4521-880f-c0ccf3a36852",
   "metadata": {},
   "outputs": [
    {
     "data": {
      "text/plain": [
       "[1, 2, 3, 100]"
      ]
     },
     "execution_count": 50,
     "metadata": {},
     "output_type": "execute_result"
    }
   ],
   "source": [
    "a"
   ]
  },
  {
   "cell_type": "code",
   "execution_count": 51,
   "id": "f92a6de1-42e1-456c-b735-aade2aedc9c4",
   "metadata": {},
   "outputs": [
    {
     "data": {
      "text/plain": [
       "[1, 2, 3, 100]"
      ]
     },
     "execution_count": 51,
     "metadata": {},
     "output_type": "execute_result"
    }
   ],
   "source": [
    "b"
   ]
  },
  {
   "cell_type": "markdown",
   "id": "2f619b35-f900-451f-a9df-c1fd82fe9483",
   "metadata": {},
   "source": [
    "_Not always the shared reference made auto by python will point the variables to the same place if they hold for example a same immutable value, like we could see on the example before_\n",
    "\n",
    "```python\n",
    "    a = 500\n",
    "    b = 500\n",
    "\n",
    "    hex(id(a)) # '0x1047c7e30' in this example\n",
    "    hex(id(b)) # '0x104833d10' in this example\n",
    "```"
   ]
  },
  {
   "cell_type": "code",
   "execution_count": 58,
   "id": "2e8fce80-fcbc-46ea-b758-0261f00dbf47",
   "metadata": {},
   "outputs": [
    {
     "data": {
      "text/plain": [
       "True"
      ]
     },
     "execution_count": 58,
     "metadata": {},
     "output_type": "execute_result"
    }
   ],
   "source": [
    "a is b"
   ]
  },
  {
   "cell_type": "code",
   "execution_count": 62,
   "id": "8a2e9677-b008-41dd-8ccd-d3c48321a93f",
   "metadata": {},
   "outputs": [
    {
     "data": {
      "text/plain": [
       "True"
      ]
     },
     "execution_count": 62,
     "metadata": {},
     "output_type": "execute_result"
    }
   ],
   "source": [
    "a = \"hello\" * 10\n",
    "b = \"hello\" * 10\n",
    "\n",
    "a is b"
   ]
  },
  {
   "cell_type": "code",
   "execution_count": 63,
   "id": "f53f790f-dcc4-4a71-8ba0-c1134bc5aebc",
   "metadata": {},
   "outputs": [],
   "source": [
    "a = [1, 2, 3]\n",
    "b = [1, 2, 3]"
   ]
  },
  {
   "cell_type": "code",
   "execution_count": 64,
   "id": "dbc23851-8955-4ab3-80ab-3eb9c2d0de79",
   "metadata": {},
   "outputs": [
    {
     "data": {
      "text/plain": [
       "False"
      ]
     },
     "execution_count": 64,
     "metadata": {},
     "output_type": "execute_result"
    }
   ],
   "source": [
    "a is b"
   ]
  },
  {
   "cell_type": "code",
   "execution_count": 65,
   "id": "a3b4f02e-51c8-4164-b61f-7134fd3789e0",
   "metadata": {},
   "outputs": [
    {
     "data": {
      "text/plain": [
       "True"
      ]
     },
     "execution_count": 65,
     "metadata": {},
     "output_type": "execute_result"
    }
   ],
   "source": [
    "a == b"
   ]
  },
  {
   "cell_type": "code",
   "execution_count": 66,
   "id": "9e3ffe70-b7f4-4fdf-b9ab-99adfcc7a42a",
   "metadata": {},
   "outputs": [
    {
     "data": {
      "text/plain": [
       "False"
      ]
     },
     "execution_count": 66,
     "metadata": {},
     "output_type": "execute_result"
    }
   ],
   "source": [
    "a = 10\n",
    "b = 10.0\n",
    "\n",
    "a is b"
   ]
  },
  {
   "cell_type": "code",
   "execution_count": 68,
   "id": "2525516d-d92f-49a8-8e71-5e7124dd6e78",
   "metadata": {},
   "outputs": [
    {
     "data": {
      "text/plain": [
       "True"
      ]
     },
     "execution_count": 68,
     "metadata": {},
     "output_type": "execute_result"
    }
   ],
   "source": [
    "a == b"
   ]
  },
  {
   "cell_type": "code",
   "execution_count": 69,
   "id": "6b8aa88b-0c94-4c91-8ab5-58101db1883e",
   "metadata": {},
   "outputs": [],
   "source": [
    "a = None"
   ]
  },
  {
   "cell_type": "code",
   "execution_count": 70,
   "id": "321d573a-9af4-46eb-8a36-9bd89095aad0",
   "metadata": {},
   "outputs": [
    {
     "data": {
      "text/plain": [
       "'0x102565db0'"
      ]
     },
     "execution_count": 70,
     "metadata": {},
     "output_type": "execute_result"
    }
   ],
   "source": [
    "hex(id(a))"
   ]
  },
  {
   "cell_type": "code",
   "execution_count": 74,
   "id": "6f2ad88e-4bc6-47bc-a8fa-3fc08d4d95de",
   "metadata": {},
   "outputs": [],
   "source": [
    "c = int(\"101\", base=2)"
   ]
  },
  {
   "cell_type": "code",
   "execution_count": 75,
   "id": "0a533523-3f03-4c06-aafa-db7127e3dadd",
   "metadata": {},
   "outputs": [
    {
     "data": {
      "text/plain": [
       "int"
      ]
     },
     "execution_count": 75,
     "metadata": {},
     "output_type": "execute_result"
    }
   ],
   "source": [
    "type(c)"
   ]
  },
  {
   "cell_type": "code",
   "execution_count": 76,
   "id": "f066ddc3-3c75-4fc2-a3d9-438771db6a3d",
   "metadata": {},
   "outputs": [
    {
     "data": {
      "text/plain": [
       "5"
      ]
     },
     "execution_count": 76,
     "metadata": {},
     "output_type": "execute_result"
    }
   ],
   "source": [
    "c"
   ]
  },
  {
   "cell_type": "markdown",
   "id": "08d52108-b96d-4878-9838-4bda5439d9eb",
   "metadata": {},
   "source": [
    "### I see objects... everywhere :eyes:"
   ]
  },
  {
   "cell_type": "code",
   "execution_count": 77,
   "id": "4184c4cd-8baf-4a53-a363-f2ca8ac4e8ce",
   "metadata": {},
   "outputs": [],
   "source": [
    "def square(a):\n",
    "    return a ** 2"
   ]
  },
  {
   "cell_type": "code",
   "execution_count": 78,
   "id": "ecc19de6-5e55-46bf-a57d-b838638f0a0d",
   "metadata": {},
   "outputs": [
    {
     "data": {
      "text/plain": [
       "function"
      ]
     },
     "execution_count": 78,
     "metadata": {},
     "output_type": "execute_result"
    }
   ],
   "source": [
    "type(square)"
   ]
  },
  {
   "cell_type": "code",
   "execution_count": 79,
   "id": "14d4f454-9f7c-405f-9737-aa2b2c736f14",
   "metadata": {},
   "outputs": [],
   "source": [
    "f = square"
   ]
  },
  {
   "cell_type": "code",
   "execution_count": 80,
   "id": "75589877-6919-454f-b4b0-c8c735a7a618",
   "metadata": {},
   "outputs": [
    {
     "data": {
      "text/plain": [
       "25"
      ]
     },
     "execution_count": 80,
     "metadata": {},
     "output_type": "execute_result"
    }
   ],
   "source": [
    "f(5)"
   ]
  },
  {
   "cell_type": "code",
   "execution_count": 81,
   "id": "dea2d9de-311d-433e-a427-1c1fb906f168",
   "metadata": {},
   "outputs": [
    {
     "data": {
      "text/plain": [
       "True"
      ]
     },
     "execution_count": 81,
     "metadata": {},
     "output_type": "execute_result"
    }
   ],
   "source": [
    "id(f) == id(square)"
   ]
  },
  {
   "cell_type": "code",
   "execution_count": 82,
   "id": "321ed615-a733-4217-9569-40ad531be8b6",
   "metadata": {},
   "outputs": [
    {
     "data": {
      "text/plain": [
       "True"
      ]
     },
     "execution_count": 82,
     "metadata": {},
     "output_type": "execute_result"
    }
   ],
   "source": [
    "f is square"
   ]
  },
  {
   "cell_type": "code",
   "execution_count": 83,
   "id": "f8f3162c-7c3f-4e68-a7e4-7f7b19ac9b97",
   "metadata": {},
   "outputs": [],
   "source": [
    "def cube(a):\n",
    "    return  a ** 3\n",
    "def select_function(fn_id):\n",
    "    if fn_id == 1:\n",
    "        return square\n",
    "    else:\n",
    "        return cube"
   ]
  },
  {
   "cell_type": "code",
   "execution_count": 84,
   "id": "831f3662-d202-4acb-a865-fdaa1e327948",
   "metadata": {},
   "outputs": [],
   "source": [
    "f = select_function(1)"
   ]
  },
  {
   "cell_type": "code",
   "execution_count": 85,
   "id": "b785e4a5-b012-4d2d-abec-26c5beab0070",
   "metadata": {},
   "outputs": [
    {
     "data": {
      "text/plain": [
       "True"
      ]
     },
     "execution_count": 85,
     "metadata": {},
     "output_type": "execute_result"
    }
   ],
   "source": [
    "f is square"
   ]
  },
  {
   "cell_type": "code",
   "execution_count": 86,
   "id": "477bf02b-a574-4860-857e-9e1b0e2afd74",
   "metadata": {},
   "outputs": [
    {
     "data": {
      "text/plain": [
       "4"
      ]
     },
     "execution_count": 86,
     "metadata": {},
     "output_type": "execute_result"
    }
   ],
   "source": [
    "f(2)"
   ]
  },
  {
   "cell_type": "code",
   "execution_count": 87,
   "id": "90cbdfc0-0ed0-4e9d-85ec-a4dad003698d",
   "metadata": {},
   "outputs": [],
   "source": [
    "f = select_function(2)"
   ]
  },
  {
   "cell_type": "code",
   "execution_count": 88,
   "id": "71014dc1-f9ea-438a-a334-33cf5cb07a99",
   "metadata": {},
   "outputs": [
    {
     "data": {
      "text/plain": [
       "True"
      ]
     },
     "execution_count": 88,
     "metadata": {},
     "output_type": "execute_result"
    }
   ],
   "source": [
    "f is cube"
   ]
  },
  {
   "cell_type": "code",
   "execution_count": 89,
   "id": "c583a03f-0495-49bc-82b7-6355b7877b1b",
   "metadata": {},
   "outputs": [
    {
     "data": {
      "text/plain": [
       "64"
      ]
     },
     "execution_count": 89,
     "metadata": {},
     "output_type": "execute_result"
    }
   ],
   "source": [
    "f(4)"
   ]
  },
  {
   "cell_type": "code",
   "execution_count": 90,
   "id": "56e88197-b0e4-47cb-9af8-aad9b01109b4",
   "metadata": {},
   "outputs": [
    {
     "data": {
      "text/plain": [
       "2146689"
      ]
     },
     "execution_count": 90,
     "metadata": {},
     "output_type": "execute_result"
    }
   ],
   "source": [
    "select_function(2)(129)"
   ]
  },
  {
   "cell_type": "code",
   "execution_count": 91,
   "id": "b79bb250-5827-4c55-b0c7-6022fba90db2",
   "metadata": {},
   "outputs": [],
   "source": [
    "def exec_fn(fn, n):\n",
    "    return fn(n)"
   ]
  },
  {
   "cell_type": "code",
   "execution_count": 92,
   "id": "8055a320-ca34-4d9f-978d-4f785b621a55",
   "metadata": {},
   "outputs": [
    {
     "data": {
      "text/plain": [
       "27"
      ]
     },
     "execution_count": 92,
     "metadata": {},
     "output_type": "execute_result"
    }
   ],
   "source": [
    "exec_fn(cube, 3)"
   ]
  }
 ],
 "metadata": {
  "kernelspec": {
   "display_name": "Python 3 (ipykernel)",
   "language": "python",
   "name": "python3"
  },
  "language_info": {
   "codemirror_mode": {
    "name": "ipython",
    "version": 3
   },
   "file_extension": ".py",
   "mimetype": "text/x-python",
   "name": "python",
   "nbconvert_exporter": "python",
   "pygments_lexer": "ipython3",
   "version": "3.12.2"
  }
 },
 "nbformat": 4,
 "nbformat_minor": 5
}
