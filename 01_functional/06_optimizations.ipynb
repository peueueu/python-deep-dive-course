{
 "cells": [
  {
   "cell_type": "code",
   "execution_count": 1,
   "id": "d049bb5c-3c33-4f3d-9ba1-17090e1ccd96",
   "metadata": {},
   "outputs": [
    {
     "data": {
      "text/plain": [
       "[-5, 256]"
      ]
     },
     "execution_count": 1,
     "metadata": {},
     "output_type": "execute_result"
    }
   ],
   "source": [
    "[-5, 256]"
   ]
  },
  {
   "cell_type": "code",
   "execution_count": 2,
   "id": "b36181d2-7af8-4203-b735-a7c945d1c78d",
   "metadata": {},
   "outputs": [],
   "source": [
    "a = 10"
   ]
  },
  {
   "cell_type": "code",
   "execution_count": 3,
   "id": "38d38976-c588-4f0f-911e-96d25ab1ba89",
   "metadata": {},
   "outputs": [],
   "source": [
    "b = 10"
   ]
  },
  {
   "cell_type": "code",
   "execution_count": 4,
   "id": "f91a2ab7-7c41-4314-b6e4-e228b4dcb49f",
   "metadata": {},
   "outputs": [
    {
     "data": {
      "text/plain": [
       "4321812680"
      ]
     },
     "execution_count": 4,
     "metadata": {},
     "output_type": "execute_result"
    }
   ],
   "source": [
    "id(a)"
   ]
  },
  {
   "cell_type": "code",
   "execution_count": 5,
   "id": "bae2aed8-7d72-4a6c-8a40-8242679d2d46",
   "metadata": {},
   "outputs": [
    {
     "data": {
      "text/plain": [
       "4321812680"
      ]
     },
     "execution_count": 5,
     "metadata": {},
     "output_type": "execute_result"
    }
   ],
   "source": [
    "id(b)"
   ]
  },
  {
   "cell_type": "code",
   "execution_count": 1,
   "id": "2db4fa10-0bd1-435a-addd-32504763cf92",
   "metadata": {},
   "outputs": [],
   "source": [
    "a = -5"
   ]
  },
  {
   "cell_type": "code",
   "execution_count": 2,
   "id": "52b7a824-a639-431d-93a2-77004d8ca82e",
   "metadata": {},
   "outputs": [],
   "source": [
    "b = -5"
   ]
  },
  {
   "cell_type": "code",
   "execution_count": 3,
   "id": "b2e73fb5-a409-4a7a-9060-c5e788e0cec6",
   "metadata": {},
   "outputs": [
    {
     "data": {
      "text/plain": [
       "True"
      ]
     },
     "execution_count": 3,
     "metadata": {},
     "output_type": "execute_result"
    }
   ],
   "source": [
    "a is b"
   ]
  },
  {
   "cell_type": "code",
   "execution_count": 4,
   "id": "ea7864df-6490-43b6-8b21-d6e3d2ee7224",
   "metadata": {},
   "outputs": [],
   "source": [
    "a = 256\n",
    "b = 256"
   ]
  },
  {
   "cell_type": "code",
   "execution_count": 5,
   "id": "9fc50273-8c9d-4bc6-a2a1-65aeaf53314c",
   "metadata": {},
   "outputs": [
    {
     "data": {
      "text/plain": [
       "True"
      ]
     },
     "execution_count": 5,
     "metadata": {},
     "output_type": "execute_result"
    }
   ],
   "source": [
    "a is b"
   ]
  },
  {
   "cell_type": "code",
   "execution_count": 6,
   "id": "31431feb-9a91-47d7-813b-762f186442cf",
   "metadata": {},
   "outputs": [],
   "source": [
    "a = 257\n",
    "b = 257"
   ]
  },
  {
   "cell_type": "code",
   "execution_count": 7,
   "id": "0259148d-bc87-4b60-8ccb-35a416687b4e",
   "metadata": {},
   "outputs": [
    {
     "data": {
      "text/plain": [
       "False"
      ]
     },
     "execution_count": 7,
     "metadata": {},
     "output_type": "execute_result"
    }
   ],
   "source": [
    "a is b"
   ]
  },
  {
   "cell_type": "markdown",
   "id": "46edcbf9-960a-4eb5-91f8-a6a06eb5b163",
   "metadata": {},
   "source": [
    "### Whada hell is going on ?\n",
    "\n",
    "**Internally:**\n",
    "\n",
    "Python is reusing objects on-demand, At startup Python *(CPython)*, ***caches*** a global list of integers in the range of: `[-5, 256]`\n",
    "Any time an int is referenced in that range, Python will use the cached version of that object.\n",
    "\n",
    "<small>**The integers in this range are [singleton](https://refactoring.guru/design-patterns/singleton) objects.**</small>"
   ]
  },
  {
   "cell_type": "code",
   "execution_count": 8,
   "id": "4b5a31e2-a705-45da-84bb-e71e42d2d3c4",
   "metadata": {},
   "outputs": [
    {
     "name": "stdout",
     "output_type": "stream",
     "text": [
      "10 10 10 10\n"
     ]
    }
   ],
   "source": [
    "a = 10\n",
    "b = int(10)\n",
    "c = int('10')\n",
    "d = int('1010', 2)\n",
    "print(a, b, c, d)"
   ]
  },
  {
   "cell_type": "code",
   "execution_count": 9,
   "id": "8b182b2c-4339-438a-bf2c-fcc479388be2",
   "metadata": {},
   "outputs": [
    {
     "name": "stdout",
     "output_type": "stream",
     "text": [
      "4444496072 4444496072 4444496072 4444496072\n"
     ]
    }
   ],
   "source": [
    "print(id(a), id(b), id(c), id(d))"
   ]
  }
 ],
 "metadata": {
  "kernelspec": {
   "display_name": "Python 3 (ipykernel)",
   "language": "python",
   "name": "python3"
  },
  "language_info": {
   "codemirror_mode": {
    "name": "ipython",
    "version": 3
   },
   "file_extension": ".py",
   "mimetype": "text/x-python",
   "name": "python",
   "nbconvert_exporter": "python",
   "pygments_lexer": "ipython3",
   "version": "3.12.2"
  }
 },
 "nbformat": 4,
 "nbformat_minor": 5
}
