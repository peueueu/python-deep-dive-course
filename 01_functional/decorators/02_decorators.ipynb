{
 "cells": [
  {
   "cell_type": "code",
   "execution_count": 28,
   "id": "bfdbd1ef-dc4b-4f5a-be8e-0d7f7d19a029",
   "metadata": {},
   "outputs": [],
   "source": [
    "def logged(fn):\n",
    "    from functools import wraps\n",
    "    from datetime import datetime, timezone\n",
    "\n",
    "    @wraps(fn)\n",
    "    def inner(*args, **kwargs):\n",
    "        run_dt = datetime.now(timezone.utc)\n",
    "        result = fn(*args, **kwargs)\n",
    "        print('-F DEBUG Log: {0}: called {1}'.format(run_dt, fn.__name__))\n",
    "        return result\n",
    "    return inner"
   ]
  },
  {
   "cell_type": "code",
   "execution_count": 29,
   "id": "592f3125-b3e3-4028-802b-def33c02c1d1",
   "metadata": {},
   "outputs": [],
   "source": [
    "@logged\n",
    "def func_1():\n",
    "    pass\n",
    "\n",
    "@logged\n",
    "def func_2():\n",
    "    pass"
   ]
  },
  {
   "cell_type": "code",
   "execution_count": 30,
   "id": "45a2ec17-a1a5-4f07-8f73-37d0d3337a19",
   "metadata": {},
   "outputs": [
    {
     "name": "stdout",
     "output_type": "stream",
     "text": [
      "-F DEBUG Log: 2024-04-24 19:05:33.693351+00:00: called func_1\n"
     ]
    }
   ],
   "source": [
    "func_1()"
   ]
  },
  {
   "cell_type": "code",
   "execution_count": 31,
   "id": "521188c6-2052-4186-8e9d-67163943ad6f",
   "metadata": {},
   "outputs": [
    {
     "name": "stdout",
     "output_type": "stream",
     "text": [
      "-F DEBUG Log: 2024-04-24 19:05:33.871409+00:00: called func_2\n"
     ]
    }
   ],
   "source": [
    "func_2()"
   ]
  },
  {
   "cell_type": "code",
   "execution_count": 32,
   "id": "6bc67c6b-124d-442c-bee2-fd4925e4a6db",
   "metadata": {},
   "outputs": [],
   "source": [
    "def timed(fn):\n",
    "    from time import perf_counter\n",
    "    from functools import wraps\n",
    "\n",
    "    @wraps(fn)\n",
    "    def inner(*args, **kwargs):\n",
    "        start = perf_counter()\n",
    "        result = fn(*args, **kwargs)\n",
    "        end = perf_counter()\n",
    "        elapsed = end - start\n",
    "\n",
    "        args_ = [str(a) for a in args]\n",
    "        kwargs_ = ['{0}={1}'.format(key, value) for (key, value) in kwargs.items()]\n",
    "        all_args = args_ + kwargs_\n",
    "        args_str = \",\".join(all_args)\n",
    "\n",
    "        print('{0}({1}) took {2:.6f}s to run'.format(fn.__name__, args_str, elapsed))\n",
    "        return result\n",
    "    return inner"
   ]
  },
  {
   "cell_type": "code",
   "execution_count": 33,
   "id": "a442aa8c-2a44-43c5-9a1f-e999a8bcd064",
   "metadata": {},
   "outputs": [],
   "source": [
    "@logged\n",
    "@timed\n",
    "def fact(n):\n",
    "    from operator import mul\n",
    "    from functools import reduce\n",
    "\n",
    "    return reduce(mul, range(1, n+1))"
   ]
  },
  {
   "cell_type": "code",
   "execution_count": 34,
   "id": "07e9715c-c14c-4ced-a04e-a8674f20d705",
   "metadata": {},
   "outputs": [
    {
     "name": "stdout",
     "output_type": "stream",
     "text": [
      "fact(5) took 0.000031s to run\n",
      "-F DEBUG Log: 2024-04-24 19:05:36.663045+00:00: called fact\n"
     ]
    },
    {
     "data": {
      "text/plain": [
       "120"
      ]
     },
     "execution_count": 34,
     "metadata": {},
     "output_type": "execute_result"
    }
   ],
   "source": [
    "fact(5)"
   ]
  },
  {
   "cell_type": "code",
   "execution_count": 35,
   "id": "8d8ebbad-a798-480b-8ba3-80e967a17857",
   "metadata": {},
   "outputs": [],
   "source": [
    "def dec_1(fn):\n",
    "    def inner():\n",
    "        print('Running dec_1')\n",
    "        return fn()\n",
    "    return inner"
   ]
  },
  {
   "cell_type": "code",
   "execution_count": 36,
   "id": "c40ab4b0-a46f-455b-8036-a06e1066a072",
   "metadata": {},
   "outputs": [],
   "source": [
    "def dec_2(fn):\n",
    "    def inner():\n",
    "        print('Running dec_2')\n",
    "        return fn()\n",
    "    return inner"
   ]
  },
  {
   "cell_type": "code",
   "execution_count": 46,
   "id": "53094369-27b1-4e2e-a38f-443f54e6974c",
   "metadata": {},
   "outputs": [],
   "source": [
    "@dec_1\n",
    "@dec_2\n",
    "def my_func():\n",
    "    print('Running my_func')"
   ]
  },
  {
   "cell_type": "code",
   "execution_count": 47,
   "id": "7814a02f-5f4d-495e-b902-b690de2fcd62",
   "metadata": {},
   "outputs": [
    {
     "name": "stdout",
     "output_type": "stream",
     "text": [
      "Running dec_1\n",
      "Running dec_2\n",
      "Running my_func\n"
     ]
    }
   ],
   "source": [
    "my_func()"
   ]
  },
  {
   "cell_type": "code",
   "execution_count": 50,
   "id": "e59e6211-e48a-4470-9979-ed506d758791",
   "metadata": {},
   "outputs": [],
   "source": [
    "# this is the same as assigning like this:\n",
    "# my_func = dec_1(dec_2(my_func))"
   ]
  },
  {
   "cell_type": "code",
   "execution_count": 52,
   "id": "4cb4ae49-67f2-47ea-9b0d-7fb1c24d8895",
   "metadata": {},
   "outputs": [],
   "source": [
    "# @auth\n",
    "# @logged\n",
    "def save_resource():\n",
    "    pass"
   ]
  },
  {
   "cell_type": "code",
   "execution_count": null,
   "id": "ccdb77c8-c4b7-49a0-a45c-3f099dbb8fc0",
   "metadata": {},
   "outputs": [],
   "source": []
  }
 ],
 "metadata": {
  "kernelspec": {
   "display_name": "Python 3 (ipykernel)",
   "language": "python",
   "name": "python3"
  },
  "language_info": {
   "codemirror_mode": {
    "name": "ipython",
    "version": 3
   },
   "file_extension": ".py",
   "mimetype": "text/x-python",
   "name": "python",
   "nbconvert_exporter": "python",
   "pygments_lexer": "ipython3",
   "version": "3.12.2"
  }
 },
 "nbformat": 4,
 "nbformat_minor": 5
}
