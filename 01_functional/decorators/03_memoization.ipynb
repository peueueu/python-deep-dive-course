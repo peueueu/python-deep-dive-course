{
 "cells": [
  {
   "cell_type": "code",
   "execution_count": 1,
   "id": "dfc1d900-772e-43ce-9ef2-3d06882fe301",
   "metadata": {},
   "outputs": [],
   "source": [
    "### Decorator Application (Memoization)"
   ]
  },
  {
   "cell_type": "code",
   "execution_count": 2,
   "id": "edc0a982-5785-458a-b9a8-d43c583479ef",
   "metadata": {},
   "outputs": [],
   "source": [
    "def fib(n):\n",
    "    print('Calculating fib({0})'.format(n))\n",
    "    return 1 if n < 3 else fib(n - 1) + fib(n - 2)"
   ]
  },
  {
   "cell_type": "code",
   "execution_count": 3,
   "id": "13b09687-e280-4359-adfc-a5dbb692e69e",
   "metadata": {},
   "outputs": [
    {
     "name": "stdout",
     "output_type": "stream",
     "text": [
      "Calculating fib(10)\n",
      "Calculating fib(9)\n",
      "Calculating fib(8)\n",
      "Calculating fib(7)\n",
      "Calculating fib(6)\n",
      "Calculating fib(5)\n",
      "Calculating fib(4)\n",
      "Calculating fib(3)\n",
      "Calculating fib(2)\n",
      "Calculating fib(1)\n",
      "Calculating fib(2)\n",
      "Calculating fib(3)\n",
      "Calculating fib(2)\n",
      "Calculating fib(1)\n",
      "Calculating fib(4)\n",
      "Calculating fib(3)\n",
      "Calculating fib(2)\n",
      "Calculating fib(1)\n",
      "Calculating fib(2)\n",
      "Calculating fib(5)\n",
      "Calculating fib(4)\n",
      "Calculating fib(3)\n",
      "Calculating fib(2)\n",
      "Calculating fib(1)\n",
      "Calculating fib(2)\n",
      "Calculating fib(3)\n",
      "Calculating fib(2)\n",
      "Calculating fib(1)\n",
      "Calculating fib(6)\n",
      "Calculating fib(5)\n",
      "Calculating fib(4)\n",
      "Calculating fib(3)\n",
      "Calculating fib(2)\n",
      "Calculating fib(1)\n",
      "Calculating fib(2)\n",
      "Calculating fib(3)\n",
      "Calculating fib(2)\n",
      "Calculating fib(1)\n",
      "Calculating fib(4)\n",
      "Calculating fib(3)\n",
      "Calculating fib(2)\n",
      "Calculating fib(1)\n",
      "Calculating fib(2)\n",
      "Calculating fib(7)\n",
      "Calculating fib(6)\n",
      "Calculating fib(5)\n",
      "Calculating fib(4)\n",
      "Calculating fib(3)\n",
      "Calculating fib(2)\n",
      "Calculating fib(1)\n",
      "Calculating fib(2)\n",
      "Calculating fib(3)\n",
      "Calculating fib(2)\n",
      "Calculating fib(1)\n",
      "Calculating fib(4)\n",
      "Calculating fib(3)\n",
      "Calculating fib(2)\n",
      "Calculating fib(1)\n",
      "Calculating fib(2)\n",
      "Calculating fib(5)\n",
      "Calculating fib(4)\n",
      "Calculating fib(3)\n",
      "Calculating fib(2)\n",
      "Calculating fib(1)\n",
      "Calculating fib(2)\n",
      "Calculating fib(3)\n",
      "Calculating fib(2)\n",
      "Calculating fib(1)\n",
      "Calculating fib(8)\n",
      "Calculating fib(7)\n",
      "Calculating fib(6)\n",
      "Calculating fib(5)\n",
      "Calculating fib(4)\n",
      "Calculating fib(3)\n",
      "Calculating fib(2)\n",
      "Calculating fib(1)\n",
      "Calculating fib(2)\n",
      "Calculating fib(3)\n",
      "Calculating fib(2)\n",
      "Calculating fib(1)\n",
      "Calculating fib(4)\n",
      "Calculating fib(3)\n",
      "Calculating fib(2)\n",
      "Calculating fib(1)\n",
      "Calculating fib(2)\n",
      "Calculating fib(5)\n",
      "Calculating fib(4)\n",
      "Calculating fib(3)\n",
      "Calculating fib(2)\n",
      "Calculating fib(1)\n",
      "Calculating fib(2)\n",
      "Calculating fib(3)\n",
      "Calculating fib(2)\n",
      "Calculating fib(1)\n",
      "Calculating fib(6)\n",
      "Calculating fib(5)\n",
      "Calculating fib(4)\n",
      "Calculating fib(3)\n",
      "Calculating fib(2)\n",
      "Calculating fib(1)\n",
      "Calculating fib(2)\n",
      "Calculating fib(3)\n",
      "Calculating fib(2)\n",
      "Calculating fib(1)\n",
      "Calculating fib(4)\n",
      "Calculating fib(3)\n",
      "Calculating fib(2)\n",
      "Calculating fib(1)\n",
      "Calculating fib(2)\n"
     ]
    },
    {
     "data": {
      "text/plain": [
       "55"
      ]
     },
     "execution_count": 3,
     "metadata": {},
     "output_type": "execute_result"
    }
   ],
   "source": [
    "fib(10)"
   ]
  },
  {
   "cell_type": "code",
   "execution_count": 4,
   "id": "df7c6e2c-19e6-41e8-b416-637535313f86",
   "metadata": {},
   "outputs": [],
   "source": [
    "class Fib:\n",
    "    def __init__(self):\n",
    "        self.cache = {1: 1, 2: 1}\n",
    "\n",
    "    def fib(self, n):\n",
    "        if n not in self.cache:\n",
    "            print('Calcultating fib({0})'.format(n))\n",
    "            self.cache[n] = self.fib(n - 1) + self.fib(n - 2)\n",
    "        return self.cache[n]"
   ]
  },
  {
   "cell_type": "code",
   "execution_count": 5,
   "id": "06c505b4-eb02-49a8-81c8-4ff413b074e3",
   "metadata": {},
   "outputs": [],
   "source": [
    "f = Fib()"
   ]
  },
  {
   "cell_type": "code",
   "execution_count": 6,
   "id": "b2328128-2a47-4261-a8ed-6125a6e70e0e",
   "metadata": {},
   "outputs": [
    {
     "name": "stdout",
     "output_type": "stream",
     "text": [
      "Calcultating fib(10)\n",
      "Calcultating fib(9)\n",
      "Calcultating fib(8)\n",
      "Calcultating fib(7)\n",
      "Calcultating fib(6)\n",
      "Calcultating fib(5)\n",
      "Calcultating fib(4)\n",
      "Calcultating fib(3)\n"
     ]
    },
    {
     "data": {
      "text/plain": [
       "55"
      ]
     },
     "execution_count": 6,
     "metadata": {},
     "output_type": "execute_result"
    }
   ],
   "source": [
    "f.fib(10)"
   ]
  },
  {
   "cell_type": "code",
   "execution_count": 7,
   "id": "fb1819db-99cd-47f5-8727-e69bcb78f2d1",
   "metadata": {},
   "outputs": [
    {
     "name": "stdout",
     "output_type": "stream",
     "text": [
      "Calcultating fib(30)\n",
      "Calcultating fib(29)\n",
      "Calcultating fib(28)\n",
      "Calcultating fib(27)\n",
      "Calcultating fib(26)\n",
      "Calcultating fib(25)\n",
      "Calcultating fib(24)\n",
      "Calcultating fib(23)\n",
      "Calcultating fib(22)\n",
      "Calcultating fib(21)\n",
      "Calcultating fib(20)\n",
      "Calcultating fib(19)\n",
      "Calcultating fib(18)\n",
      "Calcultating fib(17)\n",
      "Calcultating fib(16)\n",
      "Calcultating fib(15)\n",
      "Calcultating fib(14)\n",
      "Calcultating fib(13)\n",
      "Calcultating fib(12)\n",
      "Calcultating fib(11)\n"
     ]
    },
    {
     "data": {
      "text/plain": [
       "832040"
      ]
     },
     "execution_count": 7,
     "metadata": {},
     "output_type": "execute_result"
    }
   ],
   "source": [
    "f.fib(30)"
   ]
  },
  {
   "cell_type": "code",
   "execution_count": 8,
   "id": "db2ce4c9-12f4-41e6-84be-15307ef6b512",
   "metadata": {},
   "outputs": [
    {
     "name": "stdout",
     "output_type": "stream",
     "text": [
      "Calcultating fib(300)\n",
      "Calcultating fib(299)\n",
      "Calcultating fib(298)\n",
      "Calcultating fib(297)\n",
      "Calcultating fib(296)\n",
      "Calcultating fib(295)\n",
      "Calcultating fib(294)\n",
      "Calcultating fib(293)\n",
      "Calcultating fib(292)\n",
      "Calcultating fib(291)\n",
      "Calcultating fib(290)\n",
      "Calcultating fib(289)\n",
      "Calcultating fib(288)\n",
      "Calcultating fib(287)\n",
      "Calcultating fib(286)\n",
      "Calcultating fib(285)\n",
      "Calcultating fib(284)\n",
      "Calcultating fib(283)\n",
      "Calcultating fib(282)\n",
      "Calcultating fib(281)\n",
      "Calcultating fib(280)\n",
      "Calcultating fib(279)\n",
      "Calcultating fib(278)\n",
      "Calcultating fib(277)\n",
      "Calcultating fib(276)\n",
      "Calcultating fib(275)\n",
      "Calcultating fib(274)\n",
      "Calcultating fib(273)\n",
      "Calcultating fib(272)\n",
      "Calcultating fib(271)\n",
      "Calcultating fib(270)\n",
      "Calcultating fib(269)\n",
      "Calcultating fib(268)\n",
      "Calcultating fib(267)\n",
      "Calcultating fib(266)\n",
      "Calcultating fib(265)\n",
      "Calcultating fib(264)\n",
      "Calcultating fib(263)\n",
      "Calcultating fib(262)\n",
      "Calcultating fib(261)\n",
      "Calcultating fib(260)\n",
      "Calcultating fib(259)\n",
      "Calcultating fib(258)\n",
      "Calcultating fib(257)\n",
      "Calcultating fib(256)\n",
      "Calcultating fib(255)\n",
      "Calcultating fib(254)\n",
      "Calcultating fib(253)\n",
      "Calcultating fib(252)\n",
      "Calcultating fib(251)\n",
      "Calcultating fib(250)\n",
      "Calcultating fib(249)\n",
      "Calcultating fib(248)\n",
      "Calcultating fib(247)\n",
      "Calcultating fib(246)\n",
      "Calcultating fib(245)\n",
      "Calcultating fib(244)\n",
      "Calcultating fib(243)\n",
      "Calcultating fib(242)\n",
      "Calcultating fib(241)\n",
      "Calcultating fib(240)\n",
      "Calcultating fib(239)\n",
      "Calcultating fib(238)\n",
      "Calcultating fib(237)\n",
      "Calcultating fib(236)\n",
      "Calcultating fib(235)\n",
      "Calcultating fib(234)\n",
      "Calcultating fib(233)\n",
      "Calcultating fib(232)\n",
      "Calcultating fib(231)\n",
      "Calcultating fib(230)\n",
      "Calcultating fib(229)\n",
      "Calcultating fib(228)\n",
      "Calcultating fib(227)\n",
      "Calcultating fib(226)\n",
      "Calcultating fib(225)\n",
      "Calcultating fib(224)\n",
      "Calcultating fib(223)\n",
      "Calcultating fib(222)\n",
      "Calcultating fib(221)\n",
      "Calcultating fib(220)\n",
      "Calcultating fib(219)\n",
      "Calcultating fib(218)\n",
      "Calcultating fib(217)\n",
      "Calcultating fib(216)\n",
      "Calcultating fib(215)\n",
      "Calcultating fib(214)\n",
      "Calcultating fib(213)\n",
      "Calcultating fib(212)\n",
      "Calcultating fib(211)\n",
      "Calcultating fib(210)\n",
      "Calcultating fib(209)\n",
      "Calcultating fib(208)\n",
      "Calcultating fib(207)\n",
      "Calcultating fib(206)\n",
      "Calcultating fib(205)\n",
      "Calcultating fib(204)\n",
      "Calcultating fib(203)\n",
      "Calcultating fib(202)\n",
      "Calcultating fib(201)\n",
      "Calcultating fib(200)\n",
      "Calcultating fib(199)\n",
      "Calcultating fib(198)\n",
      "Calcultating fib(197)\n",
      "Calcultating fib(196)\n",
      "Calcultating fib(195)\n",
      "Calcultating fib(194)\n",
      "Calcultating fib(193)\n",
      "Calcultating fib(192)\n",
      "Calcultating fib(191)\n",
      "Calcultating fib(190)\n",
      "Calcultating fib(189)\n",
      "Calcultating fib(188)\n",
      "Calcultating fib(187)\n",
      "Calcultating fib(186)\n",
      "Calcultating fib(185)\n",
      "Calcultating fib(184)\n",
      "Calcultating fib(183)\n",
      "Calcultating fib(182)\n",
      "Calcultating fib(181)\n",
      "Calcultating fib(180)\n",
      "Calcultating fib(179)\n",
      "Calcultating fib(178)\n",
      "Calcultating fib(177)\n",
      "Calcultating fib(176)\n",
      "Calcultating fib(175)\n",
      "Calcultating fib(174)\n",
      "Calcultating fib(173)\n",
      "Calcultating fib(172)\n",
      "Calcultating fib(171)\n",
      "Calcultating fib(170)\n",
      "Calcultating fib(169)\n",
      "Calcultating fib(168)\n",
      "Calcultating fib(167)\n",
      "Calcultating fib(166)\n",
      "Calcultating fib(165)\n",
      "Calcultating fib(164)\n",
      "Calcultating fib(163)\n",
      "Calcultating fib(162)\n",
      "Calcultating fib(161)\n",
      "Calcultating fib(160)\n",
      "Calcultating fib(159)\n",
      "Calcultating fib(158)\n",
      "Calcultating fib(157)\n",
      "Calcultating fib(156)\n",
      "Calcultating fib(155)\n",
      "Calcultating fib(154)\n",
      "Calcultating fib(153)\n",
      "Calcultating fib(152)\n",
      "Calcultating fib(151)\n",
      "Calcultating fib(150)\n",
      "Calcultating fib(149)\n",
      "Calcultating fib(148)\n",
      "Calcultating fib(147)\n",
      "Calcultating fib(146)\n",
      "Calcultating fib(145)\n",
      "Calcultating fib(144)\n",
      "Calcultating fib(143)\n",
      "Calcultating fib(142)\n",
      "Calcultating fib(141)\n",
      "Calcultating fib(140)\n",
      "Calcultating fib(139)\n",
      "Calcultating fib(138)\n",
      "Calcultating fib(137)\n",
      "Calcultating fib(136)\n",
      "Calcultating fib(135)\n",
      "Calcultating fib(134)\n",
      "Calcultating fib(133)\n",
      "Calcultating fib(132)\n",
      "Calcultating fib(131)\n",
      "Calcultating fib(130)\n",
      "Calcultating fib(129)\n",
      "Calcultating fib(128)\n",
      "Calcultating fib(127)\n",
      "Calcultating fib(126)\n",
      "Calcultating fib(125)\n",
      "Calcultating fib(124)\n",
      "Calcultating fib(123)\n",
      "Calcultating fib(122)\n",
      "Calcultating fib(121)\n",
      "Calcultating fib(120)\n",
      "Calcultating fib(119)\n",
      "Calcultating fib(118)\n",
      "Calcultating fib(117)\n",
      "Calcultating fib(116)\n",
      "Calcultating fib(115)\n",
      "Calcultating fib(114)\n",
      "Calcultating fib(113)\n",
      "Calcultating fib(112)\n",
      "Calcultating fib(111)\n",
      "Calcultating fib(110)\n",
      "Calcultating fib(109)\n",
      "Calcultating fib(108)\n",
      "Calcultating fib(107)\n",
      "Calcultating fib(106)\n",
      "Calcultating fib(105)\n",
      "Calcultating fib(104)\n",
      "Calcultating fib(103)\n",
      "Calcultating fib(102)\n",
      "Calcultating fib(101)\n",
      "Calcultating fib(100)\n",
      "Calcultating fib(99)\n",
      "Calcultating fib(98)\n",
      "Calcultating fib(97)\n",
      "Calcultating fib(96)\n",
      "Calcultating fib(95)\n",
      "Calcultating fib(94)\n",
      "Calcultating fib(93)\n",
      "Calcultating fib(92)\n",
      "Calcultating fib(91)\n",
      "Calcultating fib(90)\n",
      "Calcultating fib(89)\n",
      "Calcultating fib(88)\n",
      "Calcultating fib(87)\n",
      "Calcultating fib(86)\n",
      "Calcultating fib(85)\n",
      "Calcultating fib(84)\n",
      "Calcultating fib(83)\n",
      "Calcultating fib(82)\n",
      "Calcultating fib(81)\n",
      "Calcultating fib(80)\n",
      "Calcultating fib(79)\n",
      "Calcultating fib(78)\n",
      "Calcultating fib(77)\n",
      "Calcultating fib(76)\n",
      "Calcultating fib(75)\n",
      "Calcultating fib(74)\n",
      "Calcultating fib(73)\n",
      "Calcultating fib(72)\n",
      "Calcultating fib(71)\n",
      "Calcultating fib(70)\n",
      "Calcultating fib(69)\n",
      "Calcultating fib(68)\n",
      "Calcultating fib(67)\n",
      "Calcultating fib(66)\n",
      "Calcultating fib(65)\n",
      "Calcultating fib(64)\n",
      "Calcultating fib(63)\n",
      "Calcultating fib(62)\n",
      "Calcultating fib(61)\n",
      "Calcultating fib(60)\n",
      "Calcultating fib(59)\n",
      "Calcultating fib(58)\n",
      "Calcultating fib(57)\n",
      "Calcultating fib(56)\n",
      "Calcultating fib(55)\n",
      "Calcultating fib(54)\n",
      "Calcultating fib(53)\n",
      "Calcultating fib(52)\n",
      "Calcultating fib(51)\n",
      "Calcultating fib(50)\n",
      "Calcultating fib(49)\n",
      "Calcultating fib(48)\n",
      "Calcultating fib(47)\n",
      "Calcultating fib(46)\n",
      "Calcultating fib(45)\n",
      "Calcultating fib(44)\n",
      "Calcultating fib(43)\n",
      "Calcultating fib(42)\n",
      "Calcultating fib(41)\n",
      "Calcultating fib(40)\n",
      "Calcultating fib(39)\n",
      "Calcultating fib(38)\n",
      "Calcultating fib(37)\n",
      "Calcultating fib(36)\n",
      "Calcultating fib(35)\n",
      "Calcultating fib(34)\n",
      "Calcultating fib(33)\n",
      "Calcultating fib(32)\n",
      "Calcultating fib(31)\n"
     ]
    },
    {
     "data": {
      "text/plain": [
       "222232244629420445529739893461909967206666939096499764990979600"
      ]
     },
     "execution_count": 8,
     "metadata": {},
     "output_type": "execute_result"
    }
   ],
   "source": [
    "f.fib(300)"
   ]
  },
  {
   "cell_type": "code",
   "execution_count": 9,
   "id": "eb9aeff9-61c1-4e00-8f92-3a36fa5210a7",
   "metadata": {},
   "outputs": [
    {
     "data": {
      "text/plain": [
       "12586269025"
      ]
     },
     "execution_count": 9,
     "metadata": {},
     "output_type": "execute_result"
    }
   ],
   "source": [
    "f.fib(50)"
   ]
  },
  {
   "cell_type": "code",
   "execution_count": 10,
   "id": "2e5f00fd-d85c-4f02-bf0b-866d403c6d66",
   "metadata": {},
   "outputs": [],
   "source": [
    "### Closure Approach"
   ]
  },
  {
   "cell_type": "code",
   "execution_count": 20,
   "id": "2a3df7f2-fc22-4d78-84e1-18b76f74be1d",
   "metadata": {},
   "outputs": [],
   "source": [
    "def fib():\n",
    "    cache = {1: 1, 2: 1}\n",
    "    \n",
    "    def calc_fib(n):\n",
    "        if n not in cache:\n",
    "            print('Calculating fib({0})'.format(n))\n",
    "            cache[n] = calc_fib(n - 1) + calc_fib(n - 2)\n",
    "        return cache[n]\n",
    "    return calc_fib"
   ]
  },
  {
   "cell_type": "code",
   "execution_count": 21,
   "id": "a139a182-247e-44db-937a-53938aa8a00e",
   "metadata": {},
   "outputs": [],
   "source": [
    "f = fib()"
   ]
  },
  {
   "cell_type": "code",
   "execution_count": 22,
   "id": "7169cf75-0cc2-419f-ab4c-fc4b567a8d5a",
   "metadata": {},
   "outputs": [
    {
     "name": "stdout",
     "output_type": "stream",
     "text": [
      "Calculating fib(10)\n",
      "Calculating fib(9)\n",
      "Calculating fib(8)\n",
      "Calculating fib(7)\n",
      "Calculating fib(6)\n",
      "Calculating fib(5)\n",
      "Calculating fib(4)\n",
      "Calculating fib(3)\n"
     ]
    },
    {
     "data": {
      "text/plain": [
       "55"
      ]
     },
     "execution_count": 22,
     "metadata": {},
     "output_type": "execute_result"
    }
   ],
   "source": [
    "f(10)"
   ]
  },
  {
   "cell_type": "code",
   "execution_count": 23,
   "id": "2e3f6c99-261f-41d6-97b0-8f3e03c60c74",
   "metadata": {},
   "outputs": [
    {
     "name": "stdout",
     "output_type": "stream",
     "text": [
      "Calculating fib(300)\n",
      "Calculating fib(299)\n",
      "Calculating fib(298)\n",
      "Calculating fib(297)\n",
      "Calculating fib(296)\n",
      "Calculating fib(295)\n",
      "Calculating fib(294)\n",
      "Calculating fib(293)\n",
      "Calculating fib(292)\n",
      "Calculating fib(291)\n",
      "Calculating fib(290)\n",
      "Calculating fib(289)\n",
      "Calculating fib(288)\n",
      "Calculating fib(287)\n",
      "Calculating fib(286)\n",
      "Calculating fib(285)\n",
      "Calculating fib(284)\n",
      "Calculating fib(283)\n",
      "Calculating fib(282)\n",
      "Calculating fib(281)\n",
      "Calculating fib(280)\n",
      "Calculating fib(279)\n",
      "Calculating fib(278)\n",
      "Calculating fib(277)\n",
      "Calculating fib(276)\n",
      "Calculating fib(275)\n",
      "Calculating fib(274)\n",
      "Calculating fib(273)\n",
      "Calculating fib(272)\n",
      "Calculating fib(271)\n",
      "Calculating fib(270)\n",
      "Calculating fib(269)\n",
      "Calculating fib(268)\n",
      "Calculating fib(267)\n",
      "Calculating fib(266)\n",
      "Calculating fib(265)\n",
      "Calculating fib(264)\n",
      "Calculating fib(263)\n",
      "Calculating fib(262)\n",
      "Calculating fib(261)\n",
      "Calculating fib(260)\n",
      "Calculating fib(259)\n",
      "Calculating fib(258)\n",
      "Calculating fib(257)\n",
      "Calculating fib(256)\n",
      "Calculating fib(255)\n",
      "Calculating fib(254)\n",
      "Calculating fib(253)\n",
      "Calculating fib(252)\n",
      "Calculating fib(251)\n",
      "Calculating fib(250)\n",
      "Calculating fib(249)\n",
      "Calculating fib(248)\n",
      "Calculating fib(247)\n",
      "Calculating fib(246)\n",
      "Calculating fib(245)\n",
      "Calculating fib(244)\n",
      "Calculating fib(243)\n",
      "Calculating fib(242)\n",
      "Calculating fib(241)\n",
      "Calculating fib(240)\n",
      "Calculating fib(239)\n",
      "Calculating fib(238)\n",
      "Calculating fib(237)\n",
      "Calculating fib(236)\n",
      "Calculating fib(235)\n",
      "Calculating fib(234)\n",
      "Calculating fib(233)\n",
      "Calculating fib(232)\n",
      "Calculating fib(231)\n",
      "Calculating fib(230)\n",
      "Calculating fib(229)\n",
      "Calculating fib(228)\n",
      "Calculating fib(227)\n",
      "Calculating fib(226)\n",
      "Calculating fib(225)\n",
      "Calculating fib(224)\n",
      "Calculating fib(223)\n",
      "Calculating fib(222)\n",
      "Calculating fib(221)\n",
      "Calculating fib(220)\n",
      "Calculating fib(219)\n",
      "Calculating fib(218)\n",
      "Calculating fib(217)\n",
      "Calculating fib(216)\n",
      "Calculating fib(215)\n",
      "Calculating fib(214)\n",
      "Calculating fib(213)\n",
      "Calculating fib(212)\n",
      "Calculating fib(211)\n",
      "Calculating fib(210)\n",
      "Calculating fib(209)\n",
      "Calculating fib(208)\n",
      "Calculating fib(207)\n",
      "Calculating fib(206)\n",
      "Calculating fib(205)\n",
      "Calculating fib(204)\n",
      "Calculating fib(203)\n",
      "Calculating fib(202)\n",
      "Calculating fib(201)\n",
      "Calculating fib(200)\n",
      "Calculating fib(199)\n",
      "Calculating fib(198)\n",
      "Calculating fib(197)\n",
      "Calculating fib(196)\n",
      "Calculating fib(195)\n",
      "Calculating fib(194)\n",
      "Calculating fib(193)\n",
      "Calculating fib(192)\n",
      "Calculating fib(191)\n",
      "Calculating fib(190)\n",
      "Calculating fib(189)\n",
      "Calculating fib(188)\n",
      "Calculating fib(187)\n",
      "Calculating fib(186)\n",
      "Calculating fib(185)\n",
      "Calculating fib(184)\n",
      "Calculating fib(183)\n",
      "Calculating fib(182)\n",
      "Calculating fib(181)\n",
      "Calculating fib(180)\n",
      "Calculating fib(179)\n",
      "Calculating fib(178)\n",
      "Calculating fib(177)\n",
      "Calculating fib(176)\n",
      "Calculating fib(175)\n",
      "Calculating fib(174)\n",
      "Calculating fib(173)\n",
      "Calculating fib(172)\n",
      "Calculating fib(171)\n",
      "Calculating fib(170)\n",
      "Calculating fib(169)\n",
      "Calculating fib(168)\n",
      "Calculating fib(167)\n",
      "Calculating fib(166)\n",
      "Calculating fib(165)\n",
      "Calculating fib(164)\n",
      "Calculating fib(163)\n",
      "Calculating fib(162)\n",
      "Calculating fib(161)\n",
      "Calculating fib(160)\n",
      "Calculating fib(159)\n",
      "Calculating fib(158)\n",
      "Calculating fib(157)\n",
      "Calculating fib(156)\n",
      "Calculating fib(155)\n",
      "Calculating fib(154)\n",
      "Calculating fib(153)\n",
      "Calculating fib(152)\n",
      "Calculating fib(151)\n",
      "Calculating fib(150)\n",
      "Calculating fib(149)\n",
      "Calculating fib(148)\n",
      "Calculating fib(147)\n",
      "Calculating fib(146)\n",
      "Calculating fib(145)\n",
      "Calculating fib(144)\n",
      "Calculating fib(143)\n",
      "Calculating fib(142)\n",
      "Calculating fib(141)\n",
      "Calculating fib(140)\n",
      "Calculating fib(139)\n",
      "Calculating fib(138)\n",
      "Calculating fib(137)\n",
      "Calculating fib(136)\n",
      "Calculating fib(135)\n",
      "Calculating fib(134)\n",
      "Calculating fib(133)\n",
      "Calculating fib(132)\n",
      "Calculating fib(131)\n",
      "Calculating fib(130)\n",
      "Calculating fib(129)\n",
      "Calculating fib(128)\n",
      "Calculating fib(127)\n",
      "Calculating fib(126)\n",
      "Calculating fib(125)\n",
      "Calculating fib(124)\n",
      "Calculating fib(123)\n",
      "Calculating fib(122)\n",
      "Calculating fib(121)\n",
      "Calculating fib(120)\n",
      "Calculating fib(119)\n",
      "Calculating fib(118)\n",
      "Calculating fib(117)\n",
      "Calculating fib(116)\n",
      "Calculating fib(115)\n",
      "Calculating fib(114)\n",
      "Calculating fib(113)\n",
      "Calculating fib(112)\n",
      "Calculating fib(111)\n",
      "Calculating fib(110)\n",
      "Calculating fib(109)\n",
      "Calculating fib(108)\n",
      "Calculating fib(107)\n",
      "Calculating fib(106)\n",
      "Calculating fib(105)\n",
      "Calculating fib(104)\n",
      "Calculating fib(103)\n",
      "Calculating fib(102)\n",
      "Calculating fib(101)\n",
      "Calculating fib(100)\n",
      "Calculating fib(99)\n",
      "Calculating fib(98)\n",
      "Calculating fib(97)\n",
      "Calculating fib(96)\n",
      "Calculating fib(95)\n",
      "Calculating fib(94)\n",
      "Calculating fib(93)\n",
      "Calculating fib(92)\n",
      "Calculating fib(91)\n",
      "Calculating fib(90)\n",
      "Calculating fib(89)\n",
      "Calculating fib(88)\n",
      "Calculating fib(87)\n",
      "Calculating fib(86)\n",
      "Calculating fib(85)\n",
      "Calculating fib(84)\n",
      "Calculating fib(83)\n",
      "Calculating fib(82)\n",
      "Calculating fib(81)\n",
      "Calculating fib(80)\n",
      "Calculating fib(79)\n",
      "Calculating fib(78)\n",
      "Calculating fib(77)\n",
      "Calculating fib(76)\n",
      "Calculating fib(75)\n",
      "Calculating fib(74)\n",
      "Calculating fib(73)\n",
      "Calculating fib(72)\n",
      "Calculating fib(71)\n",
      "Calculating fib(70)\n",
      "Calculating fib(69)\n",
      "Calculating fib(68)\n",
      "Calculating fib(67)\n",
      "Calculating fib(66)\n",
      "Calculating fib(65)\n",
      "Calculating fib(64)\n",
      "Calculating fib(63)\n",
      "Calculating fib(62)\n",
      "Calculating fib(61)\n",
      "Calculating fib(60)\n",
      "Calculating fib(59)\n",
      "Calculating fib(58)\n",
      "Calculating fib(57)\n",
      "Calculating fib(56)\n",
      "Calculating fib(55)\n",
      "Calculating fib(54)\n",
      "Calculating fib(53)\n",
      "Calculating fib(52)\n",
      "Calculating fib(51)\n",
      "Calculating fib(50)\n",
      "Calculating fib(49)\n",
      "Calculating fib(48)\n",
      "Calculating fib(47)\n",
      "Calculating fib(46)\n",
      "Calculating fib(45)\n",
      "Calculating fib(44)\n",
      "Calculating fib(43)\n",
      "Calculating fib(42)\n",
      "Calculating fib(41)\n",
      "Calculating fib(40)\n",
      "Calculating fib(39)\n",
      "Calculating fib(38)\n",
      "Calculating fib(37)\n",
      "Calculating fib(36)\n",
      "Calculating fib(35)\n",
      "Calculating fib(34)\n",
      "Calculating fib(33)\n",
      "Calculating fib(32)\n",
      "Calculating fib(31)\n",
      "Calculating fib(30)\n",
      "Calculating fib(29)\n",
      "Calculating fib(28)\n",
      "Calculating fib(27)\n",
      "Calculating fib(26)\n",
      "Calculating fib(25)\n",
      "Calculating fib(24)\n",
      "Calculating fib(23)\n",
      "Calculating fib(22)\n",
      "Calculating fib(21)\n",
      "Calculating fib(20)\n",
      "Calculating fib(19)\n",
      "Calculating fib(18)\n",
      "Calculating fib(17)\n",
      "Calculating fib(16)\n",
      "Calculating fib(15)\n",
      "Calculating fib(14)\n",
      "Calculating fib(13)\n",
      "Calculating fib(12)\n",
      "Calculating fib(11)\n"
     ]
    },
    {
     "data": {
      "text/plain": [
       "222232244629420445529739893461909967206666939096499764990979600"
      ]
     },
     "execution_count": 23,
     "metadata": {},
     "output_type": "execute_result"
    }
   ],
   "source": [
    "f(300)"
   ]
  },
  {
   "cell_type": "code",
   "execution_count": 24,
   "id": "1f5b5ee3-1fa0-4af5-95bc-9d77dbfebb49",
   "metadata": {},
   "outputs": [
    {
     "data": {
      "text/plain": [
       "832040"
      ]
     },
     "execution_count": 24,
     "metadata": {},
     "output_type": "execute_result"
    }
   ],
   "source": [
    "f(30)"
   ]
  },
  {
   "cell_type": "code",
   "execution_count": 27,
   "id": "cda2c1a3-422f-4e7b-bdf5-ca42daf233e3",
   "metadata": {},
   "outputs": [
    {
     "data": {
      "text/plain": [
       "55"
      ]
     },
     "execution_count": 27,
     "metadata": {},
     "output_type": "execute_result"
    }
   ],
   "source": [
    "f(10)"
   ]
  },
  {
   "cell_type": "code",
   "execution_count": 28,
   "id": "428b69ac-1822-4fed-bfac-b614cca12cec",
   "metadata": {},
   "outputs": [],
   "source": [
    "### Using decorator"
   ]
  },
  {
   "cell_type": "code",
   "execution_count": 32,
   "id": "c4fc81e1-fbfe-41ae-b086-3bb9728d95b1",
   "metadata": {},
   "outputs": [],
   "source": [
    "def memoize_fib(fib):\n",
    "    cache = dict()\n",
    "    def inner(n):\n",
    "        if n not in cache:\n",
    "            cache[n] = fib(n)\n",
    "        return cache[n]\n",
    "    return inner"
   ]
  },
  {
   "cell_type": "code",
   "execution_count": 33,
   "id": "0d3cf8a2-b86e-46f1-b474-62585aa638a5",
   "metadata": {},
   "outputs": [],
   "source": [
    "@memoize_fib\n",
    "def fib(n):\n",
    "    print('Calculating fib({0})'.format(n))\n",
    "    return 1 if n < 3 else fib(n-1) + fib(n-2)"
   ]
  },
  {
   "cell_type": "code",
   "execution_count": 34,
   "id": "e5c9bfdc-b49d-499d-a278-3a3aaf2a3297",
   "metadata": {},
   "outputs": [
    {
     "name": "stdout",
     "output_type": "stream",
     "text": [
      "Calculating fib(10)\n",
      "Calculating fib(9)\n",
      "Calculating fib(8)\n",
      "Calculating fib(7)\n",
      "Calculating fib(6)\n",
      "Calculating fib(5)\n",
      "Calculating fib(4)\n",
      "Calculating fib(3)\n",
      "Calculating fib(2)\n",
      "Calculating fib(1)\n"
     ]
    },
    {
     "data": {
      "text/plain": [
       "55"
      ]
     },
     "execution_count": 34,
     "metadata": {},
     "output_type": "execute_result"
    }
   ],
   "source": [
    "fib(10)"
   ]
  },
  {
   "cell_type": "code",
   "execution_count": 35,
   "id": "abbc9f66-5148-4b4d-93bb-cd7a8c5c4510",
   "metadata": {},
   "outputs": [
    {
     "name": "stdout",
     "output_type": "stream",
     "text": [
      "Calculating fib(12)\n",
      "Calculating fib(11)\n"
     ]
    },
    {
     "data": {
      "text/plain": [
       "144"
      ]
     },
     "execution_count": 35,
     "metadata": {},
     "output_type": "execute_result"
    }
   ],
   "source": [
    "fib(12)"
   ]
  },
  {
   "cell_type": "code",
   "execution_count": 36,
   "id": "ccc84875-68e2-4128-8bf0-ef5494a55cd4",
   "metadata": {},
   "outputs": [
    {
     "data": {
      "text/plain": [
       "89"
      ]
     },
     "execution_count": 36,
     "metadata": {},
     "output_type": "execute_result"
    }
   ],
   "source": [
    "fib(11)"
   ]
  },
  {
   "cell_type": "code",
   "execution_count": 50,
   "id": "fe0104a4-8354-4890-b09b-2bd889a2c30e",
   "metadata": {},
   "outputs": [],
   "source": [
    "def memoize(fn):\n",
    "    cache = dict() # Cache without limits for now\n",
    "    def inner(n):\n",
    "        if n not in cache:\n",
    "            cache[n] = fn(n)\n",
    "        return cache[n]\n",
    "    return inner"
   ]
  },
  {
   "cell_type": "code",
   "execution_count": 41,
   "id": "0e4cd79e-1b12-419a-85ee-89147c4bba9c",
   "metadata": {},
   "outputs": [],
   "source": [
    "@memoize\n",
    "def fib(n):\n",
    "    print('Calculating fib({0})'.format(n))\n",
    "    return 1 if n < 3 else fib(n-1) + fib(n-2)"
   ]
  },
  {
   "cell_type": "code",
   "execution_count": 42,
   "id": "da330564-404f-44b4-ab9d-a86a4a61fc17",
   "metadata": {},
   "outputs": [
    {
     "name": "stdout",
     "output_type": "stream",
     "text": [
      "Calculating fib(10)\n",
      "Calculating fib(9)\n",
      "Calculating fib(8)\n",
      "Calculating fib(7)\n",
      "Calculating fib(6)\n",
      "Calculating fib(5)\n",
      "Calculating fib(4)\n",
      "Calculating fib(3)\n",
      "Calculating fib(2)\n",
      "Calculating fib(1)\n"
     ]
    },
    {
     "data": {
      "text/plain": [
       "55"
      ]
     },
     "execution_count": 42,
     "metadata": {},
     "output_type": "execute_result"
    }
   ],
   "source": [
    "fib(10)"
   ]
  },
  {
   "cell_type": "code",
   "execution_count": 43,
   "id": "6d242b2c-a94d-4898-a0f2-6894149d324f",
   "metadata": {},
   "outputs": [
    {
     "name": "stdout",
     "output_type": "stream",
     "text": [
      "Calculating fib(11)\n"
     ]
    },
    {
     "data": {
      "text/plain": [
       "89"
      ]
     },
     "execution_count": 43,
     "metadata": {},
     "output_type": "execute_result"
    }
   ],
   "source": [
    "fib(11)"
   ]
  },
  {
   "cell_type": "code",
   "execution_count": 45,
   "id": "e7f41ff0-7da4-4dfd-b5dd-13dbd327bab3",
   "metadata": {},
   "outputs": [],
   "source": [
    "@memoize\n",
    "def fact(n):\n",
    "    print('Calculating {0}!'.format(n))\n",
    "    return 1 if n < 2 else n * fact(n - 1)"
   ]
  },
  {
   "cell_type": "code",
   "execution_count": 46,
   "id": "93eef9d1-5409-45e1-a9c4-7fe770603934",
   "metadata": {},
   "outputs": [
    {
     "name": "stdout",
     "output_type": "stream",
     "text": [
      "Calculating 10!\n",
      "Calculating 9!\n",
      "Calculating 8!\n",
      "Calculating 7!\n",
      "Calculating 6!\n",
      "Calculating 5!\n",
      "Calculating 4!\n",
      "Calculating 3!\n",
      "Calculating 2!\n",
      "Calculating 1!\n"
     ]
    },
    {
     "data": {
      "text/plain": [
       "3628800"
      ]
     },
     "execution_count": 46,
     "metadata": {},
     "output_type": "execute_result"
    }
   ],
   "source": [
    "fact(10)"
   ]
  },
  {
   "cell_type": "code",
   "execution_count": 47,
   "id": "967503f3-a45b-4097-90f7-a0bcb5683baa",
   "metadata": {},
   "outputs": [
    {
     "data": {
      "text/plain": [
       "120"
      ]
     },
     "execution_count": 47,
     "metadata": {},
     "output_type": "execute_result"
    }
   ],
   "source": [
    "fact(5)"
   ]
  },
  {
   "cell_type": "code",
   "execution_count": 48,
   "id": "9a0a5299-5fcf-412c-9678-1de213dc86c5",
   "metadata": {},
   "outputs": [
    {
     "name": "stdout",
     "output_type": "stream",
     "text": [
      "Calculating 12!\n",
      "Calculating 11!\n"
     ]
    },
    {
     "data": {
      "text/plain": [
       "479001600"
      ]
     },
     "execution_count": 48,
     "metadata": {},
     "output_type": "execute_result"
    }
   ],
   "source": [
    "fact(12)"
   ]
  },
  {
   "cell_type": "code",
   "execution_count": 49,
   "id": "862f2de8-f612-454d-84bc-e5eaea307297",
   "metadata": {},
   "outputs": [
    {
     "name": "stdout",
     "output_type": "stream",
     "text": [
      "Calculating fib(35)\n",
      "Calculating fib(34)\n",
      "Calculating fib(33)\n",
      "Calculating fib(32)\n",
      "Calculating fib(31)\n",
      "Calculating fib(30)\n",
      "Calculating fib(29)\n",
      "Calculating fib(28)\n",
      "Calculating fib(27)\n",
      "Calculating fib(26)\n",
      "Calculating fib(25)\n",
      "Calculating fib(24)\n",
      "Calculating fib(23)\n",
      "Calculating fib(22)\n",
      "Calculating fib(21)\n",
      "Calculating fib(20)\n",
      "Calculating fib(19)\n",
      "Calculating fib(18)\n",
      "Calculating fib(17)\n",
      "Calculating fib(16)\n",
      "Calculating fib(15)\n",
      "Calculating fib(14)\n",
      "Calculating fib(13)\n",
      "Calculating fib(12)\n",
      "9227465\n",
      "0.003778564976528287\n"
     ]
    }
   ],
   "source": [
    "from time import perf_counter\n",
    "\n",
    "start = perf_counter()\n",
    "print(fib(35))\n",
    "end=perf_counter()\n",
    "print(end - start)"
   ]
  },
  {
   "cell_type": "code",
   "execution_count": 51,
   "id": "aaaadb26-5414-42a4-b16f-2e220dd61355",
   "metadata": {},
   "outputs": [],
   "source": [
    "from functools import lru_cache"
   ]
  },
  {
   "cell_type": "code",
   "execution_count": 52,
   "id": "70a67b04-e2b2-4d3c-9d8c-6d39142bbae0",
   "metadata": {},
   "outputs": [],
   "source": [
    "@lru_cache()\n",
    "def fib(n):\n",
    "    print('Calculating {0}!'.format(n))\n",
    "    return 1 if n < 3 else fib(n - 1) + fib(n - 2)"
   ]
  },
  {
   "cell_type": "code",
   "execution_count": 53,
   "id": "8f5b9123-d347-419a-9c6a-aa5489d46c67",
   "metadata": {},
   "outputs": [
    {
     "name": "stdout",
     "output_type": "stream",
     "text": [
      "Calculating 10!\n",
      "Calculating 9!\n",
      "Calculating 8!\n",
      "Calculating 7!\n",
      "Calculating 6!\n",
      "Calculating 5!\n",
      "Calculating 4!\n",
      "Calculating 3!\n",
      "Calculating 2!\n",
      "Calculating 1!\n"
     ]
    },
    {
     "data": {
      "text/plain": [
       "55"
      ]
     },
     "execution_count": 53,
     "metadata": {},
     "output_type": "execute_result"
    }
   ],
   "source": [
    "fib(10)"
   ]
  },
  {
   "cell_type": "code",
   "execution_count": 54,
   "id": "329862c9-6ad6-4032-92cf-75f4f670437a",
   "metadata": {},
   "outputs": [
    {
     "name": "stdout",
     "output_type": "stream",
     "text": [
      "Calculating 20!\n",
      "Calculating 19!\n",
      "Calculating 18!\n",
      "Calculating 17!\n",
      "Calculating 16!\n",
      "Calculating 15!\n",
      "Calculating 14!\n",
      "Calculating 13!\n",
      "Calculating 12!\n",
      "Calculating 11!\n"
     ]
    },
    {
     "data": {
      "text/plain": [
       "6765"
      ]
     },
     "execution_count": 54,
     "metadata": {},
     "output_type": "execute_result"
    }
   ],
   "source": [
    "fib(20)"
   ]
  },
  {
   "cell_type": "code",
   "execution_count": 55,
   "id": "80e9d88c-62b0-46b9-9944-42f60848b66b",
   "metadata": {},
   "outputs": [
    {
     "name": "stdout",
     "output_type": "stream",
     "text": [
      "Calculating 50!\n",
      "Calculating 49!\n",
      "Calculating 48!\n",
      "Calculating 47!\n",
      "Calculating 46!\n",
      "Calculating 45!\n",
      "Calculating 44!\n",
      "Calculating 43!\n",
      "Calculating 42!\n",
      "Calculating 41!\n",
      "Calculating 40!\n",
      "Calculating 39!\n",
      "Calculating 38!\n",
      "Calculating 37!\n",
      "Calculating 36!\n",
      "Calculating 35!\n",
      "Calculating 34!\n",
      "Calculating 33!\n",
      "Calculating 32!\n",
      "Calculating 31!\n",
      "Calculating 30!\n",
      "Calculating 29!\n",
      "Calculating 28!\n",
      "Calculating 27!\n",
      "Calculating 26!\n",
      "Calculating 25!\n",
      "Calculating 24!\n",
      "Calculating 23!\n",
      "Calculating 22!\n",
      "Calculating 21!\n"
     ]
    },
    {
     "data": {
      "text/plain": [
       "12586269025"
      ]
     },
     "execution_count": 55,
     "metadata": {},
     "output_type": "execute_result"
    }
   ],
   "source": [
    "fib(50)"
   ]
  },
  {
   "cell_type": "code",
   "execution_count": 62,
   "id": "cb45fc65-8db9-4ec1-9407-84d13caf3635",
   "metadata": {},
   "outputs": [
    {
     "data": {
      "text/plain": [
       "55"
      ]
     },
     "execution_count": 62,
     "metadata": {},
     "output_type": "execute_result"
    }
   ],
   "source": [
    "fib(10)"
   ]
  },
  {
   "cell_type": "code",
   "execution_count": 63,
   "id": "ce6ba989-29d5-4c66-8aed-75c0259921aa",
   "metadata": {},
   "outputs": [
    {
     "data": {
      "text/plain": [
       "89"
      ]
     },
     "execution_count": 63,
     "metadata": {},
     "output_type": "execute_result"
    }
   ],
   "source": [
    "fib(11)"
   ]
  },
  {
   "cell_type": "code",
   "execution_count": 64,
   "id": "aa18c4b3-751e-4995-b31b-a578f927cfd7",
   "metadata": {},
   "outputs": [
    {
     "data": {
      "text/plain": [
       "267914296"
      ]
     },
     "execution_count": 64,
     "metadata": {},
     "output_type": "execute_result"
    }
   ],
   "source": [
    "fib(42)"
   ]
  },
  {
   "cell_type": "code",
   "execution_count": 65,
   "id": "926b7659-32d9-491e-aa0a-afa46b2519a7",
   "metadata": {},
   "outputs": [
    {
     "data": {
      "text/plain": [
       "12586269025"
      ]
     },
     "execution_count": 65,
     "metadata": {},
     "output_type": "execute_result"
    }
   ],
   "source": [
    "fib(50)"
   ]
  },
  {
   "cell_type": "code",
   "execution_count": 67,
   "id": "194cf023-dc23-418b-99fe-7198385b03f4",
   "metadata": {},
   "outputs": [],
   "source": [
    "@lru_cache(maxsize=8)\n",
    "def fib(n):\n",
    "    print('Calculating {0}!'.format(n))\n",
    "    return 1 if n < 3 else fib(n - 1) + fib(n - 2)"
   ]
  },
  {
   "cell_type": "code",
   "execution_count": 68,
   "id": "bd7d2cb3-4108-4ed5-ad1d-019264de2dbc",
   "metadata": {},
   "outputs": [
    {
     "name": "stdout",
     "output_type": "stream",
     "text": [
      "Calculating 8!\n",
      "Calculating 7!\n",
      "Calculating 6!\n",
      "Calculating 5!\n",
      "Calculating 4!\n",
      "Calculating 3!\n",
      "Calculating 2!\n",
      "Calculating 1!\n"
     ]
    },
    {
     "data": {
      "text/plain": [
       "21"
      ]
     },
     "execution_count": 68,
     "metadata": {},
     "output_type": "execute_result"
    }
   ],
   "source": [
    "fib(8)"
   ]
  },
  {
   "cell_type": "code",
   "execution_count": 69,
   "id": "09fb79b3-38e1-4e19-8241-842a9ef43880",
   "metadata": {},
   "outputs": [
    {
     "data": {
      "text/plain": [
       "21"
      ]
     },
     "execution_count": 69,
     "metadata": {},
     "output_type": "execute_result"
    }
   ],
   "source": [
    "fib(8)"
   ]
  },
  {
   "cell_type": "code",
   "execution_count": 70,
   "id": "8091e577-9c11-4ae3-b697-f8b9d25975e6",
   "metadata": {},
   "outputs": [
    {
     "name": "stdout",
     "output_type": "stream",
     "text": [
      "Calculating 16!\n",
      "Calculating 15!\n",
      "Calculating 14!\n",
      "Calculating 13!\n",
      "Calculating 12!\n",
      "Calculating 11!\n",
      "Calculating 10!\n",
      "Calculating 9!\n"
     ]
    },
    {
     "data": {
      "text/plain": [
       "987"
      ]
     },
     "execution_count": 70,
     "metadata": {},
     "output_type": "execute_result"
    }
   ],
   "source": [
    "fib(16)"
   ]
  },
  {
   "cell_type": "code",
   "execution_count": 71,
   "id": "e7a7b1c9-d9d6-4d4e-8e51-0b50f8229825",
   "metadata": {},
   "outputs": [
    {
     "name": "stdout",
     "output_type": "stream",
     "text": [
      "Calculating 1!\n"
     ]
    },
    {
     "data": {
      "text/plain": [
       "1"
      ]
     },
     "execution_count": 71,
     "metadata": {},
     "output_type": "execute_result"
    }
   ],
   "source": [
    "fib(1)"
   ]
  },
  {
   "cell_type": "code",
   "execution_count": 72,
   "id": "6b07cf86-1007-49ff-9f2f-d8f09bf3833a",
   "metadata": {},
   "outputs": [
    {
     "name": "stdout",
     "output_type": "stream",
     "text": [
      "Calculating 3!\n",
      "Calculating 2!\n"
     ]
    },
    {
     "data": {
      "text/plain": [
       "2"
      ]
     },
     "execution_count": 72,
     "metadata": {},
     "output_type": "execute_result"
    }
   ],
   "source": [
    "fib(3)"
   ]
  },
  {
   "cell_type": "code",
   "execution_count": 73,
   "id": "c4717228-19b3-4c5a-b66c-3337b880dce8",
   "metadata": {},
   "outputs": [
    {
     "data": {
      "text/plain": [
       "1"
      ]
     },
     "execution_count": 73,
     "metadata": {},
     "output_type": "execute_result"
    }
   ],
   "source": [
    "fib(2)"
   ]
  },
  {
   "cell_type": "code",
   "execution_count": 74,
   "id": "26ffe437-066f-4579-8f00-ff0e51c1afd8",
   "metadata": {},
   "outputs": [
    {
     "name": "stdout",
     "output_type": "stream",
     "text": [
      "Calculating 5!\n",
      "Calculating 4!\n"
     ]
    },
    {
     "data": {
      "text/plain": [
       "5"
      ]
     },
     "execution_count": 74,
     "metadata": {},
     "output_type": "execute_result"
    }
   ],
   "source": [
    "fib(5)"
   ]
  },
  {
   "cell_type": "code",
   "execution_count": 75,
   "id": "fc280a8a-7725-4173-9fd0-fed96bea4b1f",
   "metadata": {},
   "outputs": [
    {
     "data": {
      "text/plain": [
       "1"
      ]
     },
     "execution_count": 75,
     "metadata": {},
     "output_type": "execute_result"
    }
   ],
   "source": [
    "fib(2)"
   ]
  },
  {
   "cell_type": "code",
   "execution_count": 76,
   "id": "f8ebf224-870f-484b-994a-0def4b818c22",
   "metadata": {},
   "outputs": [
    {
     "data": {
      "text/plain": [
       "987"
      ]
     },
     "execution_count": 76,
     "metadata": {},
     "output_type": "execute_result"
    }
   ],
   "source": [
    "fib(16)"
   ]
  },
  {
   "cell_type": "code",
   "execution_count": 77,
   "id": "a6b51128-108c-4a76-8840-f4cb435691b1",
   "metadata": {},
   "outputs": [
    {
     "data": {
      "text/plain": [
       "1"
      ]
     },
     "execution_count": 77,
     "metadata": {},
     "output_type": "execute_result"
    }
   ],
   "source": [
    "fib(2)"
   ]
  },
  {
   "cell_type": "code",
   "execution_count": 78,
   "id": "161bd55e-462e-4508-999c-598c3d671c60",
   "metadata": {},
   "outputs": [
    {
     "name": "stdout",
     "output_type": "stream",
     "text": [
      "Calculating 40!\n",
      "Calculating 39!\n",
      "Calculating 38!\n",
      "Calculating 37!\n",
      "Calculating 36!\n",
      "Calculating 35!\n",
      "Calculating 34!\n",
      "Calculating 33!\n",
      "Calculating 32!\n",
      "Calculating 31!\n",
      "Calculating 30!\n",
      "Calculating 29!\n",
      "Calculating 28!\n",
      "Calculating 27!\n",
      "Calculating 26!\n",
      "Calculating 25!\n",
      "Calculating 24!\n",
      "Calculating 23!\n",
      "Calculating 22!\n",
      "Calculating 21!\n",
      "Calculating 20!\n",
      "Calculating 19!\n",
      "Calculating 18!\n",
      "Calculating 17!\n"
     ]
    },
    {
     "data": {
      "text/plain": [
       "102334155"
      ]
     },
     "execution_count": 78,
     "metadata": {},
     "output_type": "execute_result"
    }
   ],
   "source": [
    "fib(40)"
   ]
  },
  {
   "cell_type": "code",
   "execution_count": 79,
   "id": "7b3bd3f3-ab57-4ba1-b647-1a7547e2bcc7",
   "metadata": {},
   "outputs": [
    {
     "name": "stdout",
     "output_type": "stream",
     "text": [
      "Calculating 3!\n",
      "Calculating 2!\n",
      "Calculating 1!\n"
     ]
    },
    {
     "data": {
      "text/plain": [
       "2"
      ]
     },
     "execution_count": 79,
     "metadata": {},
     "output_type": "execute_result"
    }
   ],
   "source": [
    "fib(3)"
   ]
  },
  {
   "cell_type": "code",
   "execution_count": 96,
   "id": "1b659fed-3ed3-4dd0-9555-6779ddc7fc89",
   "metadata": {},
   "outputs": [],
   "source": [
    "def gen():\n",
    "    num = 0\n",
    "    while True:\n",
    "        yield num\n",
    "        num += 1"
   ]
  },
  {
   "cell_type": "code",
   "execution_count": 112,
   "id": "924728ee-e8e0-42c6-8c61-77575080e869",
   "metadata": {},
   "outputs": [],
   "source": [
    "infinite_sequence = gen()"
   ]
  },
  {
   "cell_type": "code",
   "execution_count": 148,
   "id": "dc094c02-d2b1-4001-91bf-0be5395d3da0",
   "metadata": {},
   "outputs": [],
   "source": [
    "def timed(reps):\n",
    "    def dec(fn):\n",
    "        from time import perf_counter\n",
    "        from functools import wraps\n",
    "\n",
    "        @wraps(fn)\n",
    "        def inner(*args, **kwargs):\n",
    "            total_elapsed = 0\n",
    "            for i in range(reps):\n",
    "                start = perf_counter()\n",
    "                result = fn(*args, **kwargs)\n",
    "                total_elapsed += (perf_counter() - start)\n",
    "            avg_elapsed = total_elapsed / reps\n",
    "            print('Run time: {0:.6f}s'.format(avg_elapsed))\n",
    "            return result\n",
    "        return inner\n",
    "    return dec"
   ]
  },
  {
   "cell_type": "code",
   "execution_count": 149,
   "id": "2426aec9-5a7b-4dcc-9889-187b1855c2e7",
   "metadata": {},
   "outputs": [],
   "source": [
    "def calc_fib_recursive(n):\n",
    "    return 1 if n < 3 else calc_fib_recursive(n - 1) + calc_fib_recursive(n - 2)"
   ]
  },
  {
   "cell_type": "code",
   "execution_count": 150,
   "id": "81391848-bb84-4986-9482-05b1d20055bd",
   "metadata": {},
   "outputs": [],
   "source": [
    "@timed(10)\n",
    "def fib(n):\n",
    "    return calc_fib_recursive(n)"
   ]
  },
  {
   "cell_type": "code",
   "execution_count": 154,
   "id": "91fd68e1-8ace-4589-ad48-b62fa925e524",
   "metadata": {},
   "outputs": [
    {
     "name": "stdout",
     "output_type": "stream",
     "text": [
      "Run time: 0.098764s\n"
     ]
    },
    {
     "data": {
      "text/plain": [
       "832040"
      ]
     },
     "execution_count": 154,
     "metadata": {},
     "output_type": "execute_result"
    }
   ],
   "source": [
    "fib(30)"
   ]
  },
  {
   "cell_type": "code",
   "execution_count": 175,
   "id": "ad219372-d082-4f07-86f1-5cbda3865e31",
   "metadata": {},
   "outputs": [],
   "source": [
    "### Decorator Factory with Classes\n",
    "\n",
    "class MyClass:\n",
    "    def __init__(self, a, b):\n",
    "        self.a = a\n",
    "        self.b = b\n",
    "    def __call__(self, fn):\n",
    "        def inner(*args, **kwargs):\n",
    "            print(\"Decorated function called: a={0}, b={1}\".format(self.a, self.b))\n",
    "            return fn(*args, **kwargs)\n",
    "        return inner"
   ]
  },
  {
   "cell_type": "code",
   "execution_count": 176,
   "id": "56447f92-d343-4716-b08d-84d46e992d74",
   "metadata": {},
   "outputs": [],
   "source": [
    "@MyClass(10, 20)\n",
    "def my_func(s):\n",
    "    print('Hello {0}'.format(s))"
   ]
  },
  {
   "cell_type": "code",
   "execution_count": 177,
   "id": "cb1276c0-9176-41af-956f-ad54def61be6",
   "metadata": {},
   "outputs": [
    {
     "name": "stdout",
     "output_type": "stream",
     "text": [
      "Decorated function called: a=10, b=20\n",
      "Hello World\n"
     ]
    }
   ],
   "source": [
    "my_func('World')"
   ]
  },
  {
   "cell_type": "code",
   "execution_count": 178,
   "id": "b52f4bf5-8c0a-44f4-a0e0-4a0caad09b1e",
   "metadata": {},
   "outputs": [],
   "source": [
    "obj = MyClass(10, 20)"
   ]
  },
  {
   "cell_type": "code",
   "execution_count": 179,
   "id": "1faf38db-8a5a-41b1-8f75-35a99c0d7014",
   "metadata": {},
   "outputs": [],
   "source": [
    "@obj\n",
    "def my_func(s):\n",
    "    print('Hello {0}'.format(s))"
   ]
  },
  {
   "cell_type": "code",
   "execution_count": 180,
   "id": "fa34d50f-da04-4048-92a0-d0c3cb37013a",
   "metadata": {},
   "outputs": [
    {
     "name": "stdout",
     "output_type": "stream",
     "text": [
      "Decorated function called: a=10, b=20\n",
      "Hello World\n"
     ]
    }
   ],
   "source": [
    "my_func('World')"
   ]
  }
 ],
 "metadata": {
  "kernelspec": {
   "display_name": "Python 3 (ipykernel)",
   "language": "python",
   "name": "python3"
  },
  "language_info": {
   "codemirror_mode": {
    "name": "ipython",
    "version": 3
   },
   "file_extension": ".py",
   "mimetype": "text/x-python",
   "name": "python",
   "nbconvert_exporter": "python",
   "pygments_lexer": "ipython3",
   "version": "3.12.2"
  }
 },
 "nbformat": 4,
 "nbformat_minor": 5
}
