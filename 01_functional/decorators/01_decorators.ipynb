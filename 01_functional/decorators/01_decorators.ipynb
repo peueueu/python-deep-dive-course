{
 "cells": [
  {
   "cell_type": "markdown",
   "id": "d012f6ca-abf8-4980-bd50-dd0db1e4205b",
   "metadata": {},
   "source": [
    "### Decorators"
   ]
  },
  {
   "cell_type": "code",
   "execution_count": 50,
   "id": "446c7775-468c-45f6-a129-a4ebed3a73c2",
   "metadata": {},
   "outputs": [],
   "source": [
    "def counter(fn):\n",
    "    count = 0\n",
    "\n",
    "    def inner(*args, **kwargs):\n",
    "        nonlocal count\n",
    "        count += 1\n",
    "        print(\"Function {0} was called {1} times\".format(fn.__name__, count))\n",
    "        return fn(*args, **kwargs)\n",
    "    return inner"
   ]
  },
  {
   "cell_type": "code",
   "execution_count": 51,
   "id": "23cb8058-5c2c-43b5-92b2-5357955717e4",
   "metadata": {},
   "outputs": [],
   "source": [
    "def add(a:int, b:int = 0):\n",
    "    \"\"\"\n",
    "    Adds two values\n",
    "    \"\"\"\n",
    "    return a + b"
   ]
  },
  {
   "cell_type": "code",
   "execution_count": 52,
   "id": "4eaa5406-559b-4ddc-a742-f75c3ca49dca",
   "metadata": {},
   "outputs": [
    {
     "name": "stdout",
     "output_type": "stream",
     "text": [
      "Help on function add in module __main__:\n",
      "\n",
      "add(a: int, b: int = 0)\n",
      "    Adds two values\n",
      "\n"
     ]
    }
   ],
   "source": [
    "help(add)"
   ]
  },
  {
   "cell_type": "code",
   "execution_count": 53,
   "id": "a160d6db-6089-4511-8c09-86a960a6d7de",
   "metadata": {},
   "outputs": [
    {
     "data": {
      "text/plain": [
       "4515477792"
      ]
     },
     "execution_count": 53,
     "metadata": {},
     "output_type": "execute_result"
    }
   ],
   "source": [
    "id(add)"
   ]
  },
  {
   "cell_type": "code",
   "execution_count": 54,
   "id": "b221bf39-6d95-4b8e-8aa5-cbb45e48d0b9",
   "metadata": {},
   "outputs": [],
   "source": [
    "add = counter(add)"
   ]
  },
  {
   "cell_type": "code",
   "execution_count": 55,
   "id": "61b66c9f-fad2-4a65-9a05-54575e729cf6",
   "metadata": {},
   "outputs": [
    {
     "data": {
      "text/plain": [
       "4515465152"
      ]
     },
     "execution_count": 55,
     "metadata": {},
     "output_type": "execute_result"
    }
   ],
   "source": [
    "id(add)"
   ]
  },
  {
   "cell_type": "code",
   "execution_count": 56,
   "id": "2104ff89-6de9-47fd-a2af-f3ce687a1fb5",
   "metadata": {},
   "outputs": [
    {
     "name": "stdout",
     "output_type": "stream",
     "text": [
      "Function add was called 1 times\n"
     ]
    },
    {
     "data": {
      "text/plain": [
       "19"
      ]
     },
     "execution_count": 56,
     "metadata": {},
     "output_type": "execute_result"
    }
   ],
   "source": [
    "add(19)"
   ]
  },
  {
   "cell_type": "code",
   "execution_count": 57,
   "id": "a4d29fd0-9ea7-46d3-8ff8-1c4b4c715aeb",
   "metadata": {},
   "outputs": [
    {
     "name": "stdout",
     "output_type": "stream",
     "text": [
      "Help on function inner in module __main__:\n",
      "\n",
      "inner(*args, **kwargs)\n",
      "\n"
     ]
    }
   ],
   "source": [
    "help(add)"
   ]
  },
  {
   "cell_type": "code",
   "execution_count": 58,
   "id": "bc7af7cb-c8e9-4980-9d59-7ff388b6f82c",
   "metadata": {},
   "outputs": [
    {
     "name": "stdout",
     "output_type": "stream",
     "text": [
      "Function add was called 2 times\n"
     ]
    },
    {
     "data": {
      "text/plain": [
       "10"
      ]
     },
     "execution_count": 58,
     "metadata": {},
     "output_type": "execute_result"
    }
   ],
   "source": [
    "add(10)"
   ]
  },
  {
   "cell_type": "code",
   "execution_count": 59,
   "id": "d844448d-6555-48cc-ad07-9a72ebeae72a",
   "metadata": {},
   "outputs": [],
   "source": [
    "def mult(a:int, b:int, c:int = 1, *, d):\n",
    "    \"\"\"\n",
    "        Multiplies four values\n",
    "    \"\"\"\n",
    "    return a * b * c * d"
   ]
  },
  {
   "cell_type": "code",
   "execution_count": 60,
   "id": "05f905fe-656e-4315-ad9f-ae9be90f7461",
   "metadata": {},
   "outputs": [
    {
     "data": {
      "text/plain": [
       "24"
      ]
     },
     "execution_count": 60,
     "metadata": {},
     "output_type": "execute_result"
    }
   ],
   "source": [
    "mult(1, 2, 3, d = 4)"
   ]
  },
  {
   "cell_type": "code",
   "execution_count": 61,
   "id": "a738c1ac-32e6-4c20-81d4-2e634f48a753",
   "metadata": {},
   "outputs": [],
   "source": [
    "mult = counter(mult)"
   ]
  },
  {
   "cell_type": "code",
   "execution_count": 62,
   "id": "c9a03bf1-bc80-441d-924f-9a01a97ab5fd",
   "metadata": {},
   "outputs": [
    {
     "name": "stdout",
     "output_type": "stream",
     "text": [
      "Help on function inner in module __main__:\n",
      "\n",
      "inner(*args, **kwargs)\n",
      "\n"
     ]
    }
   ],
   "source": [
    "help(mult)"
   ]
  },
  {
   "cell_type": "code",
   "execution_count": 63,
   "id": "0701231d-7ea0-4d95-bb99-947b0b4197d7",
   "metadata": {},
   "outputs": [
    {
     "name": "stdout",
     "output_type": "stream",
     "text": [
      "Help on function inner in module __main__:\n",
      "\n",
      "inner(*args, **kwargs)\n",
      "\n"
     ]
    }
   ],
   "source": [
    "help(add)"
   ]
  },
  {
   "cell_type": "code",
   "execution_count": 64,
   "id": "5541f74b-902a-4511-86ea-7f26b2b314b7",
   "metadata": {},
   "outputs": [
    {
     "name": "stdout",
     "output_type": "stream",
     "text": [
      "Function mult was called 1 times\n"
     ]
    },
    {
     "data": {
      "text/plain": [
       "24"
      ]
     },
     "execution_count": 64,
     "metadata": {},
     "output_type": "execute_result"
    }
   ],
   "source": [
    "mult(1, 2, 3, d=4)"
   ]
  },
  {
   "cell_type": "code",
   "execution_count": 65,
   "id": "c6bb25fd-6370-4a25-a43e-e6029e09a470",
   "metadata": {},
   "outputs": [],
   "source": [
    "@counter # Using decorators\n",
    "def my_func(s: str, i: int) -> str:\n",
    "    return s * i"
   ]
  },
  {
   "cell_type": "code",
   "execution_count": 66,
   "id": "ca053916-a667-4cd4-95f0-6023db3c183e",
   "metadata": {},
   "outputs": [
    {
     "name": "stdout",
     "output_type": "stream",
     "text": [
      "Help on function inner in module __main__:\n",
      "\n",
      "inner(*args, **kwargs)\n",
      "\n"
     ]
    }
   ],
   "source": [
    "help(my_func)"
   ]
  },
  {
   "cell_type": "code",
   "execution_count": 67,
   "id": "2f623341-4389-43c0-84e9-d04cff5223bd",
   "metadata": {},
   "outputs": [
    {
     "name": "stdout",
     "output_type": "stream",
     "text": [
      "Function my_func was called 1 times\n"
     ]
    },
    {
     "data": {
      "text/plain": [
       "'aaaaaaaaaa'"
      ]
     },
     "execution_count": 67,
     "metadata": {},
     "output_type": "execute_result"
    }
   ],
   "source": [
    "my_func('a', 10)"
   ]
  },
  {
   "cell_type": "code",
   "execution_count": 68,
   "id": "29915b65-82a7-41b8-a3f4-3f3e0d19f142",
   "metadata": {},
   "outputs": [
    {
     "data": {
      "text/plain": [
       "'inner'"
      ]
     },
     "execution_count": 68,
     "metadata": {},
     "output_type": "execute_result"
    }
   ],
   "source": [
    "mult.__name__"
   ]
  },
  {
   "cell_type": "code",
   "execution_count": 69,
   "id": "14639d9d-ef3f-4d75-9120-3aa58b608eb1",
   "metadata": {},
   "outputs": [],
   "source": [
    "def counter(fn):\n",
    "    count = 0\n",
    "\n",
    "    def inner(*args, **kwargs):\n",
    "        nonlocal count\n",
    "        count += 1\n",
    "        print(\"Function {0} was called {1} times\".format(fn.__name__, count))\n",
    "        return fn(*args, **kwargs)\n",
    "    inner.__name__ = fn.__name__\n",
    "    inner.__doc__ = fn.__doc__\n",
    "    return inner"
   ]
  },
  {
   "cell_type": "code",
   "execution_count": 70,
   "id": "6cf2f8ec-3bc0-44f1-a3e7-946b16d1421d",
   "metadata": {},
   "outputs": [],
   "source": [
    "@counter\n",
    "def mult(a:int, b:int, c:int = 1, *, d):\n",
    "    \"\"\"\n",
    "        Multiplies four values\n",
    "    \"\"\"\n",
    "    return a * b * c * d"
   ]
  },
  {
   "cell_type": "code",
   "execution_count": 71,
   "id": "ced8d6f7-4546-448a-b5fb-7d34220c8aaa",
   "metadata": {},
   "outputs": [
    {
     "name": "stdout",
     "output_type": "stream",
     "text": [
      "Help on function mult in module __main__:\n",
      "\n",
      "mult(*args, **kwargs)\n",
      "    Multiplies four values\n",
      "\n"
     ]
    }
   ],
   "source": [
    "help(mult)"
   ]
  },
  {
   "cell_type": "code",
   "execution_count": 72,
   "id": "574ad5b3-1559-4f04-a262-476b2466fd4c",
   "metadata": {},
   "outputs": [
    {
     "name": "stdout",
     "output_type": "stream",
     "text": [
      "Function mult was called 1 times\n"
     ]
    },
    {
     "data": {
      "text/plain": [
       "240"
      ]
     },
     "execution_count": 72,
     "metadata": {},
     "output_type": "execute_result"
    }
   ],
   "source": [
    "mult(3, 4, 2, d=10)"
   ]
  },
  {
   "cell_type": "code",
   "execution_count": 73,
   "id": "4cf50d5a-9c45-4308-baa6-f6ce46b06b64",
   "metadata": {},
   "outputs": [
    {
     "data": {
      "text/plain": [
       "'mult'"
      ]
     },
     "execution_count": 73,
     "metadata": {},
     "output_type": "execute_result"
    }
   ],
   "source": [
    "mult.__name__"
   ]
  },
  {
   "cell_type": "code",
   "execution_count": 74,
   "id": "167b3a2e-2162-4662-ac91-9e3ca3cb445b",
   "metadata": {},
   "outputs": [],
   "source": [
    "from functools import wraps"
   ]
  },
  {
   "cell_type": "code",
   "execution_count": 75,
   "id": "506adbaf-acbf-4ddc-98f8-c20cc3c9713e",
   "metadata": {},
   "outputs": [],
   "source": [
    "def counter(fn):\n",
    "    count = 0\n",
    "    @wraps(fn) # For capturing the fn metadata\n",
    "    def inner(*args, **kwargs):\n",
    "        nonlocal count\n",
    "        count += 1\n",
    "        print(\"Function {0} was called {1} times\".format(fn.__name__, count))\n",
    "        return fn(*args, **kwargs)\n",
    "    return inner"
   ]
  },
  {
   "cell_type": "code",
   "execution_count": 27,
   "id": "80b5db60-f05b-45be-98f8-01eb795f8fef",
   "metadata": {},
   "outputs": [],
   "source": [
    "@counter\n",
    "def mult(a:int, b:int, c:int = 1, *, d):\n",
    "    \"\"\"\n",
    "        Multiplies four values\n",
    "    \"\"\"\n",
    "    return a * b * c * d"
   ]
  },
  {
   "cell_type": "code",
   "execution_count": 28,
   "id": "36f85b59-051a-4eba-b903-dc02c50bc66d",
   "metadata": {},
   "outputs": [
    {
     "name": "stdout",
     "output_type": "stream",
     "text": [
      "Help on function mult in module __main__:\n",
      "\n",
      "mult(a: int, b: int, c: int = 1, *, d)\n",
      "    Multiplies four values\n",
      "\n"
     ]
    }
   ],
   "source": [
    "help(mult)"
   ]
  },
  {
   "cell_type": "code",
   "execution_count": 29,
   "id": "92333721-7866-4590-951e-25daa272a3b1",
   "metadata": {},
   "outputs": [
    {
     "name": "stdout",
     "output_type": "stream",
     "text": [
      "Function mult was called 1 times\n"
     ]
    },
    {
     "data": {
      "text/plain": [
       "60000"
      ]
     },
     "execution_count": 29,
     "metadata": {},
     "output_type": "execute_result"
    }
   ],
   "source": [
    "mult(10, 20, 30, d=10)"
   ]
  },
  {
   "cell_type": "code",
   "execution_count": 30,
   "id": "1a0b52d5-267c-4882-96a0-1bfe3115e0c6",
   "metadata": {},
   "outputs": [],
   "source": [
    "def timed(fn):\n",
    "    from time import perf_counter\n",
    "    from functools import wraps\n",
    "\n",
    "    @wraps(fn)\n",
    "    def inner(*args, **kwargs):\n",
    "        start = perf_counter()\n",
    "        result = fn(*args, **kwargs)\n",
    "        end = perf_counter()\n",
    "        elapsed = end - start\n",
    "\n",
    "        args_ = [str(a) for a in args]\n",
    "        kwargs_ = ['{0}={1}'.format(key, value) for (key, value) in kwargs.items()]\n",
    "        all_args = args_ + kwargs_\n",
    "        args_str = \",\".join(all_args)\n",
    "\n",
    "        print('{0}({1}) took {2:.6f}s to run'.format(fn.__name__, args_str, elapsed))\n",
    "        return result\n",
    "    return inner"
   ]
  },
  {
   "cell_type": "code",
   "execution_count": 31,
   "id": "71c5ca36-831e-4183-8cc1-2b5c671f47d1",
   "metadata": {},
   "outputs": [],
   "source": [
    "# Calculating Fibbonaci with 3 approaches: \n",
    "# 1. Recursion\n",
    "# 2. Loop\n",
    "# 3. Reduce\n",
    "# Calc the time to run."
   ]
  },
  {
   "cell_type": "code",
   "execution_count": 32,
   "id": "9b50cf05-3654-40e5-85dd-13aa35f2c684",
   "metadata": {},
   "outputs": [],
   "source": [
    "def calc_recursive_fib(n):\n",
    "    if n <= 2:\n",
    "        return 1\n",
    "    else:\n",
    "        return calc_recursive_fib(n-1) + calc_recursive_fib(n-2)"
   ]
  },
  {
   "cell_type": "code",
   "execution_count": 33,
   "id": "9131a62b-8fa7-47e9-baa6-92ba67eec3a7",
   "metadata": {},
   "outputs": [],
   "source": [
    "# Lots of extra calculations that we don't need, fixable using memoization (caching)"
   ]
  },
  {
   "cell_type": "code",
   "execution_count": 34,
   "id": "c2ae7543-ba06-49c1-8627-6686271ec657",
   "metadata": {},
   "outputs": [],
   "source": [
    "@timed\n",
    "def fib_recursive(n):\n",
    "    return calc_recursive_fib(n)"
   ]
  },
  {
   "cell_type": "code",
   "execution_count": 35,
   "id": "3eb87310-b2eb-46bd-ae13-d151aff6f4e4",
   "metadata": {},
   "outputs": [
    {
     "name": "stdout",
     "output_type": "stream",
     "text": [
      "fib_recursive(6) took 0.000004s to run\n"
     ]
    },
    {
     "data": {
      "text/plain": [
       "8"
      ]
     },
     "execution_count": 35,
     "metadata": {},
     "output_type": "execute_result"
    }
   ],
   "source": [
    "fib_recursive(6)"
   ]
  },
  {
   "cell_type": "code",
   "execution_count": 36,
   "id": "64188397-c870-4f4e-ab9c-f707e79ca657",
   "metadata": {},
   "outputs": [
    {
     "name": "stdout",
     "output_type": "stream",
     "text": [
      "fib_recursive(36) took 1.877769s to run\n"
     ]
    },
    {
     "data": {
      "text/plain": [
       "14930352"
      ]
     },
     "execution_count": 36,
     "metadata": {},
     "output_type": "execute_result"
    }
   ],
   "source": [
    "fib_recursive(36)"
   ]
  },
  {
   "cell_type": "code",
   "execution_count": 37,
   "id": "c4a0517e-416c-4e25-9ebe-1b1001e1360c",
   "metadata": {},
   "outputs": [],
   "source": [
    "@timed\n",
    "def fib_loop(n):\n",
    "    fib_1 = 1\n",
    "    fib_2 = 1\n",
    "    for i in range(3, n+1):\n",
    "        fib_1, fib_2 = fib_2, fib_1 + fib_2\n",
    "    return fib_2"
   ]
  },
  {
   "cell_type": "code",
   "execution_count": 38,
   "id": "9f63a5e1-b11f-4b41-80e4-0fb880bfbf1e",
   "metadata": {},
   "outputs": [
    {
     "name": "stdout",
     "output_type": "stream",
     "text": [
      "fib_loop(10) took 0.000005s to run\n"
     ]
    },
    {
     "data": {
      "text/plain": [
       "55"
      ]
     },
     "execution_count": 38,
     "metadata": {},
     "output_type": "execute_result"
    }
   ],
   "source": [
    "fib_loop(10)"
   ]
  },
  {
   "cell_type": "code",
   "execution_count": 39,
   "id": "5c21a047-df2b-4d46-8628-aef92d7cb7b7",
   "metadata": {},
   "outputs": [
    {
     "name": "stdout",
     "output_type": "stream",
     "text": [
      "fib_loop(100) took 0.000012s to run\n"
     ]
    },
    {
     "data": {
      "text/plain": [
       "354224848179261915075"
      ]
     },
     "execution_count": 39,
     "metadata": {},
     "output_type": "execute_result"
    }
   ],
   "source": [
    "fib_loop(100)"
   ]
  },
  {
   "cell_type": "markdown",
   "id": "4b6fae1a-c204-4aca-8fa5-883cf92b6ab6",
   "metadata": {},
   "source": [
    "<pre>\n",
    "n = 1\n",
    "(1, 0) --> (1, 1) --> result t[0] = 1\n",
    "\n",
    "n = 2\n",
    "(1, 0) --> (1, 1) --> (2, 1) --> result t[0] = 2 \n",
    "\n",
    "n = 3\n",
    "(1, 0) --> (1, 1) --> (2, 1) --> (3, 2) --> result t[0] = 3\n",
    "\n",
    "n = 4\n",
    "(1, 0) --> (1, 1) --> (2, 1) --> (3, 2) --> (5, 3) --> result t[0] = 5\n",
    "</pre>"
   ]
  },
  {
   "cell_type": "markdown",
   "id": "c5ad9788-8bc4-49cb-b980-4c3eb817605c",
   "metadata": {},
   "source": [
    "<pre>\n",
    "previous value = (a, b)\n",
    "new value = (a+b, a)\n",
    "</pre>"
   ]
  },
  {
   "cell_type": "code",
   "execution_count": 40,
   "id": "4baea3d4-ada9-48df-a839-a152bca893e0",
   "metadata": {},
   "outputs": [],
   "source": [
    "from functools import reduce"
   ]
  },
  {
   "cell_type": "code",
   "execution_count": 41,
   "id": "cebc6921-82fc-47b8-81bc-9361e745f67e",
   "metadata": {},
   "outputs": [],
   "source": [
    "@timed\n",
    "def fib_reduce(n):\n",
    "    initial = (1, 0)\n",
    "    dummy = range(n)\n",
    "    fib_n = reduce(lambda prev, _: (prev[0] + prev[1], prev[0]), dummy, initial)\n",
    "    return fib_n[0]"
   ]
  },
  {
   "cell_type": "code",
   "execution_count": 42,
   "id": "05a4b470-80da-4fc6-8e77-9ec7b357f387",
   "metadata": {},
   "outputs": [
    {
     "name": "stdout",
     "output_type": "stream",
     "text": [
      "fib_reduce(46) took 0.000019s to run\n"
     ]
    },
    {
     "data": {
      "text/plain": [
       "2971215073"
      ]
     },
     "execution_count": 42,
     "metadata": {},
     "output_type": "execute_result"
    }
   ],
   "source": [
    "fib_reduce(46)"
   ]
  },
  {
   "cell_type": "code",
   "execution_count": 43,
   "id": "742baf6f-5e3b-4003-bcd2-377e0e1cc776",
   "metadata": {},
   "outputs": [
    {
     "name": "stdout",
     "output_type": "stream",
     "text": [
      "fib_reduce(5) took 0.000008s to run\n"
     ]
    },
    {
     "data": {
      "text/plain": [
       "8"
      ]
     },
     "execution_count": 43,
     "metadata": {},
     "output_type": "execute_result"
    }
   ],
   "source": [
    "fib_reduce(5)"
   ]
  },
  {
   "cell_type": "code",
   "execution_count": 44,
   "id": "451f0a28-4b52-4669-954b-02581aea6c07",
   "metadata": {},
   "outputs": [
    {
     "name": "stdout",
     "output_type": "stream",
     "text": [
      "fib_reduce(100) took 0.000036s to run\n"
     ]
    },
    {
     "data": {
      "text/plain": [
       "573147844013817084101"
      ]
     },
     "execution_count": 44,
     "metadata": {},
     "output_type": "execute_result"
    }
   ],
   "source": [
    "fib_reduce(100)"
   ]
  },
  {
   "cell_type": "code",
   "execution_count": 45,
   "id": "336202d4-3bf1-4bcd-a6ea-d597e64bccc3",
   "metadata": {},
   "outputs": [
    {
     "name": "stdout",
     "output_type": "stream",
     "text": [
      "fib_loop(100) took 0.000008s to run\n"
     ]
    },
    {
     "data": {
      "text/plain": [
       "354224848179261915075"
      ]
     },
     "execution_count": 45,
     "metadata": {},
     "output_type": "execute_result"
    }
   ],
   "source": [
    "fib_loop(100)"
   ]
  },
  {
   "cell_type": "code",
   "execution_count": 46,
   "id": "364832f9-5dbc-4983-bdbe-1a073bd67c07",
   "metadata": {},
   "outputs": [
    {
     "name": "stdout",
     "output_type": "stream",
     "text": [
      "fib_loop(100) took 0.000007s to run\n",
      "fib_loop(100) took 0.000007s to run\n",
      "fib_loop(100) took 0.000006s to run\n",
      "fib_loop(100) took 0.000005s to run\n",
      "fib_loop(100) took 0.000005s to run\n",
      "fib_loop(100) took 0.000005s to run\n",
      "fib_loop(100) took 0.000005s to run\n",
      "fib_loop(100) took 0.000005s to run\n",
      "fib_loop(100) took 0.000005s to run\n",
      "fib_loop(100) took 0.000005s to run\n"
     ]
    }
   ],
   "source": [
    "for i in range(10):\n",
    "    fib_loop(100)"
   ]
  },
  {
   "cell_type": "code",
   "execution_count": 47,
   "id": "01f5ece8-b358-4147-8ff8-5231b0c29680",
   "metadata": {},
   "outputs": [],
   "source": [
    "def timed(fn):\n",
    "    from time import perf_counter\n",
    "    from functools import wraps\n",
    "\n",
    "    @wraps(fn)\n",
    "    def inner(*args, **kwargs):\n",
    "        elapsed_total = 0\n",
    "        elapsed_count = 0\n",
    "        for i in range(10):\n",
    "            print('Running iteration {0}...'.format(i))\n",
    "            start = perf_counter()\n",
    "            result = fn(*args, **kwargs)\n",
    "            end = perf_counter()\n",
    "            elapsed = end - start\n",
    "            elapsed_total += elapsed\n",
    "            elapsed_count += 1\n",
    "\n",
    "        args_ = [str(a) for a in args]\n",
    "        kwargs_ = ['{0}={1}'.format(key, value) for (key, value) in kwargs.items()]\n",
    "        all_args = args_ + kwargs_\n",
    "        args_str = \",\".join(all_args)\n",
    "\n",
    "        elapsed_avg = elapsed_total / elapsed_count\n",
    "        print('{0}({1}) took {2:.6f}s to run'.format(fn.__name__, args_str, elapsed_avg))\n",
    "        return result\n",
    "    return inner"
   ]
  },
  {
   "cell_type": "code",
   "execution_count": 48,
   "id": "58a6f81b-3be7-47a3-9cac-096e63d90a53",
   "metadata": {},
   "outputs": [],
   "source": [
    "@timed\n",
    "def fib_reduce(n):\n",
    "    initial = (1, 0)\n",
    "    dummy = range(n)\n",
    "    fib_n = reduce(lambda prev, _: (prev[0] + prev[1], prev[0]), dummy, initial)\n",
    "    return fib_n[0]"
   ]
  },
  {
   "cell_type": "code",
   "execution_count": 49,
   "id": "92b1aa1d-ebd6-42dd-b807-50c691196e1f",
   "metadata": {},
   "outputs": [
    {
     "name": "stdout",
     "output_type": "stream",
     "text": [
      "Running iteration 0...\n",
      "Running iteration 1...\n",
      "Running iteration 2...\n",
      "Running iteration 3...\n",
      "Running iteration 4...\n",
      "Running iteration 5...\n",
      "Running iteration 6...\n",
      "Running iteration 7...\n",
      "Running iteration 8...\n",
      "Running iteration 9...\n",
      "fib_reduce(100) took 0.000016s to run\n"
     ]
    },
    {
     "data": {
      "text/plain": [
       "573147844013817084101"
      ]
     },
     "execution_count": 49,
     "metadata": {},
     "output_type": "execute_result"
    }
   ],
   "source": [
    "fib_reduce(100)"
   ]
  },
  {
   "cell_type": "code",
   "execution_count": null,
   "id": "48eb7df0-6edb-443f-aff0-c39538665951",
   "metadata": {},
   "outputs": [],
   "source": []
  }
 ],
 "metadata": {
  "kernelspec": {
   "display_name": "Python 3 (ipykernel)",
   "language": "python",
   "name": "python3"
  },
  "language_info": {
   "codemirror_mode": {
    "name": "ipython",
    "version": 3
   },
   "file_extension": ".py",
   "mimetype": "text/x-python",
   "name": "python",
   "nbconvert_exporter": "python",
   "pygments_lexer": "ipython3",
   "version": "3.12.2"
  }
 },
 "nbformat": 4,
 "nbformat_minor": 5
}
