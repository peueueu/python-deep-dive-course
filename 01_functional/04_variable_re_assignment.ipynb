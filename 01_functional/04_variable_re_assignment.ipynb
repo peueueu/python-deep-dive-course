{
 "cells": [
  {
   "cell_type": "markdown",
   "id": "83f8339b-d79d-4bc2-8924-73ff8c2962cb",
   "metadata": {
    "editable": true,
    "slideshow": {
     "slide_type": ""
    },
    "tags": []
   },
   "source": [
    "### Variable Re-Assignment\n",
    "\n",
    "```python\n",
    "    my_var = 10 # This variable will reference to object of type int in memory located in some memory address, let's say 0x1000\n",
    "    # If we re-assign the value of my var in a right hand expression incrementing it's value for example purposes:\n",
    "    my_var = my_var + 5 # This will create a new object of type int in memory located at another memory address, let's say 0x1234\n",
    "    # Notice that it won't change the first object value, it will only allocated the new value in another place in memory, and change\n",
    "    # my var reference to were it's located.\n",
    "```"
   ]
  },
  {
   "cell_type": "code",
   "execution_count": 1,
   "id": "f00ac789-1afe-48a4-9251-78d48a74b8c0",
   "metadata": {},
   "outputs": [
    {
     "data": {
      "text/plain": [
       "'0x109c9a0c8'"
      ]
     },
     "execution_count": 1,
     "metadata": {},
     "output_type": "execute_result"
    }
   ],
   "source": [
    "a = 10\n",
    "hex(id(a))"
   ]
  },
  {
   "cell_type": "code",
   "execution_count": 2,
   "id": "6764df31-7ebd-44f5-a63a-fda08568b7f4",
   "metadata": {},
   "outputs": [
    {
     "data": {
      "text/plain": [
       "int"
      ]
     },
     "execution_count": 2,
     "metadata": {},
     "output_type": "execute_result"
    }
   ],
   "source": [
    "type(a)"
   ]
  },
  {
   "cell_type": "code",
   "execution_count": 3,
   "id": "c205170d-18a7-4910-894a-8c598a95299b",
   "metadata": {},
   "outputs": [],
   "source": [
    "a = 15"
   ]
  },
  {
   "cell_type": "code",
   "execution_count": 4,
   "id": "80a6c20c-fd1b-4cde-8558-3b39dbf7fb85",
   "metadata": {},
   "outputs": [
    {
     "data": {
      "text/plain": [
       "'0x109c9a168'"
      ]
     },
     "execution_count": 4,
     "metadata": {},
     "output_type": "execute_result"
    }
   ],
   "source": [
    "hex(id(a))"
   ]
  },
  {
   "cell_type": "code",
   "execution_count": 5,
   "id": "b2f41f4e-aff6-480c-9bb4-e843dc08781a",
   "metadata": {},
   "outputs": [],
   "source": [
    "a = a + 1"
   ]
  },
  {
   "cell_type": "code",
   "execution_count": 6,
   "id": "0decbb94-c8dc-477b-b740-cd00ca381b69",
   "metadata": {},
   "outputs": [
    {
     "data": {
      "text/plain": [
       "16"
      ]
     },
     "execution_count": 6,
     "metadata": {},
     "output_type": "execute_result"
    }
   ],
   "source": [
    "a"
   ]
  },
  {
   "cell_type": "code",
   "execution_count": 7,
   "id": "ffd76911-57a6-4e55-8cd5-1fc7f34284bf",
   "metadata": {},
   "outputs": [
    {
     "data": {
      "text/plain": [
       "'0x109c9a188'"
      ]
     },
     "execution_count": 7,
     "metadata": {},
     "output_type": "execute_result"
    }
   ],
   "source": [
    "hex(id(a))"
   ]
  },
  {
   "cell_type": "code",
   "execution_count": 8,
   "id": "dda35fcd-6156-4292-a398-0c1dc59b599e",
   "metadata": {},
   "outputs": [],
   "source": [
    "a = 10"
   ]
  },
  {
   "cell_type": "code",
   "execution_count": 9,
   "id": "9feaaf8c-b1bc-432b-a869-b7c511cb6060",
   "metadata": {},
   "outputs": [],
   "source": [
    "b = 10"
   ]
  },
  {
   "cell_type": "code",
   "execution_count": 10,
   "id": "30b53877-fb8f-4980-a2c6-97033526793d",
   "metadata": {},
   "outputs": [
    {
     "data": {
      "text/plain": [
       "'0x109c9a0c8'"
      ]
     },
     "execution_count": 10,
     "metadata": {},
     "output_type": "execute_result"
    }
   ],
   "source": [
    "hex(id(a))"
   ]
  },
  {
   "cell_type": "code",
   "execution_count": 11,
   "id": "fc16d61a-4792-4a4e-bf9f-a4253e76696a",
   "metadata": {},
   "outputs": [
    {
     "data": {
      "text/plain": [
       "'0x109c9a0c8'"
      ]
     },
     "execution_count": 11,
     "metadata": {},
     "output_type": "execute_result"
    }
   ],
   "source": [
    "hex(id(b))"
   ]
  },
  {
   "cell_type": "code",
   "execution_count": 12,
   "id": "4197f4ab-29b2-4444-9862-c191b1e83f3a",
   "metadata": {},
   "outputs": [
    {
     "data": {
      "text/plain": [
       "True"
      ]
     },
     "execution_count": 12,
     "metadata": {},
     "output_type": "execute_result"
    }
   ],
   "source": [
    "hex(id(a)) == hex(id(b))"
   ]
  },
  {
   "cell_type": "code",
   "execution_count": 13,
   "id": "0cc8b67d-11af-4d11-88b3-4c4cb78cfbfa",
   "metadata": {
    "editable": true,
    "slideshow": {
     "slide_type": ""
    },
    "tags": []
   },
   "outputs": [],
   "source": [
    "c = a"
   ]
  },
  {
   "cell_type": "code",
   "execution_count": 14,
   "id": "108e708f-b6c6-48ac-91a7-45c4587888a0",
   "metadata": {},
   "outputs": [
    {
     "data": {
      "text/plain": [
       "'0x109c9a0c8'"
      ]
     },
     "execution_count": 14,
     "metadata": {},
     "output_type": "execute_result"
    }
   ],
   "source": [
    "hex(id(c))"
   ]
  },
  {
   "cell_type": "code",
   "execution_count": 15,
   "id": "01c231c7-0e4a-43ac-9d8a-7b1174f2bc98",
   "metadata": {},
   "outputs": [],
   "source": [
    "a = [1, 2, 3]"
   ]
  },
  {
   "cell_type": "code",
   "execution_count": 16,
   "id": "e55700db-c1b5-4ecb-b7db-9f99ee6c1db5",
   "metadata": {},
   "outputs": [],
   "source": [
    "c = a[0]"
   ]
  },
  {
   "cell_type": "code",
   "execution_count": 17,
   "id": "049b0ce0-3144-4a7e-af23-b5aa02623f47",
   "metadata": {},
   "outputs": [
    {
     "data": {
      "text/plain": [
       "'0x109c99fa8'"
      ]
     },
     "execution_count": 17,
     "metadata": {},
     "output_type": "execute_result"
    }
   ],
   "source": [
    "hex(id(c))"
   ]
  },
  {
   "cell_type": "code",
   "execution_count": 18,
   "id": "221984b2-32d5-4d49-9215-b81e05ddf5e5",
   "metadata": {},
   "outputs": [
    {
     "data": {
      "text/plain": [
       "'0x10bd65580'"
      ]
     },
     "execution_count": 18,
     "metadata": {},
     "output_type": "execute_result"
    }
   ],
   "source": [
    "hex(id(a))"
   ]
  },
  {
   "cell_type": "code",
   "execution_count": 21,
   "id": "2abac118-e684-40d6-a019-ca2a0ad19922",
   "metadata": {},
   "outputs": [],
   "source": [
    "a_at_0 = hex(id(a[0]))\n",
    "a_at_1 = hex(id(a[1]))\n",
    "a_at_2 = hex(id(a[2]))"
   ]
  },
  {
   "cell_type": "code",
   "execution_count": 22,
   "id": "4c1d52af-2776-4f01-9fa1-ea921cf96ad6",
   "metadata": {},
   "outputs": [
    {
     "data": {
      "text/plain": [
       "'0x109c99fa8'"
      ]
     },
     "execution_count": 22,
     "metadata": {},
     "output_type": "execute_result"
    }
   ],
   "source": [
    "a_at_0"
   ]
  },
  {
   "cell_type": "code",
   "execution_count": 23,
   "id": "419d2a6d-e209-4616-8b88-5db79066e075",
   "metadata": {},
   "outputs": [
    {
     "data": {
      "text/plain": [
       "'0x109c99fc8'"
      ]
     },
     "execution_count": 23,
     "metadata": {},
     "output_type": "execute_result"
    }
   ],
   "source": [
    "a_at_1"
   ]
  },
  {
   "cell_type": "code",
   "execution_count": 24,
   "id": "fac192c1-0d3a-4ac3-a738-508a7e8d5005",
   "metadata": {},
   "outputs": [
    {
     "data": {
      "text/plain": [
       "'0x109c99fe8'"
      ]
     },
     "execution_count": 24,
     "metadata": {},
     "output_type": "execute_result"
    }
   ],
   "source": [
    "a_at_2"
   ]
  },
  {
   "cell_type": "code",
   "execution_count": 25,
   "id": "f6a2bf48-5cee-4784-a123-eb2463ed5512",
   "metadata": {},
   "outputs": [
    {
     "data": {
      "text/plain": [
       "'0x10bd65580'"
      ]
     },
     "execution_count": 25,
     "metadata": {},
     "output_type": "execute_result"
    }
   ],
   "source": [
    "hex(id(a))"
   ]
  },
  {
   "cell_type": "code",
   "execution_count": 26,
   "id": "6c2dea55-a11a-432c-a844-baa981df7d35",
   "metadata": {},
   "outputs": [
    {
     "data": {
      "text/plain": [
       "'0x109c99fa8'"
      ]
     },
     "execution_count": 26,
     "metadata": {},
     "output_type": "execute_result"
    }
   ],
   "source": [
    "hex(id(c))"
   ]
  },
  {
   "cell_type": "code",
   "execution_count": 27,
   "id": "925d8e3b-00f6-43a0-8ea3-80671a17e91a",
   "metadata": {},
   "outputs": [
    {
     "data": {
      "text/plain": [
       "1"
      ]
     },
     "execution_count": 27,
     "metadata": {},
     "output_type": "execute_result"
    }
   ],
   "source": [
    "a.pop(0)"
   ]
  },
  {
   "cell_type": "code",
   "execution_count": 28,
   "id": "989e9617-26c4-4587-a0bf-ebe8b15a5fc1",
   "metadata": {},
   "outputs": [
    {
     "data": {
      "text/plain": [
       "'0x109c99fa8'"
      ]
     },
     "execution_count": 28,
     "metadata": {},
     "output_type": "execute_result"
    }
   ],
   "source": [
    "a_at_0"
   ]
  },
  {
   "cell_type": "code",
   "execution_count": 30,
   "id": "646b5593-502b-436c-a98d-66cca939ac0d",
   "metadata": {},
   "outputs": [],
   "source": [
    "t = (1, 2, 3)\n",
    "\n",
    "a = [1, 2]\n",
    "b = [3, 4]"
   ]
  },
  {
   "cell_type": "code",
   "execution_count": 31,
   "id": "cbe0c1d4-f7ca-4ac4-9135-6c0210a46517",
   "metadata": {},
   "outputs": [],
   "source": [
    "t = (a, b)"
   ]
  },
  {
   "cell_type": "code",
   "execution_count": 32,
   "id": "3347986d-c544-4185-97cd-02fa0c6f0ba4",
   "metadata": {},
   "outputs": [
    {
     "data": {
      "text/plain": [
       "([1, 2], [3, 4])"
      ]
     },
     "execution_count": 32,
     "metadata": {},
     "output_type": "execute_result"
    }
   ],
   "source": [
    "t"
   ]
  },
  {
   "cell_type": "code",
   "execution_count": 33,
   "id": "6ce4984b-9491-460e-abcb-a17c762821f2",
   "metadata": {},
   "outputs": [],
   "source": [
    "a.append(432)"
   ]
  },
  {
   "cell_type": "code",
   "execution_count": 34,
   "id": "fd457efa-c217-4a15-8549-395f5aa1b247",
   "metadata": {},
   "outputs": [
    {
     "data": {
      "text/plain": [
       "([1, 2, 432], [3, 4])"
      ]
     },
     "execution_count": 34,
     "metadata": {},
     "output_type": "execute_result"
    }
   ],
   "source": [
    "t"
   ]
  },
  {
   "cell_type": "code",
   "execution_count": 35,
   "id": "45a24a03-de8b-4691-82b5-eff8a55ffcb0",
   "metadata": {},
   "outputs": [],
   "source": [
    "b.append(4322)"
   ]
  },
  {
   "cell_type": "code",
   "execution_count": 36,
   "id": "7c4042fc-6d9a-4fe2-b491-f2a9fc9e0480",
   "metadata": {},
   "outputs": [
    {
     "data": {
      "text/plain": [
       "([1, 2, 432], [3, 4, 4322])"
      ]
     },
     "execution_count": 36,
     "metadata": {},
     "output_type": "execute_result"
    }
   ],
   "source": [
    "t"
   ]
  },
  {
   "cell_type": "code",
   "execution_count": 1,
   "id": "b4802836-bd81-4a75-ae01-ec1ee58eb4e9",
   "metadata": {},
   "outputs": [],
   "source": [
    "my_list = [1, 2, 3, 4, 5] "
   ]
  },
  {
   "cell_type": "code",
   "execution_count": 2,
   "id": "200a4929-a462-482b-8a7d-75cc5e18e42a",
   "metadata": {},
   "outputs": [
    {
     "data": {
      "text/plain": [
       "'0x108bd2f40'"
      ]
     },
     "execution_count": 2,
     "metadata": {},
     "output_type": "execute_result"
    }
   ],
   "source": [
    "hex(id(my_list))"
   ]
  },
  {
   "cell_type": "code",
   "execution_count": 3,
   "id": "4b2cb698-3ce6-4561-978b-64ac546f68f7",
   "metadata": {},
   "outputs": [],
   "source": [
    "my_list = my_list + [4]"
   ]
  },
  {
   "cell_type": "code",
   "execution_count": 4,
   "id": "98fead08-a775-4e9e-a591-45373b7ea642",
   "metadata": {},
   "outputs": [
    {
     "data": {
      "text/plain": [
       "[1, 2, 3, 4, 5, 4]"
      ]
     },
     "execution_count": 4,
     "metadata": {},
     "output_type": "execute_result"
    }
   ],
   "source": [
    "my_list"
   ]
  },
  {
   "cell_type": "code",
   "execution_count": 5,
   "id": "edb92e5e-57ec-488e-8472-2d322fce595e",
   "metadata": {},
   "outputs": [
    {
     "data": {
      "text/plain": [
       "'0x108bd24c0'"
      ]
     },
     "execution_count": 5,
     "metadata": {},
     "output_type": "execute_result"
    }
   ],
   "source": [
    "hex(id(my_list))"
   ]
  },
  {
   "cell_type": "code",
   "execution_count": 6,
   "id": "81aa8999-08a4-4135-bcd8-3a4af91544c5",
   "metadata": {},
   "outputs": [],
   "source": [
    "my_dict = dict(key1=1, key2=\"a\")"
   ]
  },
  {
   "cell_type": "code",
   "execution_count": 7,
   "id": "880440b1-bc4e-47a4-9fcb-bca2cfbe1fc0",
   "metadata": {},
   "outputs": [
    {
     "data": {
      "text/plain": [
       "{'key1': 1, 'key2': 'a'}"
      ]
     },
     "execution_count": 7,
     "metadata": {},
     "output_type": "execute_result"
    }
   ],
   "source": [
    "my_dict"
   ]
  },
  {
   "cell_type": "code",
   "execution_count": 8,
   "id": "bbfa0bf2-17e8-4316-97f0-7277c2771eb7",
   "metadata": {},
   "outputs": [
    {
     "data": {
      "text/plain": [
       "4441755008"
      ]
     },
     "execution_count": 8,
     "metadata": {},
     "output_type": "execute_result"
    }
   ],
   "source": [
    "id(my_dict)"
   ]
  },
  {
   "cell_type": "code",
   "execution_count": 9,
   "id": "c152fcb1-a983-419f-81df-687305c35df1",
   "metadata": {},
   "outputs": [],
   "source": [
    "my_dict[\"key3\"] = 10.5"
   ]
  },
  {
   "cell_type": "code",
   "execution_count": 10,
   "id": "eb2dc283-96eb-4b06-91af-43e87207f935",
   "metadata": {},
   "outputs": [
    {
     "data": {
      "text/plain": [
       "4441755008"
      ]
     },
     "execution_count": 10,
     "metadata": {},
     "output_type": "execute_result"
    }
   ],
   "source": [
    "id(my_dict)"
   ]
  },
  {
   "cell_type": "code",
   "execution_count": 2,
   "id": "634be37d-c365-40d9-9baf-1bf693cc840f",
   "metadata": {},
   "outputs": [],
   "source": [
    "def process(s):\n",
    "    print('Initial s # = {0}'.format(id(s)))\n",
    "    s = s + ' world'\n",
    "    print('Final s # = {0}'.format(id(s)))"
   ]
  },
  {
   "cell_type": "code",
   "execution_count": 3,
   "id": "1d1f8aba-3a80-4665-84b6-9914430cd424",
   "metadata": {},
   "outputs": [],
   "source": [
    "my_var = \"hello\""
   ]
  },
  {
   "cell_type": "code",
   "execution_count": 4,
   "id": "2203feeb-6a15-4a9b-9270-79d8fd707bba",
   "metadata": {},
   "outputs": [
    {
     "name": "stdout",
     "output_type": "stream",
     "text": [
      "my_var # = 4481034176\n"
     ]
    }
   ],
   "source": [
    "print('my_var # = {0}'.format(id(my_var)))"
   ]
  },
  {
   "cell_type": "code",
   "execution_count": 5,
   "id": "7d92d646-78ae-462a-a883-1dc6fc40850c",
   "metadata": {},
   "outputs": [
    {
     "name": "stdout",
     "output_type": "stream",
     "text": [
      "Initial s # = 4481034176\n",
      "Final s # = 4485047216\n"
     ]
    }
   ],
   "source": [
    "process(my_var)"
   ]
  },
  {
   "cell_type": "code",
   "execution_count": 6,
   "id": "615e28a8-e96d-4b6b-af9e-7878e233b829",
   "metadata": {},
   "outputs": [
    {
     "data": {
      "text/plain": [
       "4481034176"
      ]
     },
     "execution_count": 6,
     "metadata": {},
     "output_type": "execute_result"
    }
   ],
   "source": [
    "id(my_var)"
   ]
  },
  {
   "cell_type": "code",
   "execution_count": 7,
   "id": "dcccb303-dfd6-4915-b426-1b3a3c8bde97",
   "metadata": {},
   "outputs": [],
   "source": [
    "def modify_list(lst):\n",
    "    print('Initial lst # = {0}'.format(id(lst)))\n",
    "    lst.append(100)\n",
    "    print('Final lst # = {0}'.format(id(lst)))"
   ]
  },
  {
   "cell_type": "code",
   "execution_count": 8,
   "id": "e56c2bec-6b87-477b-a852-3e5d50e4775a",
   "metadata": {},
   "outputs": [],
   "source": [
    "my_lst = [1, 2, 3, 4, 'a', 5]"
   ]
  },
  {
   "cell_type": "code",
   "execution_count": 9,
   "id": "c6ef5a09-5971-464b-ae82-f6f65c541007",
   "metadata": {},
   "outputs": [
    {
     "name": "stdout",
     "output_type": "stream",
     "text": [
      "my_lst # = 4485000384\n"
     ]
    }
   ],
   "source": [
    "print('my_lst # = {0}'.format(id(my_lst)))"
   ]
  },
  {
   "cell_type": "code",
   "execution_count": 10,
   "id": "d96185b7-2c38-4e5b-820c-74ce32b23a69",
   "metadata": {},
   "outputs": [
    {
     "name": "stdout",
     "output_type": "stream",
     "text": [
      "Initial lst # = 4485000384\n",
      "Final lst # = 4485000384\n"
     ]
    }
   ],
   "source": [
    "modify_list(my_lst)"
   ]
  },
  {
   "cell_type": "code",
   "execution_count": 11,
   "id": "9994fb73-6c72-4e00-a77d-01d7790f1a0c",
   "metadata": {},
   "outputs": [
    {
     "data": {
      "text/plain": [
       "[1, 2, 3, 4, 'a', 5, 100]"
      ]
     },
     "execution_count": 11,
     "metadata": {},
     "output_type": "execute_result"
    }
   ],
   "source": [
    "my_lst"
   ]
  },
  {
   "cell_type": "code",
   "execution_count": 12,
   "id": "0505669c-4e3d-4574-9811-417e4952e41c",
   "metadata": {},
   "outputs": [],
   "source": [
    "def modify_tuple(t):\n",
    "    print('Initial t # = {0}'.format(id(t)))\n",
    "    t[0].append(100)\n",
    "    print('Final t # = {0}'.format(id(t)))"
   ]
  },
  {
   "cell_type": "code",
   "execution_count": 13,
   "id": "ffaf9698-1d46-4faa-aeba-abd04d9aec78",
   "metadata": {},
   "outputs": [],
   "source": [
    "my_t = ([0, 1, 2, 3, 4], 'abc', 'a', 'b', 'c')"
   ]
  },
  {
   "cell_type": "code",
   "execution_count": 14,
   "id": "5255cd11-9322-4b3a-8d1f-088fefe68bbd",
   "metadata": {},
   "outputs": [
    {
     "name": "stdout",
     "output_type": "stream",
     "text": [
      "my_t # = 4489463184\n"
     ]
    }
   ],
   "source": [
    "print('my_t # = {0}'.format(id(my_t)))"
   ]
  },
  {
   "cell_type": "code",
   "execution_count": 15,
   "id": "b8f6315e-11d0-4375-b7c9-bebb2af33bb3",
   "metadata": {},
   "outputs": [
    {
     "name": "stdout",
     "output_type": "stream",
     "text": [
      "Initial t # = 4489463184\n",
      "Final t # = 4489463184\n"
     ]
    }
   ],
   "source": [
    "modify_tuple(my_t)"
   ]
  },
  {
   "cell_type": "code",
   "execution_count": 16,
   "id": "d2d7f679-b926-4571-a6ba-376016ac6c3a",
   "metadata": {},
   "outputs": [
    {
     "data": {
      "text/plain": [
       "([0, 1, 2, 3, 4, 100], 'abc', 'a', 'b', 'c')"
      ]
     },
     "execution_count": 16,
     "metadata": {},
     "output_type": "execute_result"
    }
   ],
   "source": [
    "my_t"
   ]
  },
  {
   "cell_type": "code",
   "execution_count": null,
   "id": "1c6b0ac0-fa1b-4b22-a1a5-e7490a642f6a",
   "metadata": {},
   "outputs": [],
   "source": []
  }
 ],
 "metadata": {
  "kernelspec": {
   "display_name": "Python 3 (ipykernel)",
   "language": "python",
   "name": "python3"
  },
  "language_info": {
   "codemirror_mode": {
    "name": "ipython",
    "version": 3
   },
   "file_extension": ".py",
   "mimetype": "text/x-python",
   "name": "python",
   "nbconvert_exporter": "python",
   "pygments_lexer": "ipython3",
   "version": "3.12.2"
  }
 },
 "nbformat": 4,
 "nbformat_minor": 5
}
