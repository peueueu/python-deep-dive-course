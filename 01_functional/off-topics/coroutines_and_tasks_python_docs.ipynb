{
 "cells": [
  {
   "cell_type": "markdown",
   "id": "1b6dd4e3-b246-4e06-a73c-a9df2f54fe09",
   "metadata": {},
   "source": [
    "### COROUTINES\n",
    "Coroutines declared with the async/await syntax is the preferred way of writing asyncio applications. For example, the following snippet of code prints “hello”, waits 1 second, and then prints “world”:"
   ]
  },
  {
   "cell_type": "code",
   "execution_count": 1,
   "id": "bd323fea-4f34-4c96-8a84-2aa191994b99",
   "metadata": {},
   "outputs": [],
   "source": [
    "import asyncio\n",
    "import time"
   ]
  },
  {
   "cell_type": "markdown",
   "id": "104f7a53-10dc-4c20-b123-a6347376b1fa",
   "metadata": {},
   "source": [
    "# Example 01\n",
    "```python\n",
    "async def main():\n",
    "    print('hello')\n",
    "    await asyncio.sleep(1)\n",
    "    print('world')\n",
    "\n",
    "await main()\n",
    "```"
   ]
  },
  {
   "cell_type": "code",
   "execution_count": 2,
   "id": "c3986c91-736c-4978-81e8-50b83591c759",
   "metadata": {},
   "outputs": [],
   "source": [
    "async def say_after(delay, what):\n",
    "    await asyncio.sleep(delay)\n",
    "    print(what)"
   ]
  },
  {
   "cell_type": "markdown",
   "id": "63f9e04f-9ef1-4b57-a554-fc9d1f23a380",
   "metadata": {},
   "source": [
    "# Example 02\n",
    "```python\n",
    "# This example waits the first say_after execution that takes 1 second to complete,\n",
    "# And after it's completed, execute the say_after second execution\n",
    "# The whole process as it's stopping at each \"sleep\", takes around 3 seconds to complete.\n",
    "import asyncio\n",
    "import time\n",
    "\n",
    "async def say_after(delay, what):\n",
    "    await asyncio.sleep(delay)\n",
    "    print(what)\n",
    "\n",
    "async def main():\n",
    "    print(f\"started at {time.strftime('%X')}\")\n",
    "\n",
    "    await say_after(1, 'hello')\n",
    "    await say_after(2, 'world')\n",
    "\n",
    "    print(f\"finished at {time.strftime('%X')}\")\n",
    "\n",
    "await main()\n",
    "```"
   ]
  },
  {
   "cell_type": "markdown",
   "id": "8c98ce25-6d82-42a4-b8d8-ed4063337778",
   "metadata": {},
   "source": [
    "# Example 02\n",
    "This example leverages the asyncio create_task() method to run the tasks concurrently.\n",
    "```python\n",
    "async def main():\n",
    "    task_1 = asyncio.create_task(say_after(1, 'hello'))\n",
    "    task_2 = asyncio.create_task(say_after(2, 'world'))\n",
    "\n",
    "    print(f\"started at {time.strftime('%X')}\")\n",
    "\n",
    "    # Wait until both tasks are completed (should take around 2 seconds), this works concurrently\n",
    "    await task_1\n",
    "    await task_2\n",
    "\n",
    "    print(f\"finished at {time.strftime('%X')}\")\n",
    "    \n",
    "await main()\n",
    "```"
   ]
  },
  {
   "cell_type": "markdown",
   "id": "7b25cc17-daed-4de9-950b-ea685a6405f6",
   "metadata": {},
   "source": [
    "# Example 03\n",
    "This example leverages the asyncio TaskGroup class, that provides an alternative and more modern to create_task() method. Using this, the previous example is implemented in the following way:\n",
    "```python\n",
    "async def main():\n",
    "    async with asyncio.TaskGroup() as task_group:\n",
    "        task_1 = task_group.create_task(\n",
    "            say_after(1, 'hello'))\n",
    "        task_2 = task_group.create_task(\n",
    "            say_after(2, 'world'))\n",
    "\n",
    "        print(f\"started at {time.strftime('%X')}\")\n",
    "\n",
    "    # The await is implicit when the context manager exits.\n",
    "    \n",
    "    print(f\"finished at {time.strftime('%X')}\")\n",
    "    \n",
    "await main()\n",
    "```\n",
    "\n",
    "The timing and output should be the same as the example_02 version."
   ]
  },
  {
   "cell_type": "markdown",
   "id": "25bf2ba1-0d85-4707-90e9-14972b819a3f",
   "metadata": {},
   "source": [
    "# Awaitables\n",
    "\n",
    "We say that an object is an awaitable object if it can be used in an await expression. Many asyncio APIs are designed to accept awaitables.\n",
    "\n",
    "There are three main types of awaitable objects: coroutines, Tasks, and Futures.\n",
    "\n",
    "# Coroutines\n",
    "\n",
    "Python coroutines are awaitables and therefore can be awaited from other coroutines:"
   ]
  },
  {
   "cell_type": "code",
   "execution_count": 3,
   "id": "9b33bc47-a5a4-4b95-941f-c27ebef60a2d",
   "metadata": {},
   "outputs": [],
   "source": [
    "async def nested():\n",
    "    return 42"
   ]
  },
  {
   "cell_type": "markdown",
   "id": "e5e871ff-3dde-492c-bd4b-7e8b08b19961",
   "metadata": {},
   "source": [
    "Running courotine functions, without awaiting and with awaiting diference between.\n",
    "```python\n",
    "async def main():\n",
    "    # Nothing happens if we just call \"nested()\".\n",
    "    # A coroutine object is created but not awaited,\n",
    "    # so it *won't run at all*. \n",
    "    nested()\n",
    "\n",
    "    #Let's do it differently now and await it:\n",
    "    print(await nested())\n",
    "\n",
    "await main()\n",
    "```"
   ]
  },
  {
   "cell_type": "code",
   "execution_count": 4,
   "id": "8b98fc9e-848e-4d6d-b7c7-abf1aaa1c77b",
   "metadata": {},
   "outputs": [],
   "source": [
    "# Using tasks to schedule the courotines concurrently.\n",
    "\n",
    "# async def main():\n",
    "#     # Schedule nested() to run soon concurrently\n",
    "#     # with \"main()\".\n",
    "#     task = asyncio.create_task(nested())\n",
    "\n",
    "#     # \"task\" can now be used to cancel \"nested()\", or\n",
    "#     # can simply be awaited to wait until it is complete:\n",
    "#     print(await task)\n",
    "\n",
    "# await main()"
   ]
  },
  {
   "cell_type": "markdown",
   "id": "3fa8ba42-1ae4-4a4a-b54a-3a02ea251655",
   "metadata": {},
   "source": [
    "### Futures\n",
    "\n",
    "A Future is a special low-level awaitable object that represents an eventual result of an asynchronous operation.\n",
    "\n",
    "When a Future object is awaited it means that the coroutine will wait until the Future is resolved in some other place.\n",
    "\n",
    "Future objects in asyncio are needed to allow callback-based code to be used with async/await.\n",
    "\n",
    "Normally there is no need to create Future objects at the application level code.\n",
    "\n",
    "Future objects, sometimes exposed by libraries and some asyncio APIs, can be awaited:"
   ]
  },
  {
   "cell_type": "code",
   "execution_count": 2,
   "id": "c3779c49-526f-4537-b5a8-5a7ba133708b",
   "metadata": {},
   "outputs": [
    {
     "name": "stdout",
     "output_type": "stream",
     "text": [
      "\n",
      "\n",
      "default thread pool b'\\x1e\\x84\\xaae\\xe7 N\\xc8\\xcb\\xc4n\\xae\\xf5\\x83\\xc4\\xacY\\xf6\\xf0\\x9f\\x8d{\\xc5dq4U\\xf9\\xbeId\\x01\\x9f\\xac/\\x17\\xe2\\xee\\xc1k\\xabt\\x06\\xe6b\\xbds\\xd2l\\x14\\x85\\xa0@\\xc3\\xb9\\xe9\\x97\\x1b\\xde$\\xc7?V\\x9e/\\r\\x03R\\xbd\\x97\\\\Z\\x8d\\x82\\x1eT\\x8b\\xf36\\t3\\x08xEL\\x85azG7;\\xa1\\xa6\\xaf\\xd6\\xe5\\x7f\\xcb\\xd0\\xc2'\n",
      "custom thread pool b'\\x1f\\x16\\xe7:\\x82\\xd8\\x90\\x80\\x90\\x0cx\\xde\\xd6\\xed\\x91\\xe9\\xf2\\x9f\\x90s_\\xde\\xa0:\\x8a-\\x07\\xbc\\xfaO[6_\\\\\\x95j\\xf4\\xc2\\x80\\x98\\xc78\\xa87\\x1a\\xd5\\x03u\\xac\\xe5\\x93\\xd5\\xbcf\\xc9\\x9d\\xa3\\xb2\\x06B$y\\xe1\\xdd\\x95\\x1b\\x1anu\\x9b!-\\x16}\\x04\\x06\\xd9)\\xd5\\xd3\\x12h\\xf8^M\\x15<\\xe9\\xb7M\\xf7\\x97\\xbc\\x7f\\xc2j\\x8b\\x932\\xb1'\n"
     ]
    }
   ],
   "source": [
    "import concurrent.futures\n",
    "import asyncio\n",
    "\n",
    "def blocking_io():\n",
    "    # File operations (such as logging) can block the\n",
    "    # event loop: run them in a thread pool.\n",
    "    with open('/dev/urandom', 'rb') as f:\n",
    "        return f.read(100)\n",
    "        \n",
    "def cpu_bound():\n",
    "    # CPU-bound operations will block the event loop:\n",
    "    # in general it is preferable to run them in a\n",
    "    # process pool.\n",
    "    return sum(i * i for i in range(10 ** 7))\n",
    "\n",
    "async def main():\n",
    "    loop = asyncio.get_running_loop()\n",
    "\n",
    "    ## Options:\n",
    "\n",
    "    # 1. Run in the default loop's executor:\n",
    "    result = await loop.run_in_executor(\n",
    "        None, blocking_io\n",
    "    )\n",
    "    print(f'\\n')\n",
    "    print(\"default thread pool\", result)\n",
    "    \n",
    "    # 2. Run in a custom thread pool:\n",
    "    with concurrent.futures.ThreadPoolExecutor() as pool:\n",
    "        result = await loop.run_in_executor(\n",
    "            pool, blocking_io)\n",
    "        print('custom thread pool', result)\n",
    "    \n",
    "    # 3. Run in a custom process pool:\n",
    "    # with concurrent.futures.ProcessPoolExecutor(max_workers=4) as pool:\n",
    "    #     result = await loop.run_in_executor(\n",
    "    #         pool, cpu_bound)\n",
    "    #     print('Custom process pool', result)\n",
    "\n",
    "if __name__ == \"__main__\":\n",
    "   await main()"
   ]
  },
  {
   "cell_type": "code",
   "execution_count": 6,
   "id": "ff5830a5-e616-4682-9b53-ab9ba2400e71",
   "metadata": {
    "editable": true,
    "slideshow": {
     "slide_type": ""
    },
    "tags": []
   },
   "outputs": [
    {
     "name": "stdout",
     "output_type": "stream",
     "text": [
      "Hello there N.0\n",
      "Hello there N.1\n",
      "Hello there N.2\n",
      "Hello there N.3\n",
      "Hello there N.4\n",
      "Hello there N.5\n",
      "Hello there N.6\n",
      "Hello there N.7\n",
      "Hello there N.8\n",
      "Hello there N.9\n"
     ]
    }
   ],
   "source": [
    "background_tasks = set()\n",
    "\n",
    "async def say_after(delay, what):\n",
    "    await asyncio.sleep(delay)\n",
    "    print(what)\n",
    "\n",
    "for i in range(10):\n",
    "    task = asyncio.create_task(say_after(i, f\"Hello there N.{i}\"))\n",
    "\n",
    "    # Add task to the set. This creates a strong reference\n",
    "    background_tasks.add(task)\n",
    "\n",
    "    # To prevent keeping references to finished tasks forever,\n",
    "    # make each task remove its own reference from the set after\n",
    "    # completion:\n",
    "    task.add_done_callback(background_tasks.discard)"
   ]
  }
 ],
 "metadata": {
  "kernelspec": {
   "display_name": "Python 3 (ipykernel)",
   "language": "python",
   "name": "python3"
  },
  "language_info": {
   "codemirror_mode": {
    "name": "ipython",
    "version": 3
   },
   "file_extension": ".py",
   "mimetype": "text/x-python",
   "name": "python",
   "nbconvert_exporter": "python",
   "pygments_lexer": "ipython3",
   "version": "3.12.2"
  }
 },
 "nbformat": 4,
 "nbformat_minor": 5
}
