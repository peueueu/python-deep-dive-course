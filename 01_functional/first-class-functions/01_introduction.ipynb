{
 "cells": [
  {
   "cell_type": "markdown",
   "id": "e258b5e1-a490-4b36-ab2d-85a7328744c1",
   "metadata": {},
   "source": [
    "# First-Class Functions\n",
    "\n",
    "All functions in python are first class functions\n",
    "\n",
    "### First-Class Objects\n",
    "Follows those main characteristcs:\n",
    "\n",
    "* Can be passed to a function as an argument\n",
    "* Can be returned from a function\n",
    "* Can be assigned to a variable\n",
    "* can be stored in a data structure (such as list, tuple, dictionary, etc.)\n",
    "\n",
    "Types such as int, float, string, tuple, list and many more are first-class objects.\n",
    "\n",
    "Functions (function) are also first-class objects\n",
    "\n",
    "### High-Order Functions\n",
    "\n",
    "Those are functions that:\n",
    "\n",
    "* Take a function as an argument (e.g. the timer app from the previous module.) and/or return a function"
   ]
  }
 ],
 "metadata": {
  "kernelspec": {
   "display_name": "Python 3 (ipykernel)",
   "language": "python",
   "name": "python3"
  },
  "language_info": {
   "codemirror_mode": {
    "name": "ipython",
    "version": 3
   },
   "file_extension": ".py",
   "mimetype": "text/x-python",
   "name": "python",
   "nbconvert_exporter": "python",
   "pygments_lexer": "ipython3",
   "version": "3.12.2"
  }
 },
 "nbformat": 4,
 "nbformat_minor": 5
}
