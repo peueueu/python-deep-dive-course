{
 "cells": [
  {
   "cell_type": "markdown",
   "id": "42ed79a0-c3f4-4b7a-84c0-6ccc42dd55e2",
   "metadata": {},
   "source": [
    "### Partial Functions"
   ]
  },
  {
   "cell_type": "code",
   "execution_count": 1,
   "id": "817c3c82-22b1-4938-8cd2-31bf9e3754fe",
   "metadata": {},
   "outputs": [],
   "source": [
    "def my_func(a, b, c):\n",
    "    print(a, b, c)"
   ]
  },
  {
   "cell_type": "code",
   "execution_count": 2,
   "id": "f98f770a-d716-4634-8d18-66a2484571c4",
   "metadata": {},
   "outputs": [],
   "source": [
    "def fn(b, c):\n",
    "    return my_func(10, b, c)"
   ]
  },
  {
   "cell_type": "code",
   "execution_count": 3,
   "id": "4f5e33ef-0709-48e3-87b3-09186335d31b",
   "metadata": {},
   "outputs": [
    {
     "name": "stdout",
     "output_type": "stream",
     "text": [
      "10 20 10\n"
     ]
    }
   ],
   "source": [
    "fn(20, 10)"
   ]
  },
  {
   "cell_type": "code",
   "execution_count": 4,
   "id": "78c65dd5-fbe1-415f-ac4a-d87b7098c9e9",
   "metadata": {},
   "outputs": [],
   "source": [
    "f = lambda b, c: my_func(10, b, c)"
   ]
  },
  {
   "cell_type": "code",
   "execution_count": 5,
   "id": "b2263694-c3d1-4156-a6d7-71c648b5bd63",
   "metadata": {},
   "outputs": [
    {
     "name": "stdout",
     "output_type": "stream",
     "text": [
      "10 30 40\n"
     ]
    }
   ],
   "source": [
    "f(30, 40)"
   ]
  },
  {
   "cell_type": "code",
   "execution_count": 6,
   "id": "fef8a8fc-1f65-4ebb-b731-16c550fde6f9",
   "metadata": {},
   "outputs": [],
   "source": [
    "from functools import partial\n",
    "\n",
    "f = partial(my_func, 10)"
   ]
  },
  {
   "cell_type": "code",
   "execution_count": 7,
   "id": "11d1b42f-d362-48ce-8baa-e02700893dbb",
   "metadata": {},
   "outputs": [
    {
     "name": "stdout",
     "output_type": "stream",
     "text": [
      "10 30 40\n"
     ]
    }
   ],
   "source": [
    "f(30, 40)"
   ]
  },
  {
   "cell_type": "code",
   "execution_count": 8,
   "id": "49f3c349-3395-422e-9953-b9198cd35b50",
   "metadata": {},
   "outputs": [],
   "source": [
    "f = partial(my_func, 10, 20)"
   ]
  },
  {
   "cell_type": "code",
   "execution_count": 11,
   "id": "b8e8aac3-c0aa-4246-b049-375c4c909016",
   "metadata": {},
   "outputs": [
    {
     "name": "stdout",
     "output_type": "stream",
     "text": [
      "10 20 15\n"
     ]
    }
   ],
   "source": [
    "f(15)"
   ]
  },
  {
   "cell_type": "code",
   "execution_count": 12,
   "id": "3c36ee4e-a086-4392-ad19-7372974ed6c3",
   "metadata": {},
   "outputs": [],
   "source": [
    "def my_func(a, b, *args, k1, k2, **kwargs):\n",
    "    print(a, b, args, k1, k2, kwargs)"
   ]
  },
  {
   "cell_type": "code",
   "execution_count": 21,
   "id": "8d230381-a020-4db3-92cf-43f5ea7624df",
   "metadata": {},
   "outputs": [],
   "source": [
    "def f(b, *args, k2, **kwargs):\n",
    "    return my_func(10, b, *args, k1='a', k2=k2, **kwargs)"
   ]
  },
  {
   "cell_type": "code",
   "execution_count": 23,
   "id": "cac1e474-66f3-4c4e-82f7-f40a87690da4",
   "metadata": {},
   "outputs": [],
   "source": [
    "f = partial(my_func, 10, k1='a')"
   ]
  },
  {
   "cell_type": "code",
   "execution_count": 24,
   "id": "f9e0364d-bbb8-465f-9269-116784b3121c",
   "metadata": {},
   "outputs": [
    {
     "data": {
      "text/plain": [
       "functools.partial(<function my_func at 0x10e18c5e0>, 10, k1='a')"
      ]
     },
     "execution_count": 24,
     "metadata": {},
     "output_type": "execute_result"
    }
   ],
   "source": [
    "f"
   ]
  },
  {
   "cell_type": "code",
   "execution_count": 25,
   "id": "a646bc55-0b95-422c-912b-0fe7bb51956d",
   "metadata": {},
   "outputs": [
    {
     "name": "stdout",
     "output_type": "stream",
     "text": [
      "10 40 () a b {}\n"
     ]
    }
   ],
   "source": [
    "f(40, k2=\"b\")"
   ]
  },
  {
   "cell_type": "code",
   "execution_count": 26,
   "id": "260a6bdf-a452-4a01-9dc2-29385a666f1d",
   "metadata": {},
   "outputs": [],
   "source": [
    "def pow(base, exponent):\n",
    "    return base ** exponent"
   ]
  },
  {
   "cell_type": "code",
   "execution_count": 27,
   "id": "74da7866-7030-4332-b51d-46fddfe81e69",
   "metadata": {},
   "outputs": [],
   "source": [
    "square = partial(pow, exponent=2)"
   ]
  },
  {
   "cell_type": "code",
   "execution_count": 28,
   "id": "992cbc8d-7621-47ae-8cb3-355d18d58704",
   "metadata": {},
   "outputs": [
    {
     "data": {
      "text/plain": [
       "16"
      ]
     },
     "execution_count": 28,
     "metadata": {},
     "output_type": "execute_result"
    }
   ],
   "source": [
    "square(4)"
   ]
  },
  {
   "cell_type": "code",
   "execution_count": 29,
   "id": "f682828a-588c-4141-b5c1-8e60b35b7a22",
   "metadata": {},
   "outputs": [],
   "source": [
    "cube = partial(pow, exponent=3)"
   ]
  },
  {
   "cell_type": "code",
   "execution_count": 30,
   "id": "813cd7ca-01c9-455f-a93e-03afae073f94",
   "metadata": {},
   "outputs": [
    {
     "data": {
      "text/plain": [
       "125"
      ]
     },
     "execution_count": 30,
     "metadata": {},
     "output_type": "execute_result"
    }
   ],
   "source": [
    "cube(5)"
   ]
  },
  {
   "cell_type": "code",
   "execution_count": 31,
   "id": "a90457b3-4ba6-43dc-ae24-85dbd6638a9a",
   "metadata": {},
   "outputs": [
    {
     "data": {
      "text/plain": [
       "25"
      ]
     },
     "execution_count": 31,
     "metadata": {},
     "output_type": "execute_result"
    }
   ],
   "source": [
    "square(5)"
   ]
  },
  {
   "cell_type": "code",
   "execution_count": 32,
   "id": "4b4807bd-b5e8-4d1f-8bdb-a6868ac27db5",
   "metadata": {},
   "outputs": [],
   "source": [
    "def my_func(a, b, *args, k1, k2, **kwargs):\n",
    "    print(a, b, args, k1, k2, kwargs)"
   ]
  },
  {
   "cell_type": "code",
   "execution_count": 33,
   "id": "0da68a12-266c-4d95-8d7d-5d499e902dfd",
   "metadata": {},
   "outputs": [
    {
     "name": "stdout",
     "output_type": "stream",
     "text": [
      "10 20 (100, 200) a b {'k3': 1000, 'k4': 2000}\n"
     ]
    }
   ],
   "source": [
    "my_func(10, 20, 100, 200, k1='a', k2='b', k3=1000, k4=2000)"
   ]
  },
  {
   "cell_type": "code",
   "execution_count": 34,
   "id": "35eee0a2-792c-40b1-ae2a-c4ccf5cb5fb2",
   "metadata": {},
   "outputs": [],
   "source": [
    "f = partial(my_func, 10, k1='a')"
   ]
  },
  {
   "cell_type": "code",
   "execution_count": 35,
   "id": "40622664-363c-4fe4-8384-2094d1f3f4c4",
   "metadata": {},
   "outputs": [
    {
     "name": "stdout",
     "output_type": "stream",
     "text": [
      "10 20 (100, 200) a b {'k3': 1000, 'k4': 2000}\n"
     ]
    }
   ],
   "source": [
    "f(20, 100, 200, k2='b', k3=1000, k4=2000)"
   ]
  },
  {
   "cell_type": "code",
   "execution_count": 37,
   "id": "727b6a28-7e86-4bd5-95f5-f418b5f2478c",
   "metadata": {},
   "outputs": [],
   "source": [
    "origin = (0,0)"
   ]
  },
  {
   "cell_type": "code",
   "execution_count": 38,
   "id": "5ce2582c-b29f-4667-9ded-83cb40ebc09d",
   "metadata": {},
   "outputs": [],
   "source": [
    "l = [(1,1), (0,2), (-3, 2), (0,0), (10,10)]"
   ]
  },
  {
   "cell_type": "code",
   "execution_count": 39,
   "id": "683c75dc-7a9c-4e7b-aefb-8dacec1b07ea",
   "metadata": {},
   "outputs": [],
   "source": [
    "dist2 = lambda a, b: (a[0] - b[0])**2 + (a[1] - b[1])**2"
   ]
  },
  {
   "cell_type": "code",
   "execution_count": 40,
   "id": "79893fd1-a0b2-4ede-aed7-23ccdb7ea001",
   "metadata": {},
   "outputs": [
    {
     "data": {
      "text/plain": [
       "2"
      ]
     },
     "execution_count": 40,
     "metadata": {},
     "output_type": "execute_result"
    }
   ],
   "source": [
    "dist2((1,1), origin)"
   ]
  },
  {
   "cell_type": "code",
   "execution_count": 42,
   "id": "9f1217db-777c-46fd-82ad-23b1fa8d712b",
   "metadata": {},
   "outputs": [],
   "source": [
    "f = partial(dist2, origin)"
   ]
  },
  {
   "cell_type": "code",
   "execution_count": 45,
   "id": "2d050543-6494-4d38-bfb0-6e4d52d76f5e",
   "metadata": {},
   "outputs": [
    {
     "data": {
      "text/plain": [
       "2"
      ]
     },
     "execution_count": 45,
     "metadata": {},
     "output_type": "execute_result"
    }
   ],
   "source": [
    "f((1,1))"
   ]
  },
  {
   "cell_type": "code",
   "execution_count": 48,
   "id": "f98c7145-f6a4-4a40-a8b9-1b7a1311d975",
   "metadata": {},
   "outputs": [
    {
     "data": {
      "text/plain": [
       "[(0, 0), (1, 1), (0, 2), (-3, 2), (10, 10)]"
      ]
     },
     "execution_count": 48,
     "metadata": {},
     "output_type": "execute_result"
    }
   ],
   "source": [
    "sorted(l, key=f)"
   ]
  },
  {
   "cell_type": "code",
   "execution_count": 49,
   "id": "d03ff663-f419-474e-9850-8136dc1128f2",
   "metadata": {},
   "outputs": [
    {
     "data": {
      "text/plain": [
       "[(0, 0), (1, 1), (0, 2), (-3, 2), (10, 10)]"
      ]
     },
     "execution_count": 49,
     "metadata": {},
     "output_type": "execute_result"
    }
   ],
   "source": [
    "sorted(l, key=partial(dist2, origin))"
   ]
  },
  {
   "cell_type": "code",
   "execution_count": 51,
   "id": "73e48143-a304-4909-9530-9f31cfdfdf31",
   "metadata": {},
   "outputs": [
    {
     "data": {
      "text/plain": [
       "[(0, 0), (1, 1), (0, 2), (-3, 2), (10, 10)]"
      ]
     },
     "execution_count": 51,
     "metadata": {},
     "output_type": "execute_result"
    }
   ],
   "source": [
    "sorted(l, key=lambda x: dist2(origin, x))"
   ]
  },
  {
   "cell_type": "code",
   "execution_count": null,
   "id": "cfeba3f2-ce87-4643-9dca-b95850d1236b",
   "metadata": {},
   "outputs": [],
   "source": []
  }
 ],
 "metadata": {
  "kernelspec": {
   "display_name": "Python 3 (ipykernel)",
   "language": "python",
   "name": "python3"
  },
  "language_info": {
   "codemirror_mode": {
    "name": "ipython",
    "version": 3
   },
   "file_extension": ".py",
   "mimetype": "text/x-python",
   "name": "python",
   "nbconvert_exporter": "python",
   "pygments_lexer": "ipython3",
   "version": "3.12.2"
  }
 },
 "nbformat": 4,
 "nbformat_minor": 5
}
