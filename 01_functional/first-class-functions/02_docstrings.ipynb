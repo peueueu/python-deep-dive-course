{
 "cells": [
  {
   "cell_type": "markdown",
   "id": "57dcf8aa-bbca-4a7a-be27-263749f7e9eb",
   "metadata": {},
   "source": [
    "### Where are the docstrings stored ? \n",
    "\n",
    "The doctstrings are stored in the function's __ doc __ property\n",
    "\n",
    "```python\n",
    "def fact(n):\n",
    "\"\"\"Calculates n!  (Factorial function)\n",
    "\n",
    "Inputs:\n",
    "    n: non-negative integer\n",
    "Returns:\n",
    "    the factorial of n\n",
    "\"\"\"\n",
    "    ...\n",
    "```"
   ]
  },
  {
   "cell_type": "code",
   "execution_count": 2,
   "id": "3d6dca47-4543-441b-842a-3a9809be8872",
   "metadata": {},
   "outputs": [],
   "source": [
    "def fact(n):\n",
    "    \"\"\"Calculates n!  (Factorial function)\n",
    "    \n",
    "    Inputs:\n",
    "        n: non-negative integer\n",
    "    Returns:\n",
    "        the factorial of n\n",
    "    \"\"\"\n",
    "    ..."
   ]
  },
  {
   "cell_type": "code",
   "execution_count": 4,
   "id": "a7d0f49c-76b8-4bc6-8c52-3c12f3c6852c",
   "metadata": {},
   "outputs": [
    {
     "name": "stdout",
     "output_type": "stream",
     "text": [
      "Calculates n!  (Factorial function)\n",
      "    \n",
      "    Inputs:\n",
      "        n: non-negative integer\n",
      "    Returns:\n",
      "        the factorial of n\n",
      "    \n"
     ]
    }
   ],
   "source": [
    "print(fact.__doc__)"
   ]
  },
  {
   "cell_type": "code",
   "execution_count": 5,
   "id": "e04f93f1-63f5-4c8b-bb1c-9cbffc56cf96",
   "metadata": {},
   "outputs": [
    {
     "name": "stdout",
     "output_type": "stream",
     "text": [
      "Help on function fact in module __main__:\n",
      "\n",
      "fact(n)\n",
      "    Calculates n!  (Factorial function)\n",
      "\n",
      "    Inputs:\n",
      "        n: non-negative integer\n",
      "    Returns:\n",
      "        the factorial of n\n",
      "\n"
     ]
    }
   ],
   "source": [
    "help(fact)"
   ]
  },
  {
   "cell_type": "markdown",
   "id": "2936fc02-cdae-4de4-882e-a79d30821186",
   "metadata": {},
   "source": [
    "### Function Annotations\n",
    "\n",
    "_The annotation is only metadata, the python won't care for diferent types being passed to the value_\n",
    "\n",
    "Function annotations give us an additional way to document our functions: [PEP 3107](https://peps.python.org/pep-3107/)\n",
    "\n",
    "```python\n",
    "def my_func(a: 'a string', b: 'a positive integer') -> 'a string':\n",
    "    return a * b\n",
    "```"
   ]
  },
  {
   "cell_type": "code",
   "execution_count": 19,
   "id": "76ca15d7-4fef-469b-b518-265d2e6d99a6",
   "metadata": {},
   "outputs": [
    {
     "name": "stdout",
     "output_type": "stream",
     "text": [
      "Help on function my_func in module __main__:\n",
      "\n",
      "my_func(a: 'a string', b: 'a positive integer') -> 'a string'\n",
      "\n"
     ]
    }
   ],
   "source": [
    "def my_func(a: 'a string', b: 'a positive integer') -> 'a string':\n",
    "    return a * b\n",
    "\n",
    "help(my_func)"
   ]
  },
  {
   "cell_type": "code",
   "execution_count": 20,
   "id": "a11ac447-f821-49d8-9c51-ba39f56fc0dc",
   "metadata": {},
   "outputs": [],
   "source": [
    "# Annotations will be stored at __annotations__"
   ]
  },
  {
   "cell_type": "code",
   "execution_count": 21,
   "id": "7fba5b1e-2f54-4070-97f6-ca8808c4bff0",
   "metadata": {},
   "outputs": [
    {
     "data": {
      "text/plain": [
       "{'a': 'a string', 'b': 'a positive integer', 'return': 'a string'}"
      ]
     },
     "execution_count": 21,
     "metadata": {},
     "output_type": "execute_result"
    }
   ],
   "source": [
    "my_func.__annotations__"
   ]
  },
  {
   "cell_type": "code",
   "execution_count": 23,
   "id": "07984721-55fd-4c27-8729-15ae92557717",
   "metadata": {},
   "outputs": [],
   "source": [
    "# Take a look at Sphinx tool for documentation genaration\n",
    "# Also delve into type hints ( Enhanced version of annotations)"
   ]
  }
 ],
 "metadata": {
  "kernelspec": {
   "display_name": "Python 3 (ipykernel)",
   "language": "python",
   "name": "python3"
  },
  "language_info": {
   "codemirror_mode": {
    "name": "ipython",
    "version": 3
   },
   "file_extension": ".py",
   "mimetype": "text/x-python",
   "name": "python",
   "nbconvert_exporter": "python",
   "pygments_lexer": "ipython3",
   "version": "3.12.2"
  }
 },
 "nbformat": 4,
 "nbformat_minor": 5
}
