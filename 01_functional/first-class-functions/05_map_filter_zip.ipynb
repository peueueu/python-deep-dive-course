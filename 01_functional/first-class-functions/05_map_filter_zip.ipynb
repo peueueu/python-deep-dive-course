{
 "cells": [
  {
   "cell_type": "markdown",
   "id": "a05c1fc0-b0ad-4793-b068-d7f1959d7436",
   "metadata": {},
   "source": [
    "# Map, Filter and Zip"
   ]
  },
  {
   "cell_type": "code",
   "execution_count": 8,
   "id": "f0ed6579-2aa9-4095-86c2-71b933ee0a80",
   "metadata": {},
   "outputs": [],
   "source": [
    "l = [2, 3, 4]"
   ]
  },
  {
   "cell_type": "markdown",
   "id": "aee9ce44-dfda-4913-9860-ae62fc26d24a",
   "metadata": {},
   "source": [
    "### MAP Function"
   ]
  },
  {
   "cell_type": "code",
   "execution_count": 4,
   "id": "a24466a2-d4ac-40c9-8072-5a32bab42d00",
   "metadata": {},
   "outputs": [
    {
     "data": {
      "text/plain": [
       "[4, 9, 16]"
      ]
     },
     "execution_count": 4,
     "metadata": {},
     "output_type": "execute_result"
    }
   ],
   "source": [
    "list(map(lambda x: x**2, l))"
   ]
  },
  {
   "cell_type": "code",
   "execution_count": 7,
   "id": "e8473fb1-56cb-4c6a-ab45-1b4ebffaffb5",
   "metadata": {},
   "outputs": [
    {
     "data": {
      "text/plain": [
       "[11, 22, 33]"
      ]
     },
     "execution_count": 7,
     "metadata": {},
     "output_type": "execute_result"
    }
   ],
   "source": [
    "l1 = [1, 2, 3]\n",
    "l2 = [10, 20, 30]\n",
    "\n",
    "list(map(lambda x, y: x + y, l1, l2))"
   ]
  },
  {
   "cell_type": "markdown",
   "id": "51a95982-90ed-48eb-b451-aa6f8ada9dcb",
   "metadata": {},
   "source": [
    "### Filter Function"
   ]
  },
  {
   "cell_type": "code",
   "execution_count": 15,
   "id": "10beedde-78d6-4850-8d92-310c7dd9f0af",
   "metadata": {},
   "outputs": [
    {
     "data": {
      "text/plain": [
       "[10, 20]"
      ]
     },
     "execution_count": 15,
     "metadata": {},
     "output_type": "execute_result"
    }
   ],
   "source": [
    "list(filter(lambda x: x < 23, l2))"
   ]
  },
  {
   "cell_type": "code",
   "execution_count": 19,
   "id": "1b3478f1-bfae-497e-9812-2543abe3a6ed",
   "metadata": {},
   "outputs": [
    {
     "data": {
      "text/plain": [
       "[2, 4]"
      ]
     },
     "execution_count": 19,
     "metadata": {},
     "output_type": "execute_result"
    }
   ],
   "source": [
    "list(filter(lambda n: n % 2 == 0, l))"
   ]
  },
  {
   "cell_type": "markdown",
   "id": "e70824e7-89be-46c2-adf9-db15e1127c81",
   "metadata": {},
   "source": [
    "### Zip Function"
   ]
  },
  {
   "cell_type": "code",
   "execution_count": 22,
   "id": "adc5614f-6ef1-40dd-9b73-5a6969c4cbf7",
   "metadata": {},
   "outputs": [
    {
     "data": {
      "text/plain": [
       "[(2, 1, 10), (3, 2, 20), (4, 3, 30)]"
      ]
     },
     "execution_count": 22,
     "metadata": {},
     "output_type": "execute_result"
    }
   ],
   "source": [
    "list(zip(l, l1, l2))"
   ]
  },
  {
   "cell_type": "code",
   "execution_count": 23,
   "id": "82bddb37-b2f8-4aec-a6b8-5cdfe0f462de",
   "metadata": {},
   "outputs": [],
   "source": [
    "# The previous functions stop once one of the iterables is exhausted"
   ]
  },
  {
   "cell_type": "code",
   "execution_count": 24,
   "id": "8e71aa99-dd99-4108-aa8c-bf5d87769b91",
   "metadata": {},
   "outputs": [
    {
     "data": {
      "text/plain": [
       "[(1, 10, 'p'), (2, 20, 'y'), (3, 30, 't')]"
      ]
     },
     "execution_count": 24,
     "metadata": {},
     "output_type": "execute_result"
    }
   ],
   "source": [
    "l1 = [1, 2, 3]\n",
    "l2 = [10, 20, 30, 40]\n",
    "l3 = 'python'\n",
    "\n",
    "list(zip(l1, l2, l3))"
   ]
  },
  {
   "cell_type": "code",
   "execution_count": 25,
   "id": "1b501eee-7f24-4b3a-8aa6-c63a9a0a18af",
   "metadata": {},
   "outputs": [
    {
     "data": {
      "text/plain": [
       "[(0, 'a'), (1, 'b'), (2, 'c'), (3, 'd')]"
      ]
     },
     "execution_count": 25,
     "metadata": {},
     "output_type": "execute_result"
    }
   ],
   "source": [
    "l1 = range(100)\n",
    "l2 = 'abcd'\n",
    "\n",
    "list(zip(l1, l2))"
   ]
  },
  {
   "cell_type": "code",
   "execution_count": 31,
   "id": "f7ddf058-b104-46d6-96a5-a1a81356055e",
   "metadata": {},
   "outputs": [],
   "source": [
    "from string import ascii_lowercase"
   ]
  },
  {
   "cell_type": "code",
   "execution_count": 33,
   "id": "aee6c705-e546-44c6-8731-e470114160fe",
   "metadata": {},
   "outputs": [
    {
     "name": "stdout",
     "output_type": "stream",
     "text": [
      "[(0, 'a'), (1, 'b'), (2, 'c'), (3, 'd'), (4, 'e'), (5, 'f'), (6, 'g'), (7, 'h'), (8, 'i'), (9, 'j'), (10, 'k'), (11, 'l'), (12, 'm'), (13, 'n'), (14, 'o'), (15, 'p'), (16, 'q'), (17, 'r'), (18, 's'), (19, 't'), (20, 'u'), (21, 'v'), (22, 'w'), (23, 'x'), (24, 'y'), (25, 'z')]\n"
     ]
    }
   ],
   "source": [
    "l1 = range(100)\n",
    "l2 = ascii_lowercase\n",
    "\n",
    "print(list(zip(l1, l2)))"
   ]
  },
  {
   "cell_type": "code",
   "execution_count": 36,
   "id": "667c59ac-44bd-4056-a38d-14d130721419",
   "metadata": {},
   "outputs": [
    {
     "name": "stdout",
     "output_type": "stream",
     "text": [
      "The a is at 0 of the alphabet.\n",
      "The b is at 1 of the alphabet.\n",
      "The c is at 2 of the alphabet.\n",
      "The d is at 3 of the alphabet.\n",
      "The e is at 4 of the alphabet.\n",
      "The f is at 5 of the alphabet.\n",
      "The g is at 6 of the alphabet.\n",
      "The h is at 7 of the alphabet.\n",
      "The i is at 8 of the alphabet.\n",
      "The j is at 9 of the alphabet.\n",
      "The k is at 10 of the alphabet.\n",
      "The l is at 11 of the alphabet.\n",
      "The m is at 12 of the alphabet.\n",
      "The n is at 13 of the alphabet.\n",
      "The o is at 14 of the alphabet.\n",
      "The p is at 15 of the alphabet.\n",
      "The q is at 16 of the alphabet.\n",
      "The r is at 17 of the alphabet.\n",
      "The s is at 18 of the alphabet.\n",
      "The t is at 19 of the alphabet.\n",
      "The u is at 20 of the alphabet.\n",
      "The v is at 21 of the alphabet.\n",
      "The w is at 22 of the alphabet.\n",
      "The x is at 23 of the alphabet.\n",
      "The y is at 24 of the alphabet.\n",
      "The z is at 25 of the alphabet.\n"
     ]
    }
   ],
   "source": [
    "for index, value in zip(l1, l2):\n",
    "    print(\"The {char} is at {index} of the alphabet.\".format(char=value, index=index))"
   ]
  },
  {
   "cell_type": "markdown",
   "id": "acddca0f-779b-4ae9-963f-170aa398e103",
   "metadata": {},
   "source": [
    "### List comprehensions as alternative to map functions\n",
    "\n",
    "_Using map:_"
   ]
  },
  {
   "cell_type": "code",
   "execution_count": 37,
   "id": "c3b3ae74-68d8-4c7d-ada9-1a98de3d1803",
   "metadata": {},
   "outputs": [],
   "source": [
    "l = [2, 3, 4]"
   ]
  },
  {
   "cell_type": "code",
   "execution_count": 38,
   "id": "67d41d75-8ffa-4c63-966b-1f559d63cc57",
   "metadata": {},
   "outputs": [],
   "source": [
    "square_l = list(map(lambda x: x**2, l))"
   ]
  },
  {
   "cell_type": "code",
   "execution_count": 39,
   "id": "64caa65b-5687-4786-95bf-9ce8f3f8cf40",
   "metadata": {},
   "outputs": [
    {
     "data": {
      "text/plain": [
       "[4, 9, 16]"
      ]
     },
     "execution_count": 39,
     "metadata": {},
     "output_type": "execute_result"
    }
   ],
   "source": [
    "square_l"
   ]
  },
  {
   "cell_type": "markdown",
   "id": "8dace2f2-8779-4d90-9831-1a6f5916b1bb",
   "metadata": {},
   "source": [
    "_Using list comprehensions:_"
   ]
  },
  {
   "cell_type": "code",
   "execution_count": 40,
   "id": "5cc684b2-4583-44b8-b88d-ddb1cee7cbcd",
   "metadata": {},
   "outputs": [],
   "source": [
    "square_l = [x**2 for x in l]"
   ]
  },
  {
   "cell_type": "code",
   "execution_count": 41,
   "id": "31976bfc-29bb-4e0e-9571-1e95fe1060c7",
   "metadata": {},
   "outputs": [
    {
     "data": {
      "text/plain": [
       "[4, 9, 16]"
      ]
     },
     "execution_count": 41,
     "metadata": {},
     "output_type": "execute_result"
    }
   ],
   "source": [
    "square_l"
   ]
  },
  {
   "cell_type": "code",
   "execution_count": 43,
   "id": "dfe297cf-aba2-430d-ae75-6ff276759b04",
   "metadata": {},
   "outputs": [
    {
     "data": {
      "text/plain": [
       "[0, 1, 4, 9, 16]"
      ]
     },
     "execution_count": 43,
     "metadata": {},
     "output_type": "execute_result"
    }
   ],
   "source": [
    "# Improves code readability like in this example of combining filter and map:\n",
    "\n",
    "l = range(10)\n",
    "list(filter(lambda y: y < 25, map(lambda x: x**2, l)))"
   ]
  },
  {
   "cell_type": "code",
   "execution_count": 48,
   "id": "f3643490-50cb-4dd2-a1d3-076c10dd1a65",
   "metadata": {},
   "outputs": [],
   "source": [
    "# Using list comprehensions:\n",
    "\n",
    "l = [x**2 for x in range(10) if x**2 < 25]"
   ]
  },
  {
   "cell_type": "code",
   "execution_count": 49,
   "id": "63512669-29b1-4334-8ae4-0541fc33b5da",
   "metadata": {},
   "outputs": [
    {
     "data": {
      "text/plain": [
       "[0, 1, 4, 9, 16]"
      ]
     },
     "execution_count": 49,
     "metadata": {},
     "output_type": "execute_result"
    }
   ],
   "source": [
    "l"
   ]
  }
 ],
 "metadata": {
  "kernelspec": {
   "display_name": "Python 3 (ipykernel)",
   "language": "python",
   "name": "python3"
  },
  "language_info": {
   "codemirror_mode": {
    "name": "ipython",
    "version": 3
   },
   "file_extension": ".py",
   "mimetype": "text/x-python",
   "name": "python",
   "nbconvert_exporter": "python",
   "pygments_lexer": "ipython3",
   "version": "3.12.2"
  }
 },
 "nbformat": 4,
 "nbformat_minor": 5
}
