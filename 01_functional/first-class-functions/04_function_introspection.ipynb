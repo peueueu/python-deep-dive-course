{
 "cells": [
  {
   "cell_type": "markdown",
   "id": "7200abb1-3c57-4d9c-9e6e-ad5f186eb179",
   "metadata": {},
   "source": [
    "# Function Introspection"
   ]
  },
  {
   "cell_type": "code",
   "execution_count": 2,
   "id": "d9d6bdab-dc40-42ad-8ea2-548b9b61416c",
   "metadata": {},
   "outputs": [],
   "source": [
    "def my_func(a, b=1, *args, **kwargs):\n",
    "    i = 10\n",
    "    b = min(i, b)\n",
    "    return a * b"
   ]
  },
  {
   "cell_type": "code",
   "execution_count": 4,
   "id": "05fced7b-09ba-4a83-b6f1-f51ed23f60ce",
   "metadata": {},
   "outputs": [
    {
     "data": {
      "text/plain": [
       "<code object my_func at 0x104d0df20, file \"/var/folders/jk/tnkhy1ls63zgrjhlwqjt0l_h0000gn/T/ipykernel_14906/802511939.py\", line 1>"
      ]
     },
     "execution_count": 4,
     "metadata": {},
     "output_type": "execute_result"
    }
   ],
   "source": [
    "my_func.__code__"
   ]
  },
  {
   "cell_type": "code",
   "execution_count": 63,
   "id": "391e6a66-54c7-4439-9c1a-8a997b081011",
   "metadata": {},
   "outputs": [
    {
     "data": {
      "text/plain": [
       "3"
      ]
     },
     "execution_count": 63,
     "metadata": {},
     "output_type": "execute_result"
    }
   ],
   "source": [
    "my_func.__code__.co_argcount # Doesn't include *args and **kwargs, only includes the positional args"
   ]
  },
  {
   "cell_type": "code",
   "execution_count": 64,
   "id": "68d82b42-7c1c-465a-82a8-7d1e50b1be27",
   "metadata": {},
   "outputs": [
    {
     "data": {
      "text/plain": [
       "('a', 'b', 'c', 'kw1', 'kw2', 'kw3', 'args', 'kwargs', 'i', 'j')"
      ]
     },
     "execution_count": 64,
     "metadata": {},
     "output_type": "execute_result"
    }
   ],
   "source": [
    "my_func.__code__.co_varnames"
   ]
  },
  {
   "cell_type": "code",
   "execution_count": 65,
   "id": "dab4cc14-46ff-4094-9123-a0975fb1a684",
   "metadata": {},
   "outputs": [],
   "source": [
    "# We can use the inspect module\n",
    "\n",
    "from inspect import ismethod, isfunction, isroutine"
   ]
  },
  {
   "cell_type": "markdown",
   "id": "cebe87db-2dd1-4e94-b565-044c7968e0bb",
   "metadata": {},
   "source": [
    "### What's the difference between function and a method ?\n",
    "\n",
    "Classes and objects have attributes - an object that is bound (to the class or the object)\n",
    "An attribute that is callable, is called a method.\n",
    "\n",
    "\n",
    "```python\n",
    "def my_func():\n",
    "    pass\n",
    "class MyClass:\n",
    "    def func(self): # In this case this function, is an instance function, it's to bound to the instance of MyClass\n",
    "        pass"
   ]
  },
  {
   "cell_type": "code",
   "execution_count": 66,
   "id": "0f14a00c-9232-42bc-9f51-80545cae3b23",
   "metadata": {},
   "outputs": [],
   "source": [
    "class MyClass:\n",
    "    def func(self):\n",
    "        pass"
   ]
  },
  {
   "cell_type": "code",
   "execution_count": 67,
   "id": "52315251-0d4d-4e4a-b266-69861bf849d5",
   "metadata": {},
   "outputs": [],
   "source": [
    "my_obj = MyClass()"
   ]
  },
  {
   "cell_type": "code",
   "execution_count": 68,
   "id": "44f4adcc-fa37-4e41-b6c2-2ca4190589e1",
   "metadata": {},
   "outputs": [
    {
     "data": {
      "text/plain": [
       "True"
      ]
     },
     "execution_count": 68,
     "metadata": {},
     "output_type": "execute_result"
    }
   ],
   "source": [
    "ismethod(my_obj.func)"
   ]
  },
  {
   "cell_type": "code",
   "execution_count": 69,
   "id": "8d1c8b94-5de2-4087-8ebf-fb8a47e36e3d",
   "metadata": {},
   "outputs": [],
   "source": [
    "def my_func():\n",
    "    pass"
   ]
  },
  {
   "cell_type": "code",
   "execution_count": 70,
   "id": "1bf485f9-a063-4761-b9e4-a700383c48cf",
   "metadata": {},
   "outputs": [
    {
     "data": {
      "text/plain": [
       "False"
      ]
     },
     "execution_count": 70,
     "metadata": {},
     "output_type": "execute_result"
    }
   ],
   "source": [
    "ismethod(my_func)"
   ]
  },
  {
   "cell_type": "code",
   "execution_count": 71,
   "id": "60583cb5-1943-4578-80bd-9c986ce3fa46",
   "metadata": {},
   "outputs": [
    {
     "data": {
      "text/plain": [
       "'def my_func():\\n    pass\\n'"
      ]
     },
     "execution_count": 71,
     "metadata": {},
     "output_type": "execute_result"
    }
   ],
   "source": [
    "inspect.getsource(my_func) # Returns a string containing our entire def statement, including annotations, docstrings, etc."
   ]
  },
  {
   "cell_type": "code",
   "execution_count": 72,
   "id": "c43d3f9f-a91f-4f5a-bc33-6a7d313b6829",
   "metadata": {},
   "outputs": [
    {
     "data": {
      "text/plain": [
       "<module '__main__'>"
      ]
     },
     "execution_count": 72,
     "metadata": {},
     "output_type": "execute_result"
    }
   ],
   "source": [
    "inspect.getmodule(my_func)"
   ]
  },
  {
   "cell_type": "code",
   "execution_count": 73,
   "id": "85b44544-3feb-4560-9580-3dc1e9eed0d0",
   "metadata": {},
   "outputs": [
    {
     "data": {
      "text/plain": [
       "<module 'builtins' (built-in)>"
      ]
     },
     "execution_count": 73,
     "metadata": {},
     "output_type": "execute_result"
    }
   ],
   "source": [
    "inspect.getmodule(print)"
   ]
  },
  {
   "cell_type": "code",
   "execution_count": 74,
   "id": "2b25385e-045c-47a6-8f67-4521d58e8a56",
   "metadata": {},
   "outputs": [
    {
     "data": {
      "text/plain": [
       "'# TODO: Implement function\\n# some additional notes\\n'"
      ]
     },
     "execution_count": 74,
     "metadata": {},
     "output_type": "execute_result"
    }
   ],
   "source": [
    "# E.G\n",
    "\n",
    "# Setting up variable\n",
    "i = 10\n",
    "\n",
    "# TODO: Implement function\n",
    "# some additional notes\n",
    "def my_func(a, b=1):\n",
    "    # comment inside my_func\n",
    "    pass\n",
    "\n",
    "inspect.getcomments(my_func)"
   ]
  },
  {
   "cell_type": "code",
   "execution_count": 75,
   "id": "e3121ade-4d3a-41df-82d2-e7aae40a5cc8",
   "metadata": {},
   "outputs": [],
   "source": [
    "sig = inspect.signature(my_func) # Returns Signature instance"
   ]
  },
  {
   "cell_type": "code",
   "execution_count": 76,
   "id": "ce3a9b9e-556a-4114-8446-07560a7d2224",
   "metadata": {},
   "outputs": [
    {
     "data": {
      "text/plain": [
       "mappingproxy({'a': <Parameter \"a\">, 'b': <Parameter \"b=1\">})"
      ]
     },
     "execution_count": 76,
     "metadata": {},
     "output_type": "execute_result"
    }
   ],
   "source": [
    "sig.parameters"
   ]
  },
  {
   "cell_type": "code",
   "execution_count": 77,
   "id": "443c878d-4dfc-4c4d-a605-aad4de7bc7e2",
   "metadata": {},
   "outputs": [],
   "source": [
    "def my_func(a: \"This is a mandatory positional\",\n",
    "            b: \"This is an optional positional\"=1,\n",
    "            c=2,\n",
    "            *args: \"Add extra positional here\",\n",
    "            kw1,\n",
    "            kw2=100,\n",
    "            kw3=200,\n",
    "            **kwargs: \"provide extra kw-only here\") -> \"Does nothing\":\n",
    "    \"\"\"\n",
    "    This function does nothing but does have various parameters\n",
    "    and annotations.\n",
    "    \"\"\"\n",
    "    i = 10\n",
    "    j = 20"
   ]
  },
  {
   "cell_type": "code",
   "execution_count": 78,
   "id": "c6c814f5-e1d4-4eda-a6fd-b457a3b671df",
   "metadata": {},
   "outputs": [
    {
     "data": {
      "text/plain": [
       "'\\n    This function does nothing but does have various parameters\\n    and annotations.\\n    '"
      ]
     },
     "execution_count": 78,
     "metadata": {},
     "output_type": "execute_result"
    }
   ],
   "source": [
    "my_func.__doc__"
   ]
  },
  {
   "cell_type": "code",
   "execution_count": 79,
   "id": "829f27df-cfa5-4bcd-be94-7cadcc942472",
   "metadata": {},
   "outputs": [
    {
     "data": {
      "text/plain": [
       "{'a': 'This is a mandatory positional',\n",
       " 'b': 'This is an optional positional',\n",
       " 'args': 'Add extra positional here',\n",
       " 'kwargs': 'provide extra kw-only here',\n",
       " 'return': 'Does nothing'}"
      ]
     },
     "execution_count": 79,
     "metadata": {},
     "output_type": "execute_result"
    }
   ],
   "source": [
    "my_func.__annotations__"
   ]
  },
  {
   "cell_type": "code",
   "execution_count": 80,
   "id": "608cfe65-1799-4729-89dd-27344b93e852",
   "metadata": {},
   "outputs": [],
   "source": [
    "my_func.short_description = \"This is a function that does nothing\""
   ]
  },
  {
   "cell_type": "code",
   "execution_count": 81,
   "id": "d8c9e9fa-d3a7-4c82-a8a5-6b9c54432328",
   "metadata": {},
   "outputs": [
    {
     "data": {
      "text/plain": [
       "'This is a function that does nothing'"
      ]
     },
     "execution_count": 81,
     "metadata": {},
     "output_type": "execute_result"
    }
   ],
   "source": [
    "my_func.short_description"
   ]
  },
  {
   "cell_type": "code",
   "execution_count": 82,
   "id": "a3b826de-079b-41aa-ad51-47e56d07faa1",
   "metadata": {},
   "outputs": [
    {
     "data": {
      "text/plain": [
       "['__annotations__',\n",
       " '__builtins__',\n",
       " '__call__',\n",
       " '__class__',\n",
       " '__closure__',\n",
       " '__code__',\n",
       " '__defaults__',\n",
       " '__delattr__',\n",
       " '__dict__',\n",
       " '__dir__',\n",
       " '__doc__',\n",
       " '__eq__',\n",
       " '__format__',\n",
       " '__ge__',\n",
       " '__get__',\n",
       " '__getattribute__',\n",
       " '__getstate__',\n",
       " '__globals__',\n",
       " '__gt__',\n",
       " '__hash__',\n",
       " '__init__',\n",
       " '__init_subclass__',\n",
       " '__kwdefaults__',\n",
       " '__le__',\n",
       " '__lt__',\n",
       " '__module__',\n",
       " '__name__',\n",
       " '__ne__',\n",
       " '__new__',\n",
       " '__qualname__',\n",
       " '__reduce__',\n",
       " '__reduce_ex__',\n",
       " '__repr__',\n",
       " '__setattr__',\n",
       " '__sizeof__',\n",
       " '__str__',\n",
       " '__subclasshook__',\n",
       " '__type_params__',\n",
       " 'short_description']"
      ]
     },
     "execution_count": 82,
     "metadata": {},
     "output_type": "execute_result"
    }
   ],
   "source": [
    "dir(my_func)"
   ]
  },
  {
   "cell_type": "code",
   "execution_count": 83,
   "id": "26971b62-51a6-49fe-99a2-469ee4848d55",
   "metadata": {},
   "outputs": [
    {
     "data": {
      "text/plain": [
       "'my_func'"
      ]
     },
     "execution_count": 83,
     "metadata": {},
     "output_type": "execute_result"
    }
   ],
   "source": [
    "my_func.__name__"
   ]
  },
  {
   "cell_type": "code",
   "execution_count": 84,
   "id": "b6711860-4fb8-42fc-92c7-c9e899a89e4b",
   "metadata": {},
   "outputs": [
    {
     "data": {
      "text/plain": [
       "<method-wrapper '__call__' of function object at 0x1068eb880>"
      ]
     },
     "execution_count": 84,
     "metadata": {},
     "output_type": "execute_result"
    }
   ],
   "source": [
    "my_func.__call__"
   ]
  },
  {
   "cell_type": "code",
   "execution_count": 85,
   "id": "2ce3906b-c4d2-4f71-b9f1-272b319bffb5",
   "metadata": {},
   "outputs": [],
   "source": [
    "def func_call(f):\n",
    "    print(f.__name__)"
   ]
  },
  {
   "cell_type": "code",
   "execution_count": 86,
   "id": "05e3f000-0600-4284-87eb-15cb37acb16e",
   "metadata": {},
   "outputs": [
    {
     "name": "stdout",
     "output_type": "stream",
     "text": [
      "my_func\n"
     ]
    }
   ],
   "source": [
    "func_call(my_func)"
   ]
  },
  {
   "cell_type": "code",
   "execution_count": 87,
   "id": "6535e28e-d997-4578-b797-0614479716b1",
   "metadata": {},
   "outputs": [
    {
     "data": {
      "text/plain": [
       "(1, 2)"
      ]
     },
     "execution_count": 87,
     "metadata": {},
     "output_type": "execute_result"
    }
   ],
   "source": [
    "my_func.__defaults__"
   ]
  },
  {
   "cell_type": "code",
   "execution_count": 88,
   "id": "7dd742ec-e0c5-4c55-a23d-c8b61de6f2f4",
   "metadata": {},
   "outputs": [
    {
     "data": {
      "text/plain": [
       "{'kw2': 100, 'kw3': 200}"
      ]
     },
     "execution_count": 88,
     "metadata": {},
     "output_type": "execute_result"
    }
   ],
   "source": [
    "my_func.__kwdefaults__"
   ]
  },
  {
   "cell_type": "code",
   "execution_count": 89,
   "id": "585153fd-9184-4012-8254-e2bb48569398",
   "metadata": {},
   "outputs": [
    {
     "data": {
      "text/plain": [
       "<code object my_func at 0x1067a49f0, file \"/var/folders/jk/tnkhy1ls63zgrjhlwqjt0l_h0000gn/T/ipykernel_14906/2229117823.py\", line 1>"
      ]
     },
     "execution_count": 89,
     "metadata": {},
     "output_type": "execute_result"
    }
   ],
   "source": [
    "my_func.__code__"
   ]
  },
  {
   "cell_type": "code",
   "execution_count": 90,
   "id": "2d95fa16-e802-4605-bf8e-2c3d4827fdec",
   "metadata": {},
   "outputs": [
    {
     "data": {
      "text/plain": [
       "['__class__',\n",
       " '__delattr__',\n",
       " '__dir__',\n",
       " '__doc__',\n",
       " '__eq__',\n",
       " '__format__',\n",
       " '__ge__',\n",
       " '__getattribute__',\n",
       " '__getstate__',\n",
       " '__gt__',\n",
       " '__hash__',\n",
       " '__init__',\n",
       " '__init_subclass__',\n",
       " '__le__',\n",
       " '__lt__',\n",
       " '__ne__',\n",
       " '__new__',\n",
       " '__reduce__',\n",
       " '__reduce_ex__',\n",
       " '__repr__',\n",
       " '__setattr__',\n",
       " '__sizeof__',\n",
       " '__str__',\n",
       " '__subclasshook__',\n",
       " '_co_code_adaptive',\n",
       " '_varname_from_oparg',\n",
       " 'co_argcount',\n",
       " 'co_cellvars',\n",
       " 'co_code',\n",
       " 'co_consts',\n",
       " 'co_exceptiontable',\n",
       " 'co_filename',\n",
       " 'co_firstlineno',\n",
       " 'co_flags',\n",
       " 'co_freevars',\n",
       " 'co_kwonlyargcount',\n",
       " 'co_lines',\n",
       " 'co_linetable',\n",
       " 'co_lnotab',\n",
       " 'co_name',\n",
       " 'co_names',\n",
       " 'co_nlocals',\n",
       " 'co_positions',\n",
       " 'co_posonlyargcount',\n",
       " 'co_qualname',\n",
       " 'co_stacksize',\n",
       " 'co_varnames',\n",
       " 'replace']"
      ]
     },
     "execution_count": 90,
     "metadata": {},
     "output_type": "execute_result"
    }
   ],
   "source": [
    "dir(my_func.__code__)"
   ]
  },
  {
   "cell_type": "code",
   "execution_count": 91,
   "id": "9fbe9fda-d80c-4cb8-aebd-56a27a5c49b5",
   "metadata": {},
   "outputs": [
    {
     "data": {
      "text/plain": [
       "'my_func'"
      ]
     },
     "execution_count": 91,
     "metadata": {},
     "output_type": "execute_result"
    }
   ],
   "source": [
    "my_func.__code__.co_name"
   ]
  },
  {
   "cell_type": "code",
   "execution_count": 92,
   "id": "e7f0bcab-a686-42c6-8935-7af895f1d15e",
   "metadata": {},
   "outputs": [
    {
     "data": {
      "text/plain": [
       "('a', 'b', 'c', 'kw1', 'kw2', 'kw3', 'args', 'kwargs', 'i', 'j')"
      ]
     },
     "execution_count": 92,
     "metadata": {},
     "output_type": "execute_result"
    }
   ],
   "source": [
    "my_func.__code__.co_varnames"
   ]
  },
  {
   "cell_type": "code",
   "execution_count": 93,
   "id": "f3d0d464-5663-4cb7-b8f0-6f28f7b3ef77",
   "metadata": {},
   "outputs": [
    {
     "data": {
      "text/plain": [
       "False"
      ]
     },
     "execution_count": 93,
     "metadata": {},
     "output_type": "execute_result"
    }
   ],
   "source": [
    "a = 10\n",
    "isfunction(a)"
   ]
  },
  {
   "cell_type": "code",
   "execution_count": 94,
   "id": "06a6be3a-312e-42b8-86a9-692102529508",
   "metadata": {},
   "outputs": [
    {
     "data": {
      "text/plain": [
       "True"
      ]
     },
     "execution_count": 94,
     "metadata": {},
     "output_type": "execute_result"
    }
   ],
   "source": [
    "isfunction(my_func)"
   ]
  },
  {
   "cell_type": "code",
   "execution_count": 97,
   "id": "cfc79a68-4279-4028-8269-f7aa244f2503",
   "metadata": {},
   "outputs": [
    {
     "data": {
      "text/plain": [
       "False"
      ]
     },
     "execution_count": 97,
     "metadata": {},
     "output_type": "execute_result"
    }
   ],
   "source": [
    "ismethod(my_func) #Methods are bound to an object or class"
   ]
  },
  {
   "cell_type": "code",
   "execution_count": 102,
   "id": "287309d3-9e61-4ee5-9c64-fc8cd684b9a2",
   "metadata": {},
   "outputs": [
    {
     "name": "stdout",
     "output_type": "stream",
     "text": [
      "def my_func(a: \"This is a mandatory positional\",\n",
      "            b: \"This is an optional positional\"=1,\n",
      "            c=2,\n",
      "            *args: \"Add extra positional here\",\n",
      "            kw1,\n",
      "            kw2=100,\n",
      "            kw3=200,\n",
      "            **kwargs: \"provide extra kw-only here\") -> \"Does nothing\":\n",
      "    \"\"\"\n",
      "    This function does nothing but does have various parameters\n",
      "    and annotations.\n",
      "    \"\"\"\n",
      "    i = 10\n",
      "    j = 20\n",
      "\n"
     ]
    }
   ],
   "source": [
    "print(inspect.getsource(my_func))"
   ]
  },
  {
   "cell_type": "code",
   "execution_count": 106,
   "id": "a01d93c6-6f20-486d-8844-c466ea6fa91c",
   "metadata": {},
   "outputs": [
    {
     "data": {
      "text/plain": [
       "<Signature (a: 'This is a mandatory positional', b: 'This is an optional positional' = 1, c=2, *args: 'Add extra positional here', kw1, kw2=100, kw3=200, **kwargs: 'provide extra kw-only here') -> 'Does nothing'>"
      ]
     },
     "execution_count": 106,
     "metadata": {},
     "output_type": "execute_result"
    }
   ],
   "source": [
    "inspect.signature(my_func)"
   ]
  },
  {
   "cell_type": "code",
   "execution_count": 107,
   "id": "c1d2e863-bba9-4961-b78f-d3ac173e455e",
   "metadata": {},
   "outputs": [
    {
     "data": {
      "text/plain": [
       "['__class__',\n",
       " '__delattr__',\n",
       " '__dir__',\n",
       " '__doc__',\n",
       " '__eq__',\n",
       " '__format__',\n",
       " '__ge__',\n",
       " '__getattribute__',\n",
       " '__getstate__',\n",
       " '__gt__',\n",
       " '__hash__',\n",
       " '__init__',\n",
       " '__init_subclass__',\n",
       " '__le__',\n",
       " '__lt__',\n",
       " '__module__',\n",
       " '__ne__',\n",
       " '__new__',\n",
       " '__reduce__',\n",
       " '__reduce_ex__',\n",
       " '__repr__',\n",
       " '__setattr__',\n",
       " '__setstate__',\n",
       " '__sizeof__',\n",
       " '__slots__',\n",
       " '__str__',\n",
       " '__subclasshook__',\n",
       " '_bind',\n",
       " '_bound_arguments_cls',\n",
       " '_hash_basis',\n",
       " '_parameter_cls',\n",
       " '_parameters',\n",
       " '_return_annotation',\n",
       " 'bind',\n",
       " 'bind_partial',\n",
       " 'empty',\n",
       " 'from_callable',\n",
       " 'parameters',\n",
       " 'replace',\n",
       " 'return_annotation']"
      ]
     },
     "execution_count": 107,
     "metadata": {},
     "output_type": "execute_result"
    }
   ],
   "source": [
    "dir(inspect.signature(my_func))"
   ]
  },
  {
   "cell_type": "code",
   "execution_count": 112,
   "id": "41deb78c-682f-4425-93f8-537434b8602e",
   "metadata": {},
   "outputs": [
    {
     "data": {
      "text/plain": [
       "{'a': 'This is a mandatory positional',\n",
       " 'b': 'This is an optional positional',\n",
       " 'args': 'Add extra positional here',\n",
       " 'kwargs': 'provide extra kw-only here',\n",
       " 'return': 'Does nothing'}"
      ]
     },
     "execution_count": 112,
     "metadata": {},
     "output_type": "execute_result"
    }
   ],
   "source": [
    "my_func.__annotations__"
   ]
  },
  {
   "cell_type": "code",
   "execution_count": 113,
   "id": "c892efe0-f9cc-4a28-92e5-06e4e455ae60",
   "metadata": {},
   "outputs": [
    {
     "data": {
      "text/plain": [
       "'Does nothing'"
      ]
     },
     "execution_count": 113,
     "metadata": {},
     "output_type": "execute_result"
    }
   ],
   "source": [
    "inspect.signature(my_func).return_annotation"
   ]
  },
  {
   "cell_type": "code",
   "execution_count": 114,
   "id": "cbf9b074-2a07-485d-9b5e-da26b5a7c8b0",
   "metadata": {},
   "outputs": [],
   "source": [
    "sig = inspect.signature(my_func)"
   ]
  },
  {
   "cell_type": "code",
   "execution_count": 115,
   "id": "1fd647b3-df31-41ab-a665-47cc7952d360",
   "metadata": {},
   "outputs": [
    {
     "data": {
      "text/plain": [
       "<Signature (a: 'This is a mandatory positional', b: 'This is an optional positional' = 1, c=2, *args: 'Add extra positional here', kw1, kw2=100, kw3=200, **kwargs: 'provide extra kw-only here') -> 'Does nothing'>"
      ]
     },
     "execution_count": 115,
     "metadata": {},
     "output_type": "execute_result"
    }
   ],
   "source": [
    "sig"
   ]
  },
  {
   "cell_type": "code",
   "execution_count": 116,
   "id": "a06be409-3cc8-4c07-a560-dc70010124d9",
   "metadata": {},
   "outputs": [
    {
     "data": {
      "text/plain": [
       "mappingproxy({'a': <Parameter \"a: 'This is a mandatory positional'\">,\n",
       "              'b': <Parameter \"b: 'This is an optional positional' = 1\">,\n",
       "              'c': <Parameter \"c=2\">,\n",
       "              'args': <Parameter \"*args: 'Add extra positional here'\">,\n",
       "              'kw1': <Parameter \"kw1\">,\n",
       "              'kw2': <Parameter \"kw2=100\">,\n",
       "              'kw3': <Parameter \"kw3=200\">,\n",
       "              'kwargs': <Parameter \"**kwargs: 'provide extra kw-only here'\">})"
      ]
     },
     "execution_count": 116,
     "metadata": {},
     "output_type": "execute_result"
    }
   ],
   "source": [
    "sig.parameters"
   ]
  },
  {
   "cell_type": "code",
   "execution_count": 134,
   "id": "649e8579-7ed4-46c3-83cb-f4082f58bb9b",
   "metadata": {},
   "outputs": [
    {
     "name": "stdout",
     "output_type": "stream",
     "text": [
      "Name:  a\n",
      "Default:  <class 'inspect._empty'>\n",
      "Annotation:  This is a mandatory positional\n",
      "Kind:  POSITIONAL_OR_KEYWORD\n",
      "\n",
      "-------------------------------------------\n",
      "Name:  b\n",
      "Default:  1\n",
      "Annotation:  This is an optional positional\n",
      "Kind:  POSITIONAL_OR_KEYWORD\n",
      "\n",
      "-------------------------------------------\n",
      "Name:  c\n",
      "Default:  2\n",
      "Annotation:  <class 'inspect._empty'>\n",
      "Kind:  POSITIONAL_OR_KEYWORD\n",
      "\n",
      "-------------------------------------------\n",
      "Name:  args\n",
      "Default:  <class 'inspect._empty'>\n",
      "Annotation:  Add extra positional here\n",
      "Kind:  VAR_POSITIONAL\n",
      "\n",
      "-------------------------------------------\n",
      "Name:  kw1\n",
      "Default:  <class 'inspect._empty'>\n",
      "Annotation:  <class 'inspect._empty'>\n",
      "Kind:  KEYWORD_ONLY\n",
      "\n",
      "-------------------------------------------\n",
      "Name:  kw2\n",
      "Default:  100\n",
      "Annotation:  <class 'inspect._empty'>\n",
      "Kind:  KEYWORD_ONLY\n",
      "\n",
      "-------------------------------------------\n",
      "Name:  kw3\n",
      "Default:  200\n",
      "Annotation:  <class 'inspect._empty'>\n",
      "Kind:  KEYWORD_ONLY\n",
      "\n",
      "-------------------------------------------\n",
      "Name:  kwargs\n",
      "Default:  <class 'inspect._empty'>\n",
      "Annotation:  provide extra kw-only here\n",
      "Kind:  VAR_KEYWORD\n",
      "\n",
      "-------------------------------------------\n"
     ]
    }
   ],
   "source": [
    "for param in sig.parameters.values():\n",
    "    print(\"Name: \", param.name)\n",
    "    print(\"Default: \", param.default)\n",
    "    print(\"Annotation: \", param.annotation)\n",
    "    print(\"Kind: \", param.kind)\n",
    "    print(\"\\n-------------------------------------------\")"
   ]
  },
  {
   "cell_type": "code",
   "execution_count": null,
   "id": "fc8d63f2-eb2a-498c-8621-48aeff82588b",
   "metadata": {},
   "outputs": [],
   "source": []
  }
 ],
 "metadata": {
  "kernelspec": {
   "display_name": "Python 3 (ipykernel)",
   "language": "python",
   "name": "python3"
  },
  "language_info": {
   "codemirror_mode": {
    "name": "ipython",
    "version": 3
   },
   "file_extension": ".py",
   "mimetype": "text/x-python",
   "name": "python",
   "nbconvert_exporter": "python",
   "pygments_lexer": "ipython3",
   "version": "3.12.2"
  }
 },
 "nbformat": 4,
 "nbformat_minor": 5
}
