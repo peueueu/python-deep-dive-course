{
 "cells": [
  {
   "cell_type": "markdown",
   "id": "002c3c1c-0d33-4302-a72f-54769e8b3fd2",
   "metadata": {},
   "source": [
    "# Lambda Expressions\n",
    "\n",
    "Just another way to create functions ( Anonymous functions )\n",
    "\n",
    "```python\n",
    "    lambda [parameters_list]: expression # Returns a function object, it can be assigned to a variable and also be passed as an argument to another function\n",
    "```"
   ]
  },
  {
   "cell_type": "code",
   "execution_count": 9,
   "id": "317b2123-a25a-4e29-8c06-c8fe386b444e",
   "metadata": {},
   "outputs": [
    {
     "data": {
      "text/plain": [
       "<function __main__.<lambda>(x)>"
      ]
     },
     "execution_count": 9,
     "metadata": {},
     "output_type": "execute_result"
    }
   ],
   "source": [
    "lambda x: x**2 # Can't assign values to the lambda, also can't have annotations"
   ]
  },
  {
   "cell_type": "code",
   "execution_count": 10,
   "id": "4abd8e41-bf71-4f59-8482-1c256417c21d",
   "metadata": {},
   "outputs": [],
   "source": [
    "square = lambda x: x**2"
   ]
  },
  {
   "cell_type": "code",
   "execution_count": 11,
   "id": "2f822b99-9559-4f21-8abd-c894b80d6d6e",
   "metadata": {},
   "outputs": [
    {
     "data": {
      "text/plain": [
       "16"
      ]
     },
     "execution_count": 11,
     "metadata": {},
     "output_type": "execute_result"
    }
   ],
   "source": [
    "square(4)"
   ]
  },
  {
   "cell_type": "code",
   "execution_count": 12,
   "id": "746ad294-751c-4433-a707-4764d17007ff",
   "metadata": {},
   "outputs": [
    {
     "data": {
      "text/plain": [
       "<function __main__.<lambda>(x)>"
      ]
     },
     "execution_count": 12,
     "metadata": {},
     "output_type": "execute_result"
    }
   ],
   "source": [
    "square"
   ]
  },
  {
   "cell_type": "code",
   "execution_count": 19,
   "id": "e9222c85-e568-4565-bc2e-f2092605fcfa",
   "metadata": {},
   "outputs": [],
   "source": [
    "f = lambda x, y: x+y"
   ]
  },
  {
   "cell_type": "code",
   "execution_count": 20,
   "id": "b52a41dc-81b0-4b5f-9af8-5934c13672a3",
   "metadata": {},
   "outputs": [],
   "source": [
    "g = lambda x, y=10: x*y"
   ]
  },
  {
   "cell_type": "code",
   "execution_count": 32,
   "id": "1da4de11-b2c1-4136-84ad-a0c46b9b4dbe",
   "metadata": {},
   "outputs": [],
   "source": [
    "f = lambda x, *args, y, **kwargs: (x, args, y, kwargs)"
   ]
  },
  {
   "cell_type": "code",
   "execution_count": 33,
   "id": "d73b7970-cb51-4e2f-bda4-fab36d0e86bd",
   "metadata": {},
   "outputs": [
    {
     "data": {
      "text/plain": [
       "(10,\n",
       " (42, 634, 23, 1251, 5325, 23),\n",
       " 'Hello',\n",
       " {'name': 'John Doe', 'age': '88', 'job_desc': 'An invisible worker'})"
      ]
     },
     "execution_count": 33,
     "metadata": {},
     "output_type": "execute_result"
    }
   ],
   "source": [
    "f(10, 42, 634, 23, 1251, 5325, 23, y = \"Hello\", name=\"John Doe\", age=\"88\", job_desc=\"An invisible worker\") "
   ]
  },
  {
   "cell_type": "code",
   "execution_count": 34,
   "id": "b51e8e93-03f4-4043-9c0c-cf9ed742cfc4",
   "metadata": {},
   "outputs": [],
   "source": [
    "def apply_func(x, fn):\n",
    "    return fn(x)"
   ]
  },
  {
   "cell_type": "code",
   "execution_count": 35,
   "id": "0655a52a-7ad8-4883-9e24-f93b609dba09",
   "metadata": {},
   "outputs": [
    {
     "data": {
      "text/plain": [
       "100"
      ]
     },
     "execution_count": 35,
     "metadata": {},
     "output_type": "execute_result"
    }
   ],
   "source": [
    "apply_func(10, square)"
   ]
  },
  {
   "cell_type": "code",
   "execution_count": 37,
   "id": "c6227540-68f1-4711-be7b-572c5bef4d59",
   "metadata": {},
   "outputs": [
    {
     "data": {
      "text/plain": [
       "25"
      ]
     },
     "execution_count": 37,
     "metadata": {},
     "output_type": "execute_result"
    }
   ],
   "source": [
    "apply_func(5, lambda x: x**2)"
   ]
  },
  {
   "cell_type": "code",
   "execution_count": 38,
   "id": "5a8394f0-671a-4ee0-a390-29a1a035b5d0",
   "metadata": {},
   "outputs": [],
   "source": [
    "def apply_func(fn, *args, **kwargs):\n",
    "    return fn(*args, **kwargs)"
   ]
  },
  {
   "cell_type": "code",
   "execution_count": 39,
   "id": "699422c2-e4d7-4fc8-8e98-5ddcfe60101b",
   "metadata": {},
   "outputs": [
    {
     "data": {
      "text/plain": [
       "9"
      ]
     },
     "execution_count": 39,
     "metadata": {},
     "output_type": "execute_result"
    }
   ],
   "source": [
    "apply_func(square, 3)"
   ]
  },
  {
   "cell_type": "code",
   "execution_count": 40,
   "id": "1a79f8c2-160c-415a-9de0-f54299406543",
   "metadata": {},
   "outputs": [
    {
     "data": {
      "text/plain": [
       "9"
      ]
     },
     "execution_count": 40,
     "metadata": {},
     "output_type": "execute_result"
    }
   ],
   "source": [
    "apply_func(lambda x: x**2, 3)"
   ]
  },
  {
   "cell_type": "code",
   "execution_count": 43,
   "id": "c4878539-46c8-4087-b452-77d2755406b6",
   "metadata": {},
   "outputs": [
    {
     "data": {
      "text/plain": [
       "3"
      ]
     },
     "execution_count": 43,
     "metadata": {},
     "output_type": "execute_result"
    }
   ],
   "source": [
    "apply_func(lambda x,y: x+y, 1, 2)"
   ]
  },
  {
   "cell_type": "code",
   "execution_count": 44,
   "id": "32f94dfb-3ede-46da-a25b-33260cca7634",
   "metadata": {},
   "outputs": [
    {
     "data": {
      "text/plain": [
       "21"
      ]
     },
     "execution_count": 44,
     "metadata": {},
     "output_type": "execute_result"
    }
   ],
   "source": [
    "apply_func(lambda x, *, y: x+y, 1, y=20)"
   ]
  },
  {
   "cell_type": "code",
   "execution_count": 45,
   "id": "a1fa94dc-65a0-4e78-878b-921fb77b2d1e",
   "metadata": {},
   "outputs": [
    {
     "data": {
      "text/plain": [
       "103"
      ]
     },
     "execution_count": 45,
     "metadata": {},
     "output_type": "execute_result"
    }
   ],
   "source": [
    "apply_func(lambda *args: sum(args), 23, 3, 14, 13, 5, 16, 29)"
   ]
  },
  {
   "cell_type": "code",
   "execution_count": 47,
   "id": "252389c2-447b-4710-98f8-6cfc153d76af",
   "metadata": {},
   "outputs": [
    {
     "data": {
      "text/plain": [
       "15"
      ]
     },
     "execution_count": 47,
     "metadata": {},
     "output_type": "execute_result"
    }
   ],
   "source": [
    "apply_func(sum, (1, 2, 3, 4, 5))"
   ]
  },
  {
   "cell_type": "markdown",
   "id": "fed67b7b-d21e-4aa5-926d-1ab3bb63b29e",
   "metadata": {},
   "source": [
    "### Lambdas and Sorting"
   ]
  },
  {
   "cell_type": "code",
   "execution_count": 50,
   "id": "46d8d76a-d801-4dbf-88cf-caf9b3ebe8ee",
   "metadata": {},
   "outputs": [
    {
     "data": {
      "text/plain": [
       "[1, 4, 5, 6, 9, 10]"
      ]
     },
     "execution_count": 50,
     "metadata": {},
     "output_type": "execute_result"
    }
   ],
   "source": [
    "l = [1, 5, 4, 10, 9, 6]\n",
    "sorted(l) # It's going to return a new list sorted, the l variable will remain the same."
   ]
  },
  {
   "cell_type": "code",
   "execution_count": 51,
   "id": "42b164dc-969a-4e90-8b95-7216f6e10d4b",
   "metadata": {},
   "outputs": [],
   "source": [
    "l = ['c', 'B', 'D', 'a']"
   ]
  },
  {
   "cell_type": "code",
   "execution_count": 68,
   "id": "485c27b7-055f-4f50-a48a-e84dd51b0892",
   "metadata": {},
   "outputs": [
    {
     "data": {
      "text/plain": [
       "['a', 'B', 'c', 'D']"
      ]
     },
     "execution_count": 68,
     "metadata": {},
     "output_type": "execute_result"
    }
   ],
   "source": [
    "sorted(l, key=lambda char: char.lower())"
   ]
  },
  {
   "cell_type": "code",
   "execution_count": 69,
   "id": "10b9c868-a432-4b74-a59f-23ebd354ea23",
   "metadata": {},
   "outputs": [],
   "source": [
    "d = {'def': 300, 'abc': 200, 'ghi': 100}"
   ]
  },
  {
   "cell_type": "code",
   "execution_count": 70,
   "id": "71996f1a-e8ed-4b50-b2b8-8b889e1ede57",
   "metadata": {},
   "outputs": [
    {
     "data": {
      "text/plain": [
       "['abc', 'def', 'ghi']"
      ]
     },
     "execution_count": 70,
     "metadata": {},
     "output_type": "execute_result"
    }
   ],
   "source": [
    "sorted(d)"
   ]
  },
  {
   "cell_type": "code",
   "execution_count": 74,
   "id": "b72e14b9-90c5-49de-bf4c-0a11461ef693",
   "metadata": {},
   "outputs": [
    {
     "data": {
      "text/plain": [
       "['ghi', 'abc', 'def']"
      ]
     },
     "execution_count": 74,
     "metadata": {},
     "output_type": "execute_result"
    }
   ],
   "source": [
    "sorted(d, key=lambda group: d[group])"
   ]
  },
  {
   "cell_type": "code",
   "execution_count": 79,
   "id": "11015aba-4f4d-4cbd-a601-f756ca46b9d7",
   "metadata": {},
   "outputs": [],
   "source": [
    "l = [3+3j, 1-1j, 0, 3+0j]"
   ]
  },
  {
   "cell_type": "code",
   "execution_count": 80,
   "id": "8d09afcb-5d31-420e-b09f-96a7e0fae405",
   "metadata": {},
   "outputs": [
    {
     "data": {
      "text/plain": [
       "[0, (1-1j), (3+0j), (3+3j)]"
      ]
     },
     "execution_count": 80,
     "metadata": {},
     "output_type": "execute_result"
    }
   ],
   "source": [
    "sorted(l, key=lambda x: (x.real)**2 + (x.imag)**2)"
   ]
  },
  {
   "cell_type": "code",
   "execution_count": 81,
   "id": "0f6b6e69-4a29-4293-9723-d7524986c5f6",
   "metadata": {},
   "outputs": [],
   "source": [
    "l = ['Cleese', 'Idle', 'Palin', 'Chapman', 'Gilliam', 'Jones']"
   ]
  },
  {
   "cell_type": "code",
   "execution_count": 82,
   "id": "cd91983d-3706-45df-b47d-f1b99f427154",
   "metadata": {},
   "outputs": [
    {
     "data": {
      "text/plain": [
       "['Chapman', 'Cleese', 'Gilliam', 'Idle', 'Jones', 'Palin']"
      ]
     },
     "execution_count": 82,
     "metadata": {},
     "output_type": "execute_result"
    }
   ],
   "source": [
    "sorted(l)"
   ]
  },
  {
   "cell_type": "code",
   "execution_count": 88,
   "id": "92e45e85-0076-49e8-a4bc-27b70ae20098",
   "metadata": {},
   "outputs": [
    {
     "data": {
      "text/plain": [
       "['Cleese', 'Idle', 'Gilliam', 'Palin', 'Chapman', 'Jones']"
      ]
     },
     "execution_count": 88,
     "metadata": {},
     "output_type": "execute_result"
    }
   ],
   "source": [
    "sorted(l, key=lambda s: s[-1])"
   ]
  },
  {
   "cell_type": "code",
   "execution_count": 89,
   "id": "77b648f5-6c8d-4347-a22b-434cbed19064",
   "metadata": {},
   "outputs": [
    {
     "data": {
      "text/plain": [
       "'Clees'"
      ]
     },
     "execution_count": 89,
     "metadata": {},
     "output_type": "execute_result"
    }
   ],
   "source": [
    "'Cleese'[:-1]"
   ]
  },
  {
   "cell_type": "code",
   "execution_count": 97,
   "id": "816fe999-21ef-486e-8fd6-201bf5198495",
   "metadata": {},
   "outputs": [
    {
     "data": {
      "text/plain": [
       "[5, 4, 1, 3, 6, 2, 10, 7, 9, 8]"
      ]
     },
     "execution_count": 97,
     "metadata": {},
     "output_type": "execute_result"
    }
   ],
   "source": [
    "### Challenge: Randomizing an Iterable using sorted\n",
    "\n",
    "from random import random as rd\n",
    "\n",
    "l = [1, 2, 3, 4, 5, 6, 7, 8, 9, 10]\n",
    "sorted(l, key=lambda x: random.random())"
   ]
  }
 ],
 "metadata": {
  "kernelspec": {
   "display_name": "Python 3 (ipykernel)",
   "language": "python",
   "name": "python3"
  },
  "language_info": {
   "codemirror_mode": {
    "name": "ipython",
    "version": 3
   },
   "file_extension": ".py",
   "mimetype": "text/x-python",
   "name": "python",
   "nbconvert_exporter": "python",
   "pygments_lexer": "ipython3",
   "version": "3.12.2"
  }
 },
 "nbformat": 4,
 "nbformat_minor": 5
}
