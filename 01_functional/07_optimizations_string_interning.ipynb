{
 "cells": [
  {
   "cell_type": "markdown",
   "id": "5d69562d-8346-495e-a472-655b0a7cf6bc",
   "metadata": {},
   "source": [
    "### STRING INTERNING\n",
    "\n",
    "Some strings are also automatically interned:\n",
    "* Identifiers\n",
    "  * variable names\n",
    "  * function names\n",
    "  * class names\n",
    "  * etc."
   ]
  },
  {
   "cell_type": "code",
   "execution_count": 1,
   "id": "1f6ae3d1-4ebd-4307-817b-22e26dce1610",
   "metadata": {},
   "outputs": [],
   "source": [
    "a = \"some_long_string\"\n",
    "b = \"some_long_string\""
   ]
  },
  {
   "cell_type": "code",
   "execution_count": 3,
   "id": "9ce71b84-6591-49bb-91c7-ce12099a5cd6",
   "metadata": {},
   "outputs": [
    {
     "data": {
      "text/plain": [
       "True"
      ]
     },
     "execution_count": 3,
     "metadata": {},
     "output_type": "execute_result"
    }
   ],
   "source": [
    "a == b # Using the __eq__ operator requires to compare the two string objects character by character"
   ]
  },
  {
   "cell_type": "markdown",
   "id": "ecff9eed-f19d-4720-b103-b2902337b14c",
   "metadata": {},
   "source": [
    "### About interning\n",
    "If we know that the values are interned, then we can assure that a and b (in this example) are indeed the same string\n",
    "if they both point to the same memory address. In which case we can use the a is b instead - which compares two integers (representation of the memory address). As this comparison is much faster than a char by char comparison.\n",
    "\n",
    "*Not all strings are auto interned by Python, it will try to intern strings that looks like identifiers*\n",
    "*This process is not needed in most cases*\n",
    "\n",
    "But we can force strings to be interned by using the sys.intern() method.\n",
    "\n",
    "```python\n",
    "import sys\n",
    "\n",
    "a = sys.intern('the quick brown fox')\n",
    "b = sys.intern('the quick brown fox')\n",
    "```\n",
    "\n",
    "Examples of usage:\n",
    "* Dealing with a large number of strings that could have hight repetition, for example, tokenizing a large corpus of text (NLP)\n",
    "* Lots of string comparisons"
   ]
  },
  {
   "cell_type": "code",
   "execution_count": 9,
   "id": "84d44792-ac6e-4f3d-a378-61f36a12643e",
   "metadata": {},
   "outputs": [],
   "source": [
    "a = 'hello world'\n",
    "b = 'hello world'"
   ]
  },
  {
   "cell_type": "code",
   "execution_count": 12,
   "id": "88954655-b417-4c0c-ae1f-11816ff613d0",
   "metadata": {},
   "outputs": [],
   "source": [
    "import sys"
   ]
  },
  {
   "cell_type": "code",
   "execution_count": 13,
   "id": "1f7eb16e-876d-47a7-8a8b-7198a826386a",
   "metadata": {},
   "outputs": [],
   "source": [
    "a = sys.intern('hello world')"
   ]
  },
  {
   "cell_type": "code",
   "execution_count": 14,
   "id": "4fb0c32e-4dee-4111-abc4-2738319f463e",
   "metadata": {},
   "outputs": [],
   "source": [
    "b = sys.intern('hello world')"
   ]
  },
  {
   "cell_type": "code",
   "execution_count": 15,
   "id": "0ca6462e-5da4-4d54-8582-894e1e5def4d",
   "metadata": {},
   "outputs": [],
   "source": [
    "c = 'hello world'"
   ]
  },
  {
   "cell_type": "code",
   "execution_count": 16,
   "id": "fb42489f-ab10-461c-9de3-862f449e640e",
   "metadata": {},
   "outputs": [
    {
     "name": "stdout",
     "output_type": "stream",
     "text": [
      "4443886704 4443886704 4443894384\n"
     ]
    }
   ],
   "source": [
    "print(id(a), id(b), id(c))"
   ]
  },
  {
   "cell_type": "code",
   "execution_count": 21,
   "id": "7319548c-6ec4-4930-9c2a-35a60e71830c",
   "metadata": {},
   "outputs": [],
   "source": [
    "def compare_using_equals(n):\n",
    "    a = 'a long string that is not interned' * 200\n",
    "    b = 'a long string that is not interned' * 200\n",
    "    for i in range(n):\n",
    "        if a == b:\n",
    "            pass"
   ]
  },
  {
   "cell_type": "code",
   "execution_count": 22,
   "id": "00ce95ac-9cf3-4001-b8bc-5c0a91908197",
   "metadata": {},
   "outputs": [],
   "source": [
    "def compare_using_interning(n):\n",
    "    a = sys.intern('a long string that is not interned' * 200)\n",
    "    b = sys.intern('a long string that is not interned' * 200)\n",
    "    for i in range(n):\n",
    "        if a is b:\n",
    "            pass"
   ]
  },
  {
   "cell_type": "code",
   "execution_count": 23,
   "id": "7400ff53-468f-4c54-bdbe-97570ec683bd",
   "metadata": {},
   "outputs": [],
   "source": [
    "import time"
   ]
  },
  {
   "cell_type": "code",
   "execution_count": 24,
   "id": "7a5ca4a5-017f-4e08-a500-de1f559c71e2",
   "metadata": {},
   "outputs": [
    {
     "name": "stdout",
     "output_type": "stream",
     "text": [
      "compare_using_equals() - Took 3.047971916035749ms\n"
     ]
    }
   ],
   "source": [
    "start = time.perf_counter()\n",
    "compare_using_equals(10000000)\n",
    "end = time.perf_counter()\n",
    "print(f\"compare_using_equals() - Took {end - start}ms\")"
   ]
  },
  {
   "cell_type": "code",
   "execution_count": 25,
   "id": "474e4cd2-1586-4155-9d3d-e932621ac982",
   "metadata": {},
   "outputs": [
    {
     "name": "stdout",
     "output_type": "stream",
     "text": [
      "compare_using_interning() - Took 0.3341918099904433ms\n"
     ]
    }
   ],
   "source": [
    "start = time.perf_counter()\n",
    "compare_using_interning(10000000)\n",
    "end = time.perf_counter()\n",
    "print(f\"compare_using_interning() - Took {end - start}ms\")"
   ]
  }
 ],
 "metadata": {
  "kernelspec": {
   "display_name": "Python 3 (ipykernel)",
   "language": "python",
   "name": "python3"
  },
  "language_info": {
   "codemirror_mode": {
    "name": "ipython",
    "version": 3
   },
   "file_extension": ".py",
   "mimetype": "text/x-python",
   "name": "python",
   "nbconvert_exporter": "python",
   "pygments_lexer": "ipython3",
   "version": "3.12.2"
  }
 },
 "nbformat": 4,
 "nbformat_minor": 5
}
