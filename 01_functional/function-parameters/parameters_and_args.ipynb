{
 "cells": [
  {
   "cell_type": "code",
   "execution_count": 1,
   "id": "4699937f-8951-416b-948b-ac0506ed05c8",
   "metadata": {},
   "outputs": [],
   "source": [
    "#Module Scope\n",
    "x = 10\n",
    "y = 'a'"
   ]
  },
  {
   "cell_type": "code",
   "execution_count": 3,
   "id": "6f91a872-5ee6-4b06-8df5-27b91633a399",
   "metadata": {},
   "outputs": [],
   "source": [
    "def my_func(a, b):\n",
    "    pass"
   ]
  },
  {
   "cell_type": "code",
   "execution_count": 8,
   "id": "69bca3e9-7f02-4b53-b5ea-9e3fbe2b2e55",
   "metadata": {},
   "outputs": [],
   "source": [
    "# Func receives the reference of those variables ( Memory Addresses)\n",
    "# In this case the variables \"a\" and \"b\" are in the function scope\n",
    "# But they are pointing to the same memory address of x and y as they were passed to the function"
   ]
  },
  {
   "cell_type": "code",
   "execution_count": 5,
   "id": "c22210b9-0dde-4181-890a-18775883e0a6",
   "metadata": {},
   "outputs": [],
   "source": [
    "my_func(x, y)"
   ]
  },
  {
   "cell_type": "markdown",
   "id": "f877f604-c207-487e-becb-5cbf12978b35",
   "metadata": {},
   "source": [
    "### Positional Arguments\n",
    "\n",
    "Most common way of assigning arguments to parameters: via the order in which they are passed i.e their position.\n",
    "\n",
    "```python\n",
    "def my_func(a, b):\n",
    "    pass\n",
    "my_func(10, 20) # a = 10, b = 20\n",
    "```\n",
    "\n",
    "### Default Values\n",
    "\n",
    "```python\n",
    "def my_func(a, b=100):\n",
    "    pass\n",
    "my_func(10, 20) # a = 10, b = 20\n",
    "my_func(5) # Then python will see that there's no 2nd argument and will use the default value, so b = 100.\n",
    "```"
   ]
  }
 ],
 "metadata": {
  "kernelspec": {
   "display_name": "Python 3 (ipykernel)",
   "language": "python",
   "name": "python3"
  },
  "language_info": {
   "codemirror_mode": {
    "name": "ipython",
    "version": 3
   },
   "file_extension": ".py",
   "mimetype": "text/x-python",
   "name": "python",
   "nbconvert_exporter": "python",
   "pygments_lexer": "ipython3",
   "version": "3.12.2"
  }
 },
 "nbformat": 4,
 "nbformat_minor": 5
}
