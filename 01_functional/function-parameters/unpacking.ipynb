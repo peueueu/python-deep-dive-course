{
 "cells": [
  {
   "cell_type": "markdown",
   "id": "0555b7ad-e51b-4bdf-8e09-01f1432db63e",
   "metadata": {},
   "source": [
    "### Simple Application of Unpacking\n",
    "\n",
    "Swapping values of two variabels `a = 10`and `b = 20` -> `a = 20` and `b = 10`\n",
    "\n",
    "\"Traditional\" approach\n",
    "\n",
    "```python\n",
    "tmp = a # Store a reference in memory\n",
    "a = b # Make a point to b address in memory\n",
    "b = tmp # Pick the stored a memory address\n",
    "```\n",
    "\n",
    "### Using Unpacking\n",
    "\n",
    "```python\n",
    "a, b = b, a # Python evaluates the rhs as a tuple the where the b is the reference of where b is pointing to\n",
    "            # and a is the reference where a is pointing to, after this he does the assignments.\n",
    "```\n",
    "\n",
    "_This works because in Python, the entire right hand side is evaluated first and completely\n",
    "then assignments are made to the left hand side._\n",
    "\n",
    "### Unpacking Sets and Dictionaries\n",
    "\n",
    "```python\n",
    "d = {'key1': 1, 'key2': 1, 'key3': 1}\n",
    "\n",
    "for e in d: # this iterates through the keys: 'key1', 'key2', 'key3', so when unpacking d, we are actually unpacking it's keys.\n",
    "    pass\n",
    "```"
   ]
  },
  {
   "cell_type": "code",
   "execution_count": 11,
   "id": "697cf060-cc83-4125-9414-2cf60e94a81d",
   "metadata": {},
   "outputs": [],
   "source": [
    "d = {'key1': 1, 'key2': 1, 'key3': 1} # Unordered Type\n",
    "a, b, c = d # DON'T follow this approach"
   ]
  },
  {
   "cell_type": "code",
   "execution_count": 16,
   "id": "03678823-0014-433d-9e3a-3df10adbdb7d",
   "metadata": {},
   "outputs": [],
   "source": [
    "s = {'p', 'y', 't', 'h', 'o', 'n'}"
   ]
  },
  {
   "cell_type": "code",
   "execution_count": 19,
   "id": "af653ce1-2f2d-4d69-b31a-b7155851af10",
   "metadata": {},
   "outputs": [
    {
     "name": "stdout",
     "output_type": "stream",
     "text": [
      "h\n",
      "o\n",
      "y\n",
      "n\n",
      "t\n",
      "p\n"
     ]
    }
   ],
   "source": [
    "for c in s:\n",
    "    print(c)"
   ]
  },
  {
   "cell_type": "code",
   "execution_count": 20,
   "id": "406f8fe0-69f8-4583-b959-b60b50080c61",
   "metadata": {},
   "outputs": [],
   "source": [
    "# Also this syntax can be applied:"
   ]
  },
  {
   "cell_type": "code",
   "execution_count": 28,
   "id": "2ccad29b-1198-41e9-b488-6f6e8e7189a7",
   "metadata": {},
   "outputs": [],
   "source": [
    "l = [1, 2, 3, 4, 5, 6]\n",
    "\n",
    "# Using slicing\n",
    "# a = l[0]\n",
    "# b = l[1:]\n",
    "\n",
    "# Using unpacking\n",
    "# a, b = l[0], l[1:]\n",
    "\n",
    "# Also, we can use the * operator\n",
    "a, *b = l # The outcome of the unpacking in this way is a list."
   ]
  },
  {
   "cell_type": "code",
   "execution_count": 29,
   "id": "c73a6c07-b9fa-4d35-b45b-934f833eac89",
   "metadata": {},
   "outputs": [
    {
     "data": {
      "text/plain": [
       "1"
      ]
     },
     "execution_count": 29,
     "metadata": {},
     "output_type": "execute_result"
    }
   ],
   "source": [
    "a"
   ]
  },
  {
   "cell_type": "code",
   "execution_count": 30,
   "id": "7c437633-9580-486a-8ff9-8189019599dd",
   "metadata": {},
   "outputs": [
    {
     "data": {
      "text/plain": [
       "[2, 3, 4, 5, 6]"
      ]
     },
     "execution_count": 30,
     "metadata": {},
     "output_type": "execute_result"
    }
   ],
   "source": [
    "b"
   ]
  },
  {
   "cell_type": "code",
   "execution_count": 31,
   "id": "f00b8dfa-fa05-46a3-8d12-c54217d9e21d",
   "metadata": {},
   "outputs": [],
   "source": [
    "# We can also use the * operator at rhs\n",
    "\n",
    "l1 = [1, 2, 3]\n",
    "l2 = [4, 5, 6]\n",
    "\n",
    "l = [*l1, *l2]"
   ]
  },
  {
   "cell_type": "code",
   "execution_count": 32,
   "id": "15ffc7b0-3834-4003-be2a-75ef5a26ed75",
   "metadata": {},
   "outputs": [
    {
     "data": {
      "text/plain": [
       "[1, 2, 3, 4, 5, 6]"
      ]
     },
     "execution_count": 32,
     "metadata": {},
     "output_type": "execute_result"
    }
   ],
   "source": [
    "l"
   ]
  },
  {
   "cell_type": "code",
   "execution_count": 33,
   "id": "3593600e-217b-4734-a704-48bd2296869e",
   "metadata": {},
   "outputs": [],
   "source": [
    "s = {10, -99, 3, 'd'}"
   ]
  },
  {
   "cell_type": "code",
   "execution_count": 34,
   "id": "ad74358b-c017-4671-9b91-bc2e2e6f1ef6",
   "metadata": {},
   "outputs": [
    {
     "data": {
      "text/plain": [
       "{-99, 10, 3, 'd'}"
      ]
     },
     "execution_count": 34,
     "metadata": {},
     "output_type": "execute_result"
    }
   ],
   "source": [
    "s"
   ]
  },
  {
   "cell_type": "code",
   "execution_count": 36,
   "id": "462476b6-6e5f-4f0e-b0f3-a6d10c1678b9",
   "metadata": {},
   "outputs": [],
   "source": [
    "d1 = {'p': 1, 'y': 2}\n",
    "d2 = {'t': 3, 'h': 4}\n",
    "d3 = {'h': 5, 'o': 6, 'n': 7}"
   ]
  },
  {
   "cell_type": "code",
   "execution_count": 37,
   "id": "5482f092-b8e5-4c0e-bf8c-9118648fe31e",
   "metadata": {},
   "outputs": [],
   "source": [
    "l = [*d1, *d2, *d3]"
   ]
  },
  {
   "cell_type": "code",
   "execution_count": 38,
   "id": "546fc794-0fa0-4622-9c8b-d49ff90fdc64",
   "metadata": {},
   "outputs": [
    {
     "data": {
      "text/plain": [
       "['p', 'y', 't', 'h', 'h', 'o', 'n']"
      ]
     },
     "execution_count": 38,
     "metadata": {},
     "output_type": "execute_result"
    }
   ],
   "source": [
    "l"
   ]
  },
  {
   "cell_type": "code",
   "execution_count": 39,
   "id": "ac2ce65d-deca-4cdb-b32e-2f1ad620bf49",
   "metadata": {},
   "outputs": [],
   "source": [
    "s = {*d1, *d2, *d3}"
   ]
  },
  {
   "cell_type": "code",
   "execution_count": 40,
   "id": "eb70ee24-e3ad-497b-a350-51dd1836635c",
   "metadata": {},
   "outputs": [
    {
     "data": {
      "text/plain": [
       "{'h', 'n', 'o', 'p', 't', 'y'}"
      ]
     },
     "execution_count": 40,
     "metadata": {},
     "output_type": "execute_result"
    }
   ],
   "source": [
    "s"
   ]
  },
  {
   "cell_type": "code",
   "execution_count": 45,
   "id": "6065583f-c347-4a8d-ac77-1e9cabdca64e",
   "metadata": {},
   "outputs": [],
   "source": [
    "# the ** operator\n",
    "\n",
    "d = {**d1, **d2, **d3} # Merging dicts, the value of h on the d2,\n",
    "                       # was overwritten by the value on d3"
   ]
  },
  {
   "cell_type": "code",
   "execution_count": 46,
   "id": "2dde5db6-faa3-462b-878e-2265d0fb110a",
   "metadata": {},
   "outputs": [
    {
     "data": {
      "text/plain": [
       "{'p': 1, 'y': 2, 't': 3, 'h': 5, 'o': 6, 'n': 7}"
      ]
     },
     "execution_count": 46,
     "metadata": {},
     "output_type": "execute_result"
    }
   ],
   "source": [
    "d"
   ]
  },
  {
   "cell_type": "code",
   "execution_count": 76,
   "id": "4f4611ec-d58b-491d-9139-9050fd9160c8",
   "metadata": {},
   "outputs": [],
   "source": [
    "# Messing with some slicing\n",
    "\n",
    "my_list = [1, 2, 3, 4, 5, 6, 11, 21412, 4325, 325, 23, 5, 24215, 235, 'faspfomaspofmpasomfmoasfm,.sdpweoasfmaspf']\n",
    "\n",
    "a = my_list[0]\n",
    "b = my_list[1:-1]\n",
    "c = my_list[-1][0]\n",
    "d = list(my_list[-1][2:])"
   ]
  },
  {
   "cell_type": "code",
   "execution_count": 77,
   "id": "b7e100cf-053c-4cf2-9fe0-ea080cd466b6",
   "metadata": {},
   "outputs": [
    {
     "data": {
      "text/plain": [
       "1"
      ]
     },
     "execution_count": 77,
     "metadata": {},
     "output_type": "execute_result"
    }
   ],
   "source": [
    "a"
   ]
  },
  {
   "cell_type": "code",
   "execution_count": 78,
   "id": "964f12b1-7792-4918-b3e8-13dfd8cd13e2",
   "metadata": {},
   "outputs": [
    {
     "data": {
      "text/plain": [
       "[2, 3, 4, 5, 6, 11, 21412, 4325, 325, 23, 5, 24215, 235]"
      ]
     },
     "execution_count": 78,
     "metadata": {},
     "output_type": "execute_result"
    }
   ],
   "source": [
    "b"
   ]
  },
  {
   "cell_type": "code",
   "execution_count": 79,
   "id": "8089958b-c3a8-4e46-b336-a79121277e6d",
   "metadata": {},
   "outputs": [
    {
     "data": {
      "text/plain": [
       "'f'"
      ]
     },
     "execution_count": 79,
     "metadata": {},
     "output_type": "execute_result"
    }
   ],
   "source": [
    "c"
   ]
  },
  {
   "cell_type": "code",
   "execution_count": 80,
   "id": "415449f0-8a9c-422b-a22e-e1bd9545ffe8",
   "metadata": {},
   "outputs": [
    {
     "data": {
      "text/plain": [
       "['s',\n",
       " 'p',\n",
       " 'f',\n",
       " 'o',\n",
       " 'm',\n",
       " 'a',\n",
       " 's',\n",
       " 'p',\n",
       " 'o',\n",
       " 'f',\n",
       " 'm',\n",
       " 'p',\n",
       " 'a',\n",
       " 's',\n",
       " 'o',\n",
       " 'm',\n",
       " 'f',\n",
       " 'm',\n",
       " 'o',\n",
       " 'a',\n",
       " 's',\n",
       " 'f',\n",
       " 'm',\n",
       " ',',\n",
       " '.',\n",
       " 's',\n",
       " 'd',\n",
       " 'p',\n",
       " 'w',\n",
       " 'e',\n",
       " 'o',\n",
       " 'a',\n",
       " 's',\n",
       " 'f',\n",
       " 'm',\n",
       " 'a',\n",
       " 's',\n",
       " 'p',\n",
       " 'f']"
      ]
     },
     "execution_count": 80,
     "metadata": {},
     "output_type": "execute_result"
    }
   ],
   "source": [
    "d"
   ]
  },
  {
   "cell_type": "code",
   "execution_count": null,
   "id": "d81e2a99-0247-4498-819f-5ff72cb3caf6",
   "metadata": {},
   "outputs": [],
   "source": []
  }
 ],
 "metadata": {
  "kernelspec": {
   "display_name": "Python 3 (ipykernel)",
   "language": "python",
   "name": "python3"
  },
  "language_info": {
   "codemirror_mode": {
    "name": "ipython",
    "version": 3
   },
   "file_extension": ".py",
   "mimetype": "text/x-python",
   "name": "python",
   "nbconvert_exporter": "python",
   "pygments_lexer": "ipython3",
   "version": "3.12.2"
  }
 },
 "nbformat": 4,
 "nbformat_minor": 5
}
