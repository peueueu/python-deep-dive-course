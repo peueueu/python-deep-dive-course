{
 "cells": [
  {
   "cell_type": "code",
   "execution_count": 10,
   "id": "63788309-a3ba-4ca2-9f6d-af9ee2c0c590",
   "metadata": {},
   "outputs": [],
   "source": [
    "t = (1, 2, 3) # The commas are the symbol that defines the tuple, if needed to create an empty tuple t = ()"
   ]
  },
  {
   "cell_type": "code",
   "execution_count": 9,
   "id": "fa7e8b11-f0bc-4e66-b331-2996eae4fab1",
   "metadata": {},
   "outputs": [
    {
     "data": {
      "text/plain": [
       "tuple"
      ]
     },
     "execution_count": 9,
     "metadata": {},
     "output_type": "execute_result"
    }
   ],
   "source": [
    "type(t)"
   ]
  },
  {
   "cell_type": "code",
   "execution_count": 12,
   "id": "31b11076-ef34-4a74-bdc6-c472b6179bbd",
   "metadata": {},
   "outputs": [],
   "source": [
    "a, b, c = [1, 'a', 3.14]"
   ]
  },
  {
   "cell_type": "code",
   "execution_count": 22,
   "id": "6c0a0720-a35e-42a8-875c-50d3f41c2116",
   "metadata": {},
   "outputs": [],
   "source": [
    "(a, b) = (1,2)"
   ]
  },
  {
   "cell_type": "code",
   "execution_count": 28,
   "id": "f614042f-335d-41ac-b893-e363c1918dec",
   "metadata": {},
   "outputs": [],
   "source": [
    "a, b = 10, 20"
   ]
  },
  {
   "cell_type": "code",
   "execution_count": 29,
   "id": "dccd363a-f1b6-4ec3-8f47-c174347ee733",
   "metadata": {},
   "outputs": [
    {
     "data": {
      "text/plain": [
       "10"
      ]
     },
     "execution_count": 29,
     "metadata": {},
     "output_type": "execute_result"
    }
   ],
   "source": [
    "a"
   ]
  },
  {
   "cell_type": "code",
   "execution_count": 30,
   "id": "016886ae-67a0-488a-a16e-2ea961a63d85",
   "metadata": {},
   "outputs": [
    {
     "data": {
      "text/plain": [
       "20"
      ]
     },
     "execution_count": 30,
     "metadata": {},
     "output_type": "execute_result"
    }
   ],
   "source": [
    "b"
   ]
  },
  {
   "cell_type": "code",
   "execution_count": 31,
   "id": "b8bd6a75-a1c3-49e2-832a-4d7abb955b58",
   "metadata": {},
   "outputs": [],
   "source": [
    "a, b = b, a"
   ]
  },
  {
   "cell_type": "code",
   "execution_count": 32,
   "id": "33657065-7bd8-4eed-a6af-96a27c942f92",
   "metadata": {},
   "outputs": [
    {
     "data": {
      "text/plain": [
       "20"
      ]
     },
     "execution_count": 32,
     "metadata": {},
     "output_type": "execute_result"
    }
   ],
   "source": [
    "a"
   ]
  },
  {
   "cell_type": "code",
   "execution_count": 33,
   "id": "1f8a425e-47ab-4f3d-a13c-73d2aa7dc6e2",
   "metadata": {},
   "outputs": [
    {
     "data": {
      "text/plain": [
       "10"
      ]
     },
     "execution_count": 33,
     "metadata": {},
     "output_type": "execute_result"
    }
   ],
   "source": [
    "b"
   ]
  },
  {
   "cell_type": "code",
   "execution_count": 34,
   "id": "ec5f7adb-b80b-4490-800a-2517538d26b7",
   "metadata": {},
   "outputs": [],
   "source": [
    "c = (id(b), id(a))"
   ]
  },
  {
   "cell_type": "code",
   "execution_count": 35,
   "id": "b6b6b29c-5e77-4b32-913e-7f5241f900f3",
   "metadata": {},
   "outputs": [
    {
     "data": {
      "text/plain": [
       "(4439253192, 4439253512)"
      ]
     },
     "execution_count": 35,
     "metadata": {},
     "output_type": "execute_result"
    }
   ],
   "source": [
    "c"
   ]
  },
  {
   "cell_type": "code",
   "execution_count": 36,
   "id": "d4aa1ee9-2403-41bc-b542-066c54444d0c",
   "metadata": {},
   "outputs": [],
   "source": [
    "a, b, c = 'XYZ'"
   ]
  },
  {
   "cell_type": "code",
   "execution_count": 37,
   "id": "cb4e91c1-422a-42fa-ac03-b61a23b3ff1b",
   "metadata": {},
   "outputs": [
    {
     "data": {
      "text/plain": [
       "'X'"
      ]
     },
     "execution_count": 37,
     "metadata": {},
     "output_type": "execute_result"
    }
   ],
   "source": [
    "a"
   ]
  },
  {
   "cell_type": "code",
   "execution_count": 38,
   "id": "c3dea1c1-baf2-4b86-bae5-53d6bc85a0e2",
   "metadata": {},
   "outputs": [
    {
     "data": {
      "text/plain": [
       "'Y'"
      ]
     },
     "execution_count": 38,
     "metadata": {},
     "output_type": "execute_result"
    }
   ],
   "source": [
    "b"
   ]
  },
  {
   "cell_type": "code",
   "execution_count": 39,
   "id": "60e59d95-ef1a-4777-b312-e6c0b224583b",
   "metadata": {},
   "outputs": [
    {
     "data": {
      "text/plain": [
       "'Z'"
      ]
     },
     "execution_count": 39,
     "metadata": {},
     "output_type": "execute_result"
    }
   ],
   "source": [
    "c"
   ]
  },
  {
   "cell_type": "code",
   "execution_count": 42,
   "id": "a9b647f5-7c89-4dd6-8f35-c3dd09f18b71",
   "metadata": {},
   "outputs": [],
   "source": [
    "dict1 = {'a': 1, 'b': 2, 'c': 3, 'd': 4}"
   ]
  },
  {
   "cell_type": "code",
   "execution_count": 43,
   "id": "34206ace-4d54-4c22-9300-525a2bdc8268",
   "metadata": {},
   "outputs": [
    {
     "name": "stdout",
     "output_type": "stream",
     "text": [
      "key=a, value=1\n",
      "key=b, value=2\n",
      "key=c, value=3\n",
      "key=d, value=4\n"
     ]
    }
   ],
   "source": [
    "for key, value in dict1.items():\n",
    "    print('key={0}, value={1}'.format(key, value))"
   ]
  }
 ],
 "metadata": {
  "kernelspec": {
   "display_name": "Python 3 (ipykernel)",
   "language": "python",
   "name": "python3"
  },
  "language_info": {
   "codemirror_mode": {
    "name": "ipython",
    "version": 3
   },
   "file_extension": ".py",
   "mimetype": "text/x-python",
   "name": "python",
   "nbconvert_exporter": "python",
   "pygments_lexer": "ipython3",
   "version": "3.12.2"
  }
 },
 "nbformat": 4,
 "nbformat_minor": 5
}
