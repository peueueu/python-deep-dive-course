{
 "cells": [
  {
   "cell_type": "markdown",
   "id": "e49f35c9-c166-4a29-919a-3bf42458b3c8",
   "metadata": {},
   "source": [
    "# A Simple Function Timer"
   ]
  },
  {
   "cell_type": "code",
   "execution_count": 91,
   "id": "8d2a7f69-c345-4356-a5b6-c805383f301e",
   "metadata": {},
   "outputs": [],
   "source": [
    "import time"
   ]
  },
  {
   "cell_type": "code",
   "execution_count": 92,
   "id": "a6ad87c6-4f1e-4200-b909-fb852c171cb5",
   "metadata": {},
   "outputs": [],
   "source": [
    "def time_it(fn, *args, rep=1, **kwargs):\n",
    "    start = time.perf_counter()\n",
    "    for i in range(rep):\n",
    "        fn(*args, **kwargs)\n",
    "    end = time.perf_counter()\n",
    "    ellapsed_time = (end - start)/rep\n",
    "    return ellapsed_time"
   ]
  },
  {
   "cell_type": "code",
   "execution_count": 93,
   "id": "f39b2c99-0113-48e5-968c-2038b8ca033c",
   "metadata": {},
   "outputs": [
    {
     "name": "stdout",
     "output_type": "stream",
     "text": [
      "1 - 2 - 3 ***\n",
      "1 - 2 - 3 ***\n",
      "1 - 2 - 3 ***\n",
      "1 - 2 - 3 ***\n",
      "1 - 2 - 3 ***\n"
     ]
    },
    {
     "data": {
      "text/plain": [
       "0.00010207280283793806"
      ]
     },
     "execution_count": 93,
     "metadata": {},
     "output_type": "execute_result"
    }
   ],
   "source": [
    "time_it(print, 1, 2, 3, sep=' - ', end=' ***\\n', rep=5)"
   ]
  },
  {
   "cell_type": "code",
   "execution_count": 94,
   "id": "d538cef5-d975-4123-a361-f9a850640d9e",
   "metadata": {},
   "outputs": [],
   "source": [
    "def compute_powers_n1(n, *, start=1, end):\n",
    "    results = []\n",
    "    for i in range(start, end):\n",
    "        results.append(n**i)\n",
    "    return results"
   ]
  },
  {
   "cell_type": "code",
   "execution_count": 95,
   "id": "0627c328-f528-463f-b914-55cbe448ccb6",
   "metadata": {},
   "outputs": [
    {
     "data": {
      "text/plain": [
       "[2, 4, 8, 16]"
      ]
     },
     "execution_count": 95,
     "metadata": {},
     "output_type": "execute_result"
    }
   ],
   "source": [
    "compute_powers_n1(2, end=5)"
   ]
  },
  {
   "cell_type": "code",
   "execution_count": 96,
   "id": "4f42552d-5993-4b04-8188-7b71ac54571c",
   "metadata": {},
   "outputs": [],
   "source": [
    "def compute_powers_n2(n, *, start=1, end):\n",
    "    results = []\n",
    "    return [n**i for i in range(start, end)]"
   ]
  },
  {
   "cell_type": "code",
   "execution_count": 97,
   "id": "fb2ea690-6609-4d3d-b786-e85d5edb6f30",
   "metadata": {},
   "outputs": [
    {
     "data": {
      "text/plain": [
       "[2, 4, 8, 16]"
      ]
     },
     "execution_count": 97,
     "metadata": {},
     "output_type": "execute_result"
    }
   ],
   "source": [
    "compute_powers_n2(2, end=5)"
   ]
  },
  {
   "cell_type": "code",
   "execution_count": 98,
   "id": "9f35f23f-da38-4b64-bc9d-2ba713c4c7cc",
   "metadata": {},
   "outputs": [],
   "source": [
    "def compute_powers_n3(n, *, start=1, end):\n",
    "    results = []\n",
    "    return (n**i for i in range(start, end))"
   ]
  },
  {
   "cell_type": "code",
   "execution_count": 99,
   "id": "8c6a6eed-3354-42b4-9b35-555fd123d6b3",
   "metadata": {},
   "outputs": [
    {
     "data": {
      "text/plain": [
       "[2, 4, 8, 16]"
      ]
     },
     "execution_count": 99,
     "metadata": {},
     "output_type": "execute_result"
    }
   ],
   "source": [
    "list(compute_powers_n3(2, end=5)) # Turn generator into a list just for displaying"
   ]
  },
  {
   "cell_type": "code",
   "execution_count": 100,
   "id": "aef31042-8350-40ae-8df1-79cbdcbbe62e",
   "metadata": {},
   "outputs": [
    {
     "data": {
      "text/plain": [
       "0.3848009206005372"
      ]
     },
     "execution_count": 100,
     "metadata": {},
     "output_type": "execute_result"
    }
   ],
   "source": [
    "time_it(compute_powers_n1, 2, end=20000, rep=5)"
   ]
  },
  {
   "cell_type": "code",
   "execution_count": 101,
   "id": "96b2799c-9a11-4e5e-b288-730f8cef49bf",
   "metadata": {},
   "outputs": [
    {
     "data": {
      "text/plain": [
       "0.3662932854000246"
      ]
     },
     "execution_count": 101,
     "metadata": {},
     "output_type": "execute_result"
    }
   ],
   "source": [
    "time_it(compute_powers_n2, 2, end=20000, rep=5)"
   ]
  },
  {
   "cell_type": "code",
   "execution_count": 102,
   "id": "902a41ef-8db0-4750-a2df-45e37d179710",
   "metadata": {},
   "outputs": [
    {
     "data": {
      "text/plain": [
       "1.339599839411676e-06"
      ]
     },
     "execution_count": 102,
     "metadata": {},
     "output_type": "execute_result"
    }
   ],
   "source": [
    "time_it(compute_powers_n3, 2, end=20000, rep=5)"
   ]
  }
 ],
 "metadata": {
  "kernelspec": {
   "display_name": "Python 3 (ipykernel)",
   "language": "python",
   "name": "python3"
  },
  "language_info": {
   "codemirror_mode": {
    "name": "ipython",
    "version": 3
   },
   "file_extension": ".py",
   "mimetype": "text/x-python",
   "name": "python",
   "nbconvert_exporter": "python",
   "pygments_lexer": "ipython3",
   "version": "3.12.2"
  }
 },
 "nbformat": 4,
 "nbformat_minor": 5
}
