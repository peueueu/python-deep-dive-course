{
 "cells": [
  {
   "cell_type": "code",
   "execution_count": 1,
   "id": "67de766e-8a57-4c71-8984-fffed1020e7d",
   "metadata": {},
   "outputs": [],
   "source": [
    "### Keyword Arguments"
   ]
  },
  {
   "cell_type": "code",
   "execution_count": 9,
   "id": "e49be263-fb5d-4e37-9fc7-c9a504afd5ed",
   "metadata": {},
   "outputs": [],
   "source": [
    "def func(a, b, *args, d): # The *args exhausts all positional arguments and d must be passed as a keyword argument\n",
    "    print(args)\n",
    "    return a + b + sum(args) + d"
   ]
  },
  {
   "cell_type": "code",
   "execution_count": 10,
   "id": "04ecb916-293b-43b2-b729-9244a9ff632e",
   "metadata": {},
   "outputs": [
    {
     "name": "stdout",
     "output_type": "stream",
     "text": [
      "(3, 4, 5, 6, 9)\n"
     ]
    },
    {
     "data": {
      "text/plain": [
       "43"
      ]
     },
     "execution_count": 10,
     "metadata": {},
     "output_type": "execute_result"
    }
   ],
   "source": [
    "func(1, 2, 3, 4, 5, 6, 9, d = 13)"
   ]
  },
  {
   "cell_type": "code",
   "execution_count": 11,
   "id": "42a22943-78c3-4d3f-938e-c78892be7b97",
   "metadata": {},
   "outputs": [],
   "source": [
    "# We can omit any mandatory positional args doing:\n",
    "def func(*args, d):\n",
    "    return {'*args': args, 'd': d}"
   ]
  },
  {
   "cell_type": "code",
   "execution_count": 12,
   "id": "3cfe03a8-da14-4756-9684-ea68e460540d",
   "metadata": {},
   "outputs": [
    {
     "data": {
      "text/plain": [
       "{'*args': (1, 2, 3), 'd': 100}"
      ]
     },
     "execution_count": 12,
     "metadata": {},
     "output_type": "execute_result"
    }
   ],
   "source": [
    "func(1, 2, 3, d = 100)"
   ]
  },
  {
   "cell_type": "code",
   "execution_count": 13,
   "id": "7ef48a58-0673-49f6-a013-1f6725bc8d9a",
   "metadata": {},
   "outputs": [
    {
     "data": {
      "text/plain": [
       "{'*args': (), 'd': 100}"
      ]
     },
     "execution_count": 13,
     "metadata": {},
     "output_type": "execute_result"
    }
   ],
   "source": [
    "func(d=100)"
   ]
  },
  {
   "cell_type": "code",
   "execution_count": 14,
   "id": "12bb750f-a678-4579-9acb-38181dfcbd2c",
   "metadata": {},
   "outputs": [],
   "source": [
    "# We also can force no positional arguments at all:\n",
    "\n",
    "def func(*, d):\n",
    "    return d"
   ]
  },
  {
   "cell_type": "code",
   "execution_count": 16,
   "id": "77b0745c-dd7b-4ffe-ac83-c062e7e7bae5",
   "metadata": {},
   "outputs": [
    {
     "data": {
      "text/plain": [
       "100"
      ]
     },
     "execution_count": 16,
     "metadata": {},
     "output_type": "execute_result"
    }
   ],
   "source": [
    "func(d = 100)"
   ]
  },
  {
   "cell_type": "code",
   "execution_count": 18,
   "id": "59050514-1cbc-4f67-a099-ddb16efbdd5b",
   "metadata": {},
   "outputs": [
    {
     "ename": "TypeError",
     "evalue": "func() takes 0 positional arguments but 3 positional arguments (and 1 keyword-only argument) were given",
     "output_type": "error",
     "traceback": [
      "\u001b[0;31m---------------------------------------------------------------------------\u001b[0m",
      "\u001b[0;31mTypeError\u001b[0m                                 Traceback (most recent call last)",
      "Cell \u001b[0;32mIn[18], line 3\u001b[0m\n\u001b[1;32m      1\u001b[0m \u001b[38;5;66;03m# if we try to pass any pos arguments, we get an exception:\u001b[39;00m\n\u001b[0;32m----> 3\u001b[0m \u001b[43mfunc\u001b[49m\u001b[43m(\u001b[49m\u001b[38;5;241;43m1\u001b[39;49m\u001b[43m,\u001b[49m\u001b[43m \u001b[49m\u001b[38;5;241;43m2\u001b[39;49m\u001b[43m,\u001b[49m\u001b[43m \u001b[49m\u001b[38;5;241;43m3\u001b[39;49m\u001b[43m,\u001b[49m\u001b[43m \u001b[49m\u001b[43md\u001b[49m\u001b[43m \u001b[49m\u001b[38;5;241;43m=\u001b[39;49m\u001b[43m \u001b[49m\u001b[38;5;241;43m100\u001b[39;49m\u001b[43m)\u001b[49m\n",
      "\u001b[0;31mTypeError\u001b[0m: func() takes 0 positional arguments but 3 positional arguments (and 1 keyword-only argument) were given"
     ]
    }
   ],
   "source": [
    "# if we try to pass any pos arguments, we get an exception:\n",
    "\n",
    "func(1, 2, 3, d = 100)"
   ]
  },
  {
   "cell_type": "code",
   "execution_count": 20,
   "id": "08b35290-24d7-4782-8fff-ccc17c404c7e",
   "metadata": {},
   "outputs": [],
   "source": [
    "# **kwargs\n",
    "\n",
    "def func(**kwargs):\n",
    "    print(kwargs)"
   ]
  },
  {
   "cell_type": "code",
   "execution_count": 22,
   "id": "f96d672c-0885-4748-b646-4e29eac676d3",
   "metadata": {},
   "outputs": [
    {
     "name": "stdout",
     "output_type": "stream",
     "text": [
      "{'a': 1, 'b': 3, 'c': 13, 'd': 13, 'e': 'Galo'}\n"
     ]
    }
   ],
   "source": [
    "func(a = 1, b = 3, c = 13, d = 13, e = \"Galo\")"
   ]
  },
  {
   "cell_type": "code",
   "execution_count": null,
   "id": "940699eb-7048-4d06-bca0-c01c97f020f4",
   "metadata": {},
   "outputs": [],
   "source": []
  }
 ],
 "metadata": {
  "kernelspec": {
   "display_name": "Python 3 (ipykernel)",
   "language": "python",
   "name": "python3"
  },
  "language_info": {
   "codemirror_mode": {
    "name": "ipython",
    "version": 3
   },
   "file_extension": ".py",
   "mimetype": "text/x-python",
   "name": "python",
   "nbconvert_exporter": "python",
   "pygments_lexer": "ipython3",
   "version": "3.12.2"
  }
 },
 "nbformat": 4,
 "nbformat_minor": 5
}
