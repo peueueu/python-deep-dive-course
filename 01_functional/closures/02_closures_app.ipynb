{
 "cells": [
  {
   "cell_type": "code",
   "execution_count": 35,
   "id": "39d5cbbe-e5f0-4b28-9121-ebdbef9f4e72",
   "metadata": {},
   "outputs": [],
   "source": [
    "class Averager:\n",
    "    def __init__(self):\n",
    "        self.total = 0\n",
    "        self.count = 0\n",
    "        \n",
    "    def add(self, number):\n",
    "        self.total += number\n",
    "        self.count += 1\n",
    "        return self.total / self.count"
   ]
  },
  {
   "cell_type": "code",
   "execution_count": 36,
   "id": "2ea887e8-0102-467c-9984-4cd66091f0eb",
   "metadata": {},
   "outputs": [],
   "source": [
    "a = Averager()"
   ]
  },
  {
   "cell_type": "code",
   "execution_count": 37,
   "id": "a2fadfd0-b02b-4023-8074-085c59fb46e4",
   "metadata": {},
   "outputs": [
    {
     "data": {
      "text/plain": [
       "10.0"
      ]
     },
     "execution_count": 37,
     "metadata": {},
     "output_type": "execute_result"
    }
   ],
   "source": [
    "a.add(10)"
   ]
  },
  {
   "cell_type": "code",
   "execution_count": 38,
   "id": "23f3071d-a737-4a8e-9589-d73f89b776b0",
   "metadata": {},
   "outputs": [
    {
     "data": {
      "text/plain": [
       "15.0"
      ]
     },
     "execution_count": 38,
     "metadata": {},
     "output_type": "execute_result"
    }
   ],
   "source": [
    "a.add(20)"
   ]
  },
  {
   "cell_type": "code",
   "execution_count": 39,
   "id": "b5c1e87f-2ae2-4b50-b9a7-966f7c73249c",
   "metadata": {},
   "outputs": [
    {
     "data": {
      "text/plain": [
       "20.0"
      ]
     },
     "execution_count": 39,
     "metadata": {},
     "output_type": "execute_result"
    }
   ],
   "source": [
    "a.add(30)"
   ]
  },
  {
   "cell_type": "code",
   "execution_count": 40,
   "id": "1b97dbb4-b8bf-49d1-86d2-24cf3640a03b",
   "metadata": {},
   "outputs": [],
   "source": [
    "b = Averager()"
   ]
  },
  {
   "cell_type": "code",
   "execution_count": 41,
   "id": "272ebd1c-4fc2-492f-b9f7-ed1be785a0a9",
   "metadata": {},
   "outputs": [
    {
     "data": {
      "text/plain": [
       "10.0"
      ]
     },
     "execution_count": 41,
     "metadata": {},
     "output_type": "execute_result"
    }
   ],
   "source": [
    "b.add(10)"
   ]
  },
  {
   "cell_type": "code",
   "execution_count": 42,
   "id": "c8ee29d0-04cc-43b4-ac06-aa2ae50853d7",
   "metadata": {},
   "outputs": [],
   "source": [
    "def averager():\n",
    "    numbers = []\n",
    "    def add(number):\n",
    "        numbers.append(number)\n",
    "        total = sum(numbers)\n",
    "        count = len(numbers)\n",
    "        return total/count\n",
    "    return add"
   ]
  },
  {
   "cell_type": "code",
   "execution_count": 57,
   "id": "8862e60d-ad4e-4a21-8d25-7d05fd128cd7",
   "metadata": {},
   "outputs": [],
   "source": [
    "a = averager()"
   ]
  },
  {
   "cell_type": "code",
   "execution_count": 58,
   "id": "9474fe97-8d4e-4030-b2b0-1698c663e5f3",
   "metadata": {},
   "outputs": [
    {
     "data": {
      "text/plain": [
       "10.0"
      ]
     },
     "execution_count": 58,
     "metadata": {},
     "output_type": "execute_result"
    }
   ],
   "source": [
    "a(10)"
   ]
  },
  {
   "cell_type": "code",
   "execution_count": 59,
   "id": "3280c8ad-e793-48fc-9adb-405c060cb831",
   "metadata": {},
   "outputs": [
    {
     "data": {
      "text/plain": [
       "15.0"
      ]
     },
     "execution_count": 59,
     "metadata": {},
     "output_type": "execute_result"
    }
   ],
   "source": [
    "a(20)"
   ]
  },
  {
   "cell_type": "code",
   "execution_count": 60,
   "id": "a799afce-2215-4c44-a2b8-b2b6fdd5a0c8",
   "metadata": {},
   "outputs": [
    {
     "data": {
      "text/plain": [
       "20.0"
      ]
     },
     "execution_count": 60,
     "metadata": {},
     "output_type": "execute_result"
    }
   ],
   "source": [
    "a(30)"
   ]
  },
  {
   "cell_type": "code",
   "execution_count": 61,
   "id": "14003154-27bd-4d90-8a0e-6d1bbe686ef1",
   "metadata": {},
   "outputs": [],
   "source": [
    "b = averager()"
   ]
  },
  {
   "cell_type": "code",
   "execution_count": 62,
   "id": "7156546e-8f6a-46e9-be49-0f87dd566b90",
   "metadata": {},
   "outputs": [
    {
     "data": {
      "text/plain": [
       "10.0"
      ]
     },
     "execution_count": 62,
     "metadata": {},
     "output_type": "execute_result"
    }
   ],
   "source": [
    "b(10)"
   ]
  },
  {
   "cell_type": "code",
   "execution_count": 63,
   "id": "b5274027-c911-4271-a235-fe9d0760e5d1",
   "metadata": {},
   "outputs": [
    {
     "data": {
      "text/plain": [
       "15.0"
      ]
     },
     "execution_count": 63,
     "metadata": {},
     "output_type": "execute_result"
    }
   ],
   "source": [
    "b(20)"
   ]
  },
  {
   "cell_type": "code",
   "execution_count": 50,
   "id": "ed633dcc-2dbc-468c-9754-24e356cff77b",
   "metadata": {},
   "outputs": [
    {
     "data": {
      "text/plain": [
       "(<cell at 0x1111637f0: list object at 0x111581e00>,)"
      ]
     },
     "execution_count": 50,
     "metadata": {},
     "output_type": "execute_result"
    }
   ],
   "source": [
    "a.__closure__"
   ]
  },
  {
   "cell_type": "code",
   "execution_count": 51,
   "id": "6dc9063f-2f2b-4f5d-9e2b-0562292013ee",
   "metadata": {},
   "outputs": [
    {
     "data": {
      "text/plain": [
       "(<cell at 0x1111a0250: list object at 0x111678180>,)"
      ]
     },
     "execution_count": 51,
     "metadata": {},
     "output_type": "execute_result"
    }
   ],
   "source": [
    "b.__closure__"
   ]
  },
  {
   "cell_type": "code",
   "execution_count": 52,
   "id": "d48a8223-d73a-4b88-b1cf-7c9c5871eea4",
   "metadata": {},
   "outputs": [],
   "source": [
    "def averager():\n",
    "    total = 0\n",
    "    count = 0\n",
    "    def add(number):\n",
    "        nonlocal total\n",
    "        nonlocal count\n",
    "        total = total + number\n",
    "        count = count + 1\n",
    "        return total/count\n",
    "    return add"
   ]
  },
  {
   "cell_type": "code",
   "execution_count": 53,
   "id": "a03ba1a3-5ac2-4976-bab7-0085086be13b",
   "metadata": {},
   "outputs": [],
   "source": [
    "a = averager()"
   ]
  },
  {
   "cell_type": "code",
   "execution_count": 54,
   "id": "6aa5f46d-ce2b-4dea-a784-1a73664d2cbe",
   "metadata": {},
   "outputs": [],
   "source": [
    "b = averager()"
   ]
  },
  {
   "cell_type": "code",
   "execution_count": 55,
   "id": "4d7502b4-8508-4295-ad47-0004cf38adfb",
   "metadata": {},
   "outputs": [
    {
     "data": {
      "text/plain": [
       "(<cell at 0x1111a0940: int object at 0x10ee99f88>,\n",
       " <cell at 0x1111a1de0: int object at 0x10ee99f88>)"
      ]
     },
     "execution_count": 55,
     "metadata": {},
     "output_type": "execute_result"
    }
   ],
   "source": [
    "a.__closure__"
   ]
  },
  {
   "cell_type": "code",
   "execution_count": 56,
   "id": "3f5395c6-6266-41dc-8333-9f69d418dc31",
   "metadata": {},
   "outputs": [
    {
     "data": {
      "text/plain": [
       "(<cell at 0x1111a0be0: int object at 0x10ee99f88>,\n",
       " <cell at 0x1111a2890: int object at 0x10ee99f88>)"
      ]
     },
     "execution_count": 56,
     "metadata": {},
     "output_type": "execute_result"
    }
   ],
   "source": [
    "b.__closure__"
   ]
  },
  {
   "cell_type": "code",
   "execution_count": 23,
   "id": "6060617b-23de-4a5e-a1f9-9a96fdfe4fb2",
   "metadata": {},
   "outputs": [
    {
     "data": {
      "text/plain": [
       "('count', 'total')"
      ]
     },
     "execution_count": 23,
     "metadata": {},
     "output_type": "execute_result"
    }
   ],
   "source": [
    "a.__code__.co_freevars"
   ]
  },
  {
   "cell_type": "code",
   "execution_count": 24,
   "id": "df9efba3-8fe5-47d9-be28-82efb4067095",
   "metadata": {},
   "outputs": [
    {
     "data": {
      "text/plain": [
       "10.0"
      ]
     },
     "execution_count": 24,
     "metadata": {},
     "output_type": "execute_result"
    }
   ],
   "source": [
    "a(10)"
   ]
  },
  {
   "cell_type": "code",
   "execution_count": 25,
   "id": "715ae951-1af9-49cf-8403-024ede16b066",
   "metadata": {},
   "outputs": [
    {
     "data": {
      "text/plain": [
       "15.0"
      ]
     },
     "execution_count": 25,
     "metadata": {},
     "output_type": "execute_result"
    }
   ],
   "source": [
    "a(20)"
   ]
  },
  {
   "cell_type": "code",
   "execution_count": 26,
   "id": "5026f514-26d0-47fd-89a1-a1da4d5ceba3",
   "metadata": {},
   "outputs": [
    {
     "data": {
      "text/plain": [
       "30.0"
      ]
     },
     "execution_count": 26,
     "metadata": {},
     "output_type": "execute_result"
    }
   ],
   "source": [
    "b(30)"
   ]
  },
  {
   "cell_type": "code",
   "execution_count": 65,
   "id": "9b0345be-15d8-48e9-82f0-158e9c26f66b",
   "metadata": {},
   "outputs": [],
   "source": [
    "from time import perf_counter"
   ]
  },
  {
   "cell_type": "code",
   "execution_count": 66,
   "id": "084d8de5-3b45-4e57-a950-8932de96a018",
   "metadata": {},
   "outputs": [
    {
     "data": {
      "text/plain": [
       "422456.002395407"
      ]
     },
     "execution_count": 66,
     "metadata": {},
     "output_type": "execute_result"
    }
   ],
   "source": [
    "perf_counter()"
   ]
  },
  {
   "cell_type": "code",
   "execution_count": 67,
   "id": "cfc984e8-6ca2-45f7-95aa-18cfc8f566d3",
   "metadata": {},
   "outputs": [
    {
     "data": {
      "text/plain": [
       "422466.577235884"
      ]
     },
     "execution_count": 67,
     "metadata": {},
     "output_type": "execute_result"
    }
   ],
   "source": [
    "perf_counter()"
   ]
  },
  {
   "cell_type": "code",
   "execution_count": 69,
   "id": "e8409698-95e1-4c48-b33c-7cfe54cc7528",
   "metadata": {},
   "outputs": [],
   "source": [
    "class Timer:\n",
    "    def __init__(self):\n",
    "        self.start = perf_counter()\n",
    "    def poll(self):\n",
    "        return perf_counter() - self.start"
   ]
  },
  {
   "cell_type": "code",
   "execution_count": 70,
   "id": "083ae337-e525-4398-813d-b35dd6b1a7e6",
   "metadata": {},
   "outputs": [],
   "source": [
    "t1 = Timer()"
   ]
  },
  {
   "cell_type": "code",
   "execution_count": 71,
   "id": "648743eb-ba24-44a1-bd74-cf5bf12a4ac7",
   "metadata": {},
   "outputs": [
    {
     "data": {
      "text/plain": [
       "3.4021144570433535"
      ]
     },
     "execution_count": 71,
     "metadata": {},
     "output_type": "execute_result"
    }
   ],
   "source": [
    "t1.poll()"
   ]
  },
  {
   "cell_type": "code",
   "execution_count": 72,
   "id": "da6aba0d-1e36-490d-82da-802f91ee7dc2",
   "metadata": {},
   "outputs": [
    {
     "data": {
      "text/plain": [
       "15.314167309028562"
      ]
     },
     "execution_count": 72,
     "metadata": {},
     "output_type": "execute_result"
    }
   ],
   "source": [
    "t1.poll()"
   ]
  },
  {
   "cell_type": "code",
   "execution_count": 73,
   "id": "d68ae901-999a-45a2-91ad-1a1431f33780",
   "metadata": {},
   "outputs": [
    {
     "data": {
      "text/plain": [
       "216.56164804904256"
      ]
     },
     "execution_count": 73,
     "metadata": {},
     "output_type": "execute_result"
    }
   ],
   "source": [
    "t1.poll()"
   ]
  },
  {
   "cell_type": "code",
   "execution_count": 79,
   "id": "329da1b1-c3a0-46dc-a471-c3da4a9d8210",
   "metadata": {},
   "outputs": [],
   "source": [
    "class Timer:\n",
    "    def __init__(self):\n",
    "        self.start = perf_counter()\n",
    "    def __call__(self):\n",
    "        return perf_counter() - self.start"
   ]
  },
  {
   "cell_type": "code",
   "execution_count": 80,
   "id": "6922b840-4ff1-46a5-9e92-a0bc1642ae74",
   "metadata": {},
   "outputs": [],
   "source": [
    "t1 = Timer()"
   ]
  },
  {
   "cell_type": "code",
   "execution_count": 81,
   "id": "2c4e4495-a2b9-4970-bee4-57ea92c42a49",
   "metadata": {},
   "outputs": [
    {
     "data": {
      "text/plain": [
       "0.2623924660147168"
      ]
     },
     "execution_count": 81,
     "metadata": {},
     "output_type": "execute_result"
    }
   ],
   "source": [
    "t1()"
   ]
  },
  {
   "cell_type": "code",
   "execution_count": 82,
   "id": "06cea1ae-32e5-48b3-afb7-a7ff91f96b8b",
   "metadata": {},
   "outputs": [
    {
     "data": {
      "text/plain": [
       "0.5232470740447752"
      ]
     },
     "execution_count": 82,
     "metadata": {},
     "output_type": "execute_result"
    }
   ],
   "source": [
    "t1()"
   ]
  },
  {
   "cell_type": "code",
   "execution_count": 83,
   "id": "358cefd8-2a00-4789-b277-d6b99ab0caa2",
   "metadata": {},
   "outputs": [
    {
     "data": {
      "text/plain": [
       "0.9233760940260254"
      ]
     },
     "execution_count": 83,
     "metadata": {},
     "output_type": "execute_result"
    }
   ],
   "source": [
    "t1()"
   ]
  },
  {
   "cell_type": "code",
   "execution_count": 85,
   "id": "acbb2476-b88d-4855-8d14-2014dcb4028f",
   "metadata": {},
   "outputs": [
    {
     "data": {
      "text/plain": [
       "19.50822950102156"
      ]
     },
     "execution_count": 85,
     "metadata": {},
     "output_type": "execute_result"
    }
   ],
   "source": [
    "t1()"
   ]
  },
  {
   "cell_type": "code",
   "execution_count": 86,
   "id": "86134f0f-0c0f-4529-b5f3-d4607192ef72",
   "metadata": {},
   "outputs": [
    {
     "data": {
      "text/plain": [
       "23.151598844036926"
      ]
     },
     "execution_count": 86,
     "metadata": {},
     "output_type": "execute_result"
    }
   ],
   "source": [
    "t1()"
   ]
  },
  {
   "cell_type": "code",
   "execution_count": 87,
   "id": "731188fb-af77-47f2-8fd1-707c762c3099",
   "metadata": {},
   "outputs": [],
   "source": [
    "#### CREATING AS A CLOSURE\n",
    "\n",
    "def timer():\n",
    "    start = perf_counter()\n",
    "    def poll():\n",
    "        return perf_counter() - start\n",
    "    return poll"
   ]
  },
  {
   "cell_type": "code",
   "execution_count": 88,
   "id": "654ad1a7-f5d9-423b-a07e-3b9cf90e96e9",
   "metadata": {},
   "outputs": [],
   "source": [
    "t2 = timer()"
   ]
  },
  {
   "cell_type": "code",
   "execution_count": 89,
   "id": "99455222-d508-4c67-a8ff-4b7b39147555",
   "metadata": {},
   "outputs": [
    {
     "data": {
      "text/plain": [
       "2.006619653024245"
      ]
     },
     "execution_count": 89,
     "metadata": {},
     "output_type": "execute_result"
    }
   ],
   "source": [
    "t2()"
   ]
  },
  {
   "cell_type": "code",
   "execution_count": 90,
   "id": "2fb755a6-dc9e-495c-b932-a506a802bdf4",
   "metadata": {},
   "outputs": [
    {
     "data": {
      "text/plain": [
       "8.35034349100897"
      ]
     },
     "execution_count": 90,
     "metadata": {},
     "output_type": "execute_result"
    }
   ],
   "source": [
    "t2()"
   ]
  },
  {
   "cell_type": "code",
   "execution_count": 91,
   "id": "0aa59ade-a0f8-437d-933e-47dce9c3b9a5",
   "metadata": {},
   "outputs": [
    {
     "data": {
      "text/plain": [
       "10.722149113018531"
      ]
     },
     "execution_count": 91,
     "metadata": {},
     "output_type": "execute_result"
    }
   ],
   "source": [
    "t2()"
   ]
  },
  {
   "cell_type": "code",
   "execution_count": 92,
   "id": "ca730576-298f-4555-81f7-aa6e6c0e22cf",
   "metadata": {},
   "outputs": [
    {
     "data": {
      "text/plain": [
       "13.602774484024849"
      ]
     },
     "execution_count": 92,
     "metadata": {},
     "output_type": "execute_result"
    }
   ],
   "source": [
    "t2()"
   ]
  },
  {
   "cell_type": "code",
   "execution_count": 94,
   "id": "d556b133-f2c7-4621-b929-9b7865bce54e",
   "metadata": {},
   "outputs": [],
   "source": [
    "def counter(initial_value=0):\n",
    "    def inc(increment=1):\n",
    "        nonlocal initial_value\n",
    "        initial_value += increment\n",
    "        return initial_value\n",
    "    return inc"
   ]
  },
  {
   "cell_type": "code",
   "execution_count": 95,
   "id": "ba9716ff-df0a-4b34-8bad-f64636c13be5",
   "metadata": {},
   "outputs": [],
   "source": [
    "counter1 = counter()"
   ]
  },
  {
   "cell_type": "code",
   "execution_count": 96,
   "id": "9d972981-2fcc-4a01-a32b-f09a42a47471",
   "metadata": {},
   "outputs": [
    {
     "data": {
      "text/plain": [
       "1"
      ]
     },
     "execution_count": 96,
     "metadata": {},
     "output_type": "execute_result"
    }
   ],
   "source": [
    "counter1()"
   ]
  },
  {
   "cell_type": "code",
   "execution_count": 97,
   "id": "00c65510-5fb6-4fa2-8c10-c851d2cd75e2",
   "metadata": {},
   "outputs": [
    {
     "data": {
      "text/plain": [
       "2"
      ]
     },
     "execution_count": 97,
     "metadata": {},
     "output_type": "execute_result"
    }
   ],
   "source": [
    "counter1()"
   ]
  },
  {
   "cell_type": "code",
   "execution_count": 98,
   "id": "89f4ee32-7993-4ceb-b8ab-4e2878bed9c6",
   "metadata": {},
   "outputs": [
    {
     "data": {
      "text/plain": [
       "3"
      ]
     },
     "execution_count": 98,
     "metadata": {},
     "output_type": "execute_result"
    }
   ],
   "source": [
    "counter1()"
   ]
  },
  {
   "cell_type": "code",
   "execution_count": 131,
   "id": "350619f2-4899-4036-ba57-1c3d421424c2",
   "metadata": {},
   "outputs": [],
   "source": [
    "def counter(fn, counters):\n",
    "    count = 0\n",
    "    def inner(*args, **kwargs):\n",
    "        nonlocal count\n",
    "        count += 1\n",
    "        counters[fn.__name__] = count\n",
    "        return fn(*args, **kwargs)\n",
    "    return inner"
   ]
  },
  {
   "cell_type": "code",
   "execution_count": 113,
   "id": "4eba025f-7564-4bd7-87a4-028bec73e55f",
   "metadata": {},
   "outputs": [],
   "source": [
    "def add(a, b):\n",
    "    return a + b"
   ]
  },
  {
   "cell_type": "code",
   "execution_count": 117,
   "id": "2507330c-da71-4692-80bf-874ffb550967",
   "metadata": {},
   "outputs": [],
   "source": [
    "def mult(a, b):\n",
    "    return a * b"
   ]
  },
  {
   "cell_type": "code",
   "execution_count": 118,
   "id": "6630f2c2-7261-48b3-975b-4c4d7240438e",
   "metadata": {},
   "outputs": [],
   "source": [
    "c = dict()"
   ]
  },
  {
   "cell_type": "code",
   "execution_count": 119,
   "id": "2874c2a6-1102-4568-a04f-26ebc18061bd",
   "metadata": {},
   "outputs": [],
   "source": [
    "counter_add = counter(add, c)"
   ]
  },
  {
   "cell_type": "code",
   "execution_count": 121,
   "id": "32dde9a8-c0c6-4021-8fae-71ae430240eb",
   "metadata": {},
   "outputs": [],
   "source": [
    "counter_mult = counter(mult, c)"
   ]
  },
  {
   "cell_type": "code",
   "execution_count": 122,
   "id": "c6fea232-b4b8-4680-83ed-6b03f707274d",
   "metadata": {},
   "outputs": [
    {
     "data": {
      "text/plain": [
       "430"
      ]
     },
     "execution_count": 122,
     "metadata": {},
     "output_type": "execute_result"
    }
   ],
   "source": [
    "counter_add(10, 420)"
   ]
  },
  {
   "cell_type": "code",
   "execution_count": 123,
   "id": "6fb60527-ab00-4870-9a1e-9c9926720dc2",
   "metadata": {},
   "outputs": [
    {
     "data": {
      "text/plain": [
       "200"
      ]
     },
     "execution_count": 123,
     "metadata": {},
     "output_type": "execute_result"
    }
   ],
   "source": [
    "counter_mult(10, 20)"
   ]
  },
  {
   "cell_type": "code",
   "execution_count": 124,
   "id": "2401fb93-5cb8-434f-a07f-ea8d2599594b",
   "metadata": {},
   "outputs": [
    {
     "data": {
      "text/plain": [
       "231450"
      ]
     },
     "execution_count": 124,
     "metadata": {},
     "output_type": "execute_result"
    }
   ],
   "source": [
    "counter_mult(10, 23145)"
   ]
  },
  {
   "cell_type": "code",
   "execution_count": 132,
   "id": "5e768574-88da-46ac-af3b-6893f1ebfffb",
   "metadata": {},
   "outputs": [
    {
     "data": {
      "text/plain": [
       "{'add': 1, 'mult': 2}"
      ]
     },
     "execution_count": 132,
     "metadata": {},
     "output_type": "execute_result"
    }
   ],
   "source": [
    "c"
   ]
  }
 ],
 "metadata": {
  "kernelspec": {
   "display_name": "Python 3 (ipykernel)",
   "language": "python",
   "name": "python3"
  },
  "language_info": {
   "codemirror_mode": {
    "name": "ipython",
    "version": 3
   },
   "file_extension": ".py",
   "mimetype": "text/x-python",
   "name": "python",
   "nbconvert_exporter": "python",
   "pygments_lexer": "ipython3",
   "version": "3.12.2"
  }
 },
 "nbformat": 4,
 "nbformat_minor": 5
}
