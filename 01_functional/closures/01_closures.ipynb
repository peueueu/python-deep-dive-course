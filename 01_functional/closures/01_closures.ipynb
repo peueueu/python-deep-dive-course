{
 "cells": [
  {
   "cell_type": "code",
   "execution_count": 11,
   "id": "83daf060-3c4a-46f5-805a-9feb6cab790d",
   "metadata": {},
   "outputs": [],
   "source": [
    "def outer():\n",
    "    # ------CLOSURE START--------\n",
    "    x = 'python'\n",
    "\n",
    "    def inner():\n",
    "        print(\"{0} rocks!\".format(x))\n",
    "    # ------CLOSURE END--------\n",
    "    return inner # When we return inner, we are actually \"returning\" the closure"
   ]
  },
  {
   "cell_type": "code",
   "execution_count": 12,
   "id": "aacfe48f-ed4b-47fa-941d-cafcbafa46c6",
   "metadata": {},
   "outputs": [],
   "source": [
    "fn = outer()"
   ]
  },
  {
   "cell_type": "code",
   "execution_count": 20,
   "id": "0cbe742a-e3bd-4e78-8848-6059f367e117",
   "metadata": {},
   "outputs": [
    {
     "name": "stdout",
     "output_type": "stream",
     "text": [
      "python rocks!\n"
     ]
    }
   ],
   "source": [
    "fn() # When we called fn, at this time Python determined the value of x in the extended scope,\n",
    "     # But notice that outer had finish running before we called fn - it's scope was \"gone\"\n",
    "     # So when outer finish running, the closure still has the value of what x was."
   ]
  },
  {
   "cell_type": "markdown",
   "id": "134bcf85-ddf5-4453-b2e3-8e2010c6e00c",
   "metadata": {},
   "source": [
    "### Python Cells and Multi-Scoped Variables"
   ]
  },
  {
   "cell_type": "code",
   "execution_count": 22,
   "id": "cf4e2572-75ab-468b-a83e-4053936e15c2",
   "metadata": {},
   "outputs": [],
   "source": [
    "def outer():\n",
    "    \"\"\"\n",
    "    Here the value of x is shared between two scopes:\n",
    "        * outer\n",
    "        * closure\n",
    "    The label x is in two different scopes but always reference the same \"value\"\n",
    "\n",
    "    Python does this by creating a cell as an intermediary object.\n",
    "    outer.x and inner.x -> cell(0xA500) that is referencing to \"0xFF100\" -> str(0xFF100) \"python\"\n",
    "    \"\"\"\n",
    "    x = 'python'   \n",
    "    def inner():\n",
    "        print(x)\n",
    "    return inner"
   ]
  },
  {
   "cell_type": "code",
   "execution_count": 28,
   "id": "2bc432f5-7a72-4eb6-924d-d19a63c5c178",
   "metadata": {},
   "outputs": [
    {
     "name": "stdout",
     "output_type": "stream",
     "text": [
      "\n",
      "    Here the value of x is shared between two scopes:\n",
      "        * outer\n",
      "        * closure\n",
      "    The label x is in two different scopes but always reference the same \"value\"\n",
      "\n",
      "    Python does this by creating a cell as an intermediary object.\n",
      "    outer.x and inner.x -> cell(0xA500) that is referencing to \"0xFF100\" -> str(0xFF100) \"python\"\n",
      "    \n"
     ]
    }
   ],
   "source": [
    "print(outer.__doc__)"
   ]
  },
  {
   "cell_type": "markdown",
   "id": "16e6e433-2a52-4731-9860-8c98d7b2db3d",
   "metadata": {},
   "source": [
    "### Closures\n",
    "\n",
    "One can think of the closure as a function plus an extended scope that contains the free variables\n",
    "The free variable's value is the object the cell points to - so that could change over time.\n",
    "\n",
    "Everytime the function in the closure is called and the free variable is referenced:\n",
    "    Python looks up the cell object, and then whatever the cell is pointing to\n",
    "    But it won't do this until the function is called"
   ]
  },
  {
   "cell_type": "code",
   "execution_count": 46,
   "id": "4a0302ff-6736-4f97-95da-f5f0422c8d2f",
   "metadata": {},
   "outputs": [],
   "source": [
    "def outer():\n",
    "    a = 100\n",
    "\n",
    "    x = 'python'\n",
    "    print(hex(id(x))) # Returns the indirect reference\n",
    "    def inner():\n",
    "        a = 10\n",
    "        print(hex(id(x))) # Returns the indirect reference\n",
    "        print(\"{0} rocks!\".format(x))\n",
    "    return inner"
   ]
  },
  {
   "cell_type": "code",
   "execution_count": 52,
   "id": "4849d7e0-fbc3-4ad4-9db0-2cc90c0148a3",
   "metadata": {},
   "outputs": [
    {
     "name": "stdout",
     "output_type": "stream",
     "text": [
      "0x107c93780\n"
     ]
    }
   ],
   "source": [
    "fn = outer()"
   ]
  },
  {
   "cell_type": "code",
   "execution_count": 53,
   "id": "a24afb34-e62e-4d1e-956a-5a35de2dc1fa",
   "metadata": {},
   "outputs": [
    {
     "data": {
      "text/plain": [
       "('x',)"
      ]
     },
     "execution_count": 53,
     "metadata": {},
     "output_type": "execute_result"
    }
   ],
   "source": [
    "fn.__code__.co_freevars"
   ]
  },
  {
   "cell_type": "code",
   "execution_count": 54,
   "id": "6d68567d-7971-4071-93e5-4269587818eb",
   "metadata": {},
   "outputs": [
    {
     "data": {
      "text/plain": [
       "()"
      ]
     },
     "execution_count": 54,
     "metadata": {},
     "output_type": "execute_result"
    }
   ],
   "source": [
    "outer.__code__.co_freevars"
   ]
  },
  {
   "cell_type": "code",
   "execution_count": 55,
   "id": "65e014c1-5099-446c-9dc7-f60957a4735b",
   "metadata": {},
   "outputs": [
    {
     "data": {
      "text/plain": [
       "(<cell at 0x10b8dd6c0: str object at 0x107c93780>,)"
      ]
     },
     "execution_count": 55,
     "metadata": {},
     "output_type": "execute_result"
    }
   ],
   "source": [
    "fn.__closure__"
   ]
  },
  {
   "cell_type": "code",
   "execution_count": 56,
   "id": "bccde11e-8eb6-43a9-b33c-362b12d35ad9",
   "metadata": {},
   "outputs": [
    {
     "name": "stdout",
     "output_type": "stream",
     "text": [
      "0x107c93780\n",
      "python rocks!\n"
     ]
    }
   ],
   "source": [
    "fn()"
   ]
  },
  {
   "cell_type": "code",
   "execution_count": 58,
   "id": "877ea4f8-0057-4b0d-9f3e-0a89b411050b",
   "metadata": {},
   "outputs": [],
   "source": [
    "def counter():\n",
    "    count = 0\n",
    "    def inc():\n",
    "        nonlocal count\n",
    "        count += 1\n",
    "        return count\n",
    "    return inc"
   ]
  },
  {
   "cell_type": "code",
   "execution_count": 59,
   "id": "29f1e63a-bf53-4742-a316-07f79c17ebcb",
   "metadata": {},
   "outputs": [],
   "source": [
    "fn = counter()"
   ]
  },
  {
   "cell_type": "code",
   "execution_count": 60,
   "id": "393fe0ae-bae3-471a-9327-2f538b384a36",
   "metadata": {},
   "outputs": [
    {
     "data": {
      "text/plain": [
       "1"
      ]
     },
     "execution_count": 60,
     "metadata": {},
     "output_type": "execute_result"
    }
   ],
   "source": [
    "fn()"
   ]
  },
  {
   "cell_type": "code",
   "execution_count": 61,
   "id": "27f985fc-910c-4fc8-aeca-ba2ef4ca11ac",
   "metadata": {},
   "outputs": [
    {
     "data": {
      "text/plain": [
       "2"
      ]
     },
     "execution_count": 61,
     "metadata": {},
     "output_type": "execute_result"
    }
   ],
   "source": [
    "fn()"
   ]
  },
  {
   "cell_type": "markdown",
   "id": "5ae9ee0b-e3de-482e-9c51-b1e1626fa40b",
   "metadata": {},
   "source": [
    "### Multiple Instances of Closures\n",
    "\n",
    "Everytime we run a function, a new scope is created.\n",
    "\n",
    "If that function generates a closure, a new closure is created everytime as well."
   ]
  },
  {
   "cell_type": "code",
   "execution_count": 62,
   "id": "111e06b8-011d-4fcb-8e41-cb6e0dacef73",
   "metadata": {},
   "outputs": [],
   "source": [
    "f1 = counter()\n",
    "f2 = counter()"
   ]
  },
  {
   "cell_type": "code",
   "execution_count": 63,
   "id": "a9b6d9a9-c51b-4fe8-be42-b69276ddd8c6",
   "metadata": {},
   "outputs": [
    {
     "data": {
      "text/plain": [
       "(<cell at 0x10b42c7f0: int object at 0x108b99f88>,)"
      ]
     },
     "execution_count": 63,
     "metadata": {},
     "output_type": "execute_result"
    }
   ],
   "source": [
    "f1.__closure__"
   ]
  },
  {
   "cell_type": "code",
   "execution_count": 64,
   "id": "e379635e-0884-46b4-9eb0-a3342ef851c7",
   "metadata": {},
   "outputs": [
    {
     "data": {
      "text/plain": [
       "(<cell at 0x10b42cf40: int object at 0x108b99f88>,)"
      ]
     },
     "execution_count": 64,
     "metadata": {},
     "output_type": "execute_result"
    }
   ],
   "source": [
    "f2.__closure__"
   ]
  },
  {
   "cell_type": "code",
   "execution_count": 65,
   "id": "72962af2-b24a-4039-b248-58eed2d0e999",
   "metadata": {},
   "outputs": [
    {
     "data": {
      "text/plain": [
       "1"
      ]
     },
     "execution_count": 65,
     "metadata": {},
     "output_type": "execute_result"
    }
   ],
   "source": [
    "f1()"
   ]
  },
  {
   "cell_type": "code",
   "execution_count": 66,
   "id": "8dd325b3-49a8-4890-8d63-e966108087bf",
   "metadata": {},
   "outputs": [
    {
     "data": {
      "text/plain": [
       "1"
      ]
     },
     "execution_count": 66,
     "metadata": {},
     "output_type": "execute_result"
    }
   ],
   "source": [
    "f2()"
   ]
  },
  {
   "cell_type": "code",
   "execution_count": 67,
   "id": "779f8662-c4db-4db6-8ed5-93ac8832d08a",
   "metadata": {},
   "outputs": [
    {
     "data": {
      "text/plain": [
       "(<cell at 0x10b42c7f0: int object at 0x108b99fa8>,)"
      ]
     },
     "execution_count": 67,
     "metadata": {},
     "output_type": "execute_result"
    }
   ],
   "source": [
    "f1.__closure__"
   ]
  },
  {
   "cell_type": "code",
   "execution_count": 68,
   "id": "3c5999a8-5e87-4e0e-9e55-ad0d051826f4",
   "metadata": {},
   "outputs": [
    {
     "data": {
      "text/plain": [
       "(<cell at 0x10b42cf40: int object at 0x108b99fa8>,)"
      ]
     },
     "execution_count": 68,
     "metadata": {},
     "output_type": "execute_result"
    }
   ],
   "source": [
    "f2.__closure__"
   ]
  },
  {
   "cell_type": "code",
   "execution_count": 69,
   "id": "3086d6aa-1e2c-4850-9471-0e2d922cad11",
   "metadata": {},
   "outputs": [
    {
     "data": {
      "text/plain": [
       "2"
      ]
     },
     "execution_count": 69,
     "metadata": {},
     "output_type": "execute_result"
    }
   ],
   "source": [
    "f2()"
   ]
  },
  {
   "cell_type": "code",
   "execution_count": 70,
   "id": "666aeca0-3f06-4f44-b9a3-802a440c7c8c",
   "metadata": {},
   "outputs": [
    {
     "data": {
      "text/plain": [
       "(<cell at 0x10b42cf40: int object at 0x108b99fc8>,)"
      ]
     },
     "execution_count": 70,
     "metadata": {},
     "output_type": "execute_result"
    }
   ],
   "source": [
    "f2.__closure__"
   ]
  },
  {
   "cell_type": "code",
   "execution_count": 71,
   "id": "dc3c94f6-b121-463c-9832-e2d2bc5b09a7",
   "metadata": {},
   "outputs": [
    {
     "data": {
      "text/plain": [
       "(<cell at 0x10b42c7f0: int object at 0x108b99fa8>,)"
      ]
     },
     "execution_count": 71,
     "metadata": {},
     "output_type": "execute_result"
    }
   ],
   "source": [
    "f1.__closure__"
   ]
  },
  {
   "cell_type": "markdown",
   "id": "c348e8ca-062e-4c88-8006-97a73884ef48",
   "metadata": {},
   "source": [
    "### Shared Extended Scopes"
   ]
  },
  {
   "cell_type": "code",
   "execution_count": 84,
   "id": "3eb9af64-0173-45da-a8e6-efa185663365",
   "metadata": {},
   "outputs": [],
   "source": [
    "def outer():\n",
    "    count = 0 \n",
    "    def inc1():\n",
    "        nonlocal count # count is a free variable - bound to count in the extended scope\n",
    "        count +=1\n",
    "        return count\n",
    "    def inc2():\n",
    "        nonlocal count # count is a free variable - bound to count in the extended scope\n",
    "        count += 1\n",
    "        return count\n",
    "    return inc1, inc2"
   ]
  },
  {
   "cell_type": "code",
   "execution_count": 85,
   "id": "9ccfd4ae-59d6-48f8-9ffe-1982638ca833",
   "metadata": {},
   "outputs": [],
   "source": [
    "f1, f2 = outer()"
   ]
  },
  {
   "cell_type": "code",
   "execution_count": 86,
   "id": "591fb1e2-68e0-4f16-af5b-b7cb0b79130d",
   "metadata": {},
   "outputs": [
    {
     "data": {
      "text/plain": [
       "(<cell at 0x10b8dc820: int object at 0x108b99f88>,)"
      ]
     },
     "execution_count": 86,
     "metadata": {},
     "output_type": "execute_result"
    }
   ],
   "source": [
    "f1.__closure__"
   ]
  },
  {
   "cell_type": "code",
   "execution_count": 87,
   "id": "1af90256-484d-4f44-989b-a5def8c553bf",
   "metadata": {},
   "outputs": [
    {
     "data": {
      "text/plain": [
       "(<cell at 0x10b8dc820: int object at 0x108b99f88>,)"
      ]
     },
     "execution_count": 87,
     "metadata": {},
     "output_type": "execute_result"
    }
   ],
   "source": [
    "f2.__closure__"
   ]
  },
  {
   "cell_type": "code",
   "execution_count": 88,
   "id": "b1de1be3-b9b4-4206-9460-22997b00e385",
   "metadata": {},
   "outputs": [
    {
     "data": {
      "text/plain": [
       "1"
      ]
     },
     "execution_count": 88,
     "metadata": {},
     "output_type": "execute_result"
    }
   ],
   "source": [
    "f1()"
   ]
  },
  {
   "cell_type": "code",
   "execution_count": 89,
   "id": "d1470516-b7c2-47b7-872c-dd71ee37eed5",
   "metadata": {},
   "outputs": [
    {
     "data": {
      "text/plain": [
       "2"
      ]
     },
     "execution_count": 89,
     "metadata": {},
     "output_type": "execute_result"
    }
   ],
   "source": [
    "f2()"
   ]
  },
  {
   "cell_type": "code",
   "execution_count": 90,
   "id": "0757ca35-1922-42e5-94c3-238cbb124518",
   "metadata": {},
   "outputs": [
    {
     "data": {
      "text/plain": [
       "3"
      ]
     },
     "execution_count": 90,
     "metadata": {},
     "output_type": "execute_result"
    }
   ],
   "source": [
    "f1()"
   ]
  },
  {
   "cell_type": "code",
   "execution_count": 91,
   "id": "4c190e8d-a597-4c7e-b60b-6693327c73a1",
   "metadata": {},
   "outputs": [
    {
     "data": {
      "text/plain": [
       "True"
      ]
     },
     "execution_count": 91,
     "metadata": {},
     "output_type": "execute_result"
    }
   ],
   "source": [
    "f1.__closure__ == f2.__closure__"
   ]
  },
  {
   "cell_type": "code",
   "execution_count": 92,
   "id": "165e0f61-8bcc-4ba3-904d-17ce3670f788",
   "metadata": {},
   "outputs": [],
   "source": [
    "def adder(n):\n",
    "    def inner(x):\n",
    "        return x + n\n",
    "    return inner"
   ]
  },
  {
   "cell_type": "code",
   "execution_count": 93,
   "id": "9674341b-d846-47af-aea6-6ee1aff950aa",
   "metadata": {},
   "outputs": [],
   "source": [
    "add_1 = adder(1)\n",
    "add_2 = adder(2)\n",
    "add_3 = adder(3)"
   ]
  },
  {
   "cell_type": "code",
   "execution_count": 94,
   "id": "cb6d6392-0127-48c6-be92-4e46cbf828da",
   "metadata": {},
   "outputs": [
    {
     "data": {
      "text/plain": [
       "11"
      ]
     },
     "execution_count": 94,
     "metadata": {},
     "output_type": "execute_result"
    }
   ],
   "source": [
    "add_1(10)"
   ]
  },
  {
   "cell_type": "code",
   "execution_count": 95,
   "id": "299cef71-1358-4726-816a-bd5e78b2dadf",
   "metadata": {},
   "outputs": [
    {
     "data": {
      "text/plain": [
       "12"
      ]
     },
     "execution_count": 95,
     "metadata": {},
     "output_type": "execute_result"
    }
   ],
   "source": [
    "add_2(10)"
   ]
  },
  {
   "cell_type": "code",
   "execution_count": 96,
   "id": "6dde29c5-668a-4d77-9d48-b5a21f882206",
   "metadata": {},
   "outputs": [
    {
     "data": {
      "text/plain": [
       "13"
      ]
     },
     "execution_count": 96,
     "metadata": {},
     "output_type": "execute_result"
    }
   ],
   "source": [
    "add_3(10)"
   ]
  },
  {
   "cell_type": "code",
   "execution_count": 97,
   "id": "02d768b7-532a-40e8-99e1-3b67e2a4f16f",
   "metadata": {},
   "outputs": [
    {
     "data": {
      "text/plain": [
       "(<cell at 0x10b426260: int object at 0x108b99fa8>,)"
      ]
     },
     "execution_count": 97,
     "metadata": {},
     "output_type": "execute_result"
    }
   ],
   "source": [
    "add_1.__closure__"
   ]
  },
  {
   "cell_type": "code",
   "execution_count": 99,
   "id": "f8aaea52-0354-4e50-bd32-b6baaa1006a0",
   "metadata": {},
   "outputs": [
    {
     "data": {
      "text/plain": [
       "(<cell at 0x10b425fc0: int object at 0x108b99fc8>,)"
      ]
     },
     "execution_count": 99,
     "metadata": {},
     "output_type": "execute_result"
    }
   ],
   "source": [
    "add_2.__closure__"
   ]
  },
  {
   "cell_type": "code",
   "execution_count": 100,
   "id": "90d2c3a0-ccc4-4fab-a4b7-3b4640ebcb4c",
   "metadata": {},
   "outputs": [
    {
     "data": {
      "text/plain": [
       "(<cell at 0x10b427b20: int object at 0x108b99fe8>,)"
      ]
     },
     "execution_count": 100,
     "metadata": {},
     "output_type": "execute_result"
    }
   ],
   "source": [
    "add_3.__closure__"
   ]
  },
  {
   "cell_type": "code",
   "execution_count": 101,
   "id": "8d4da496-e54b-46b7-b5e7-530ef557e8ab",
   "metadata": {},
   "outputs": [],
   "source": [
    "adders = []\n",
    "for n in range(1,4):\n",
    "    adders.append(lambda x: x + n)"
   ]
  },
  {
   "cell_type": "code",
   "execution_count": 102,
   "id": "5c660759-42d3-454d-9e27-a17326518197",
   "metadata": {},
   "outputs": [
    {
     "data": {
      "text/plain": [
       "[<function __main__.<lambda>(x)>,\n",
       " <function __main__.<lambda>(x)>,\n",
       " <function __main__.<lambda>(x)>]"
      ]
     },
     "execution_count": 102,
     "metadata": {},
     "output_type": "execute_result"
    }
   ],
   "source": [
    "adders"
   ]
  },
  {
   "cell_type": "code",
   "execution_count": 103,
   "id": "ccd78811-5a2c-4f56-8a0c-ae151864f9a4",
   "metadata": {},
   "outputs": [
    {
     "data": {
      "text/plain": [
       "3"
      ]
     },
     "execution_count": 103,
     "metadata": {},
     "output_type": "execute_result"
    }
   ],
   "source": [
    "n"
   ]
  },
  {
   "cell_type": "code",
   "execution_count": 104,
   "id": "726f5e75-ff44-46e2-a3ac-170180fb25b6",
   "metadata": {},
   "outputs": [],
   "source": [
    "adders[0].__closure__"
   ]
  },
  {
   "cell_type": "code",
   "execution_count": 105,
   "id": "0df2cbf5-6dc3-4d02-a22d-43e0e6767d7e",
   "metadata": {},
   "outputs": [
    {
     "data": {
      "text/plain": [
       "13"
      ]
     },
     "execution_count": 105,
     "metadata": {},
     "output_type": "execute_result"
    }
   ],
   "source": [
    "adders[0](10)"
   ]
  },
  {
   "cell_type": "code",
   "execution_count": 107,
   "id": "2f60c6df-abcf-41b6-b27c-f4059ef9d519",
   "metadata": {},
   "outputs": [],
   "source": [
    "def create_adders():\n",
    "    adders = []\n",
    "    for n in range(1,4):\n",
    "        adders.append(lambda x: x + n) # this will be evaluated when the lambda runs\n",
    "    return adders"
   ]
  },
  {
   "cell_type": "code",
   "execution_count": 108,
   "id": "e6a14aff-edeb-4122-9d70-199c60618745",
   "metadata": {},
   "outputs": [],
   "source": [
    "adders = create_adders()"
   ]
  },
  {
   "cell_type": "code",
   "execution_count": 116,
   "id": "73ca8144-1070-4aac-968b-359c73508b42",
   "metadata": {},
   "outputs": [
    {
     "data": {
      "text/plain": [
       "(<cell at 0x10b4253c0: int object at 0x108b99fe8>,)"
      ]
     },
     "execution_count": 116,
     "metadata": {},
     "output_type": "execute_result"
    }
   ],
   "source": [
    "adders[0].__closure__"
   ]
  },
  {
   "cell_type": "code",
   "execution_count": 117,
   "id": "303141a9-5db4-402f-ade9-b6e91757c87f",
   "metadata": {},
   "outputs": [
    {
     "data": {
      "text/plain": [
       "(<cell at 0x10b4253c0: int object at 0x108b99fe8>,)"
      ]
     },
     "execution_count": 117,
     "metadata": {},
     "output_type": "execute_result"
    }
   ],
   "source": [
    "adders[1].__closure__"
   ]
  },
  {
   "cell_type": "code",
   "execution_count": 118,
   "id": "d08dd281-ee3c-4cc5-8fa8-69a343ca27bf",
   "metadata": {},
   "outputs": [
    {
     "data": {
      "text/plain": [
       "103"
      ]
     },
     "execution_count": 118,
     "metadata": {},
     "output_type": "execute_result"
    }
   ],
   "source": [
    "adders[2](100)"
   ]
  },
  {
   "cell_type": "code",
   "execution_count": 119,
   "id": "3aee8ebd-d0ae-4407-a134-b20093499da0",
   "metadata": {},
   "outputs": [
    {
     "data": {
      "text/plain": [
       "(<cell at 0x10b4253c0: int object at 0x108b99fe8>,)"
      ]
     },
     "execution_count": 119,
     "metadata": {},
     "output_type": "execute_result"
    }
   ],
   "source": [
    "adders[2].__closure__"
   ]
  },
  {
   "cell_type": "code",
   "execution_count": 121,
   "id": "7bcd35a9-5679-4cec-9b57-403ca2a46604",
   "metadata": {},
   "outputs": [
    {
     "data": {
      "text/plain": [
       "13"
      ]
     },
     "execution_count": 121,
     "metadata": {},
     "output_type": "execute_result"
    }
   ],
   "source": [
    "adders[0](10)"
   ]
  },
  {
   "cell_type": "code",
   "execution_count": 124,
   "id": "b4b303c6-316c-4330-8264-7a3e5253dcae",
   "metadata": {},
   "outputs": [
    {
     "data": {
      "text/plain": [
       "45"
      ]
     },
     "execution_count": 124,
     "metadata": {},
     "output_type": "execute_result"
    }
   ],
   "source": [
    "adders[0](42)"
   ]
  },
  {
   "cell_type": "code",
   "execution_count": 135,
   "id": "29e44f0e-1dd7-4660-8e50-65ae561e6333",
   "metadata": {},
   "outputs": [],
   "source": [
    "def create_adders():\n",
    "    adders = []\n",
    "    for n in range(1,4):\n",
    "        adders.append(lambda x, y=n: x + y) # The default values are evaluated at creation time, so at first, y=1 / This way we are not creating closures\n",
    "    return adders"
   ]
  },
  {
   "cell_type": "code",
   "execution_count": 126,
   "id": "2ef659e2-d673-44c6-9285-d9df7e49638a",
   "metadata": {},
   "outputs": [],
   "source": [
    "adders = create_adders()"
   ]
  },
  {
   "cell_type": "code",
   "execution_count": 136,
   "id": "d384c9fc-1b69-4444-9ba3-1de0756ff065",
   "metadata": {},
   "outputs": [
    {
     "data": {
      "text/plain": [
       "11"
      ]
     },
     "execution_count": 136,
     "metadata": {},
     "output_type": "execute_result"
    }
   ],
   "source": [
    "adders[0](10)"
   ]
  },
  {
   "cell_type": "code",
   "execution_count": 137,
   "id": "4643e83c-6a69-4ea2-b09c-10a95201c908",
   "metadata": {},
   "outputs": [],
   "source": [
    "adders[0].__closure__"
   ]
  },
  {
   "cell_type": "code",
   "execution_count": 138,
   "id": "27f9f4a5-6cef-4f50-a932-f7e3a7a7c5ce",
   "metadata": {},
   "outputs": [
    {
     "data": {
      "text/plain": [
       "()"
      ]
     },
     "execution_count": 138,
     "metadata": {},
     "output_type": "execute_result"
    }
   ],
   "source": [
    "adders[0].__code__.co_freevars"
   ]
  }
 ],
 "metadata": {
  "kernelspec": {
   "display_name": "Python 3 (ipykernel)",
   "language": "python",
   "name": "python3"
  },
  "language_info": {
   "codemirror_mode": {
    "name": "ipython",
    "version": 3
   },
   "file_extension": ".py",
   "mimetype": "text/x-python",
   "name": "python",
   "nbconvert_exporter": "python",
   "pygments_lexer": "ipython3",
   "version": "3.12.2"
  }
 },
 "nbformat": 4,
 "nbformat_minor": 5
}
